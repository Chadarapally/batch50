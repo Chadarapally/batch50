{
 "cells": [
  {
   "cell_type": "code",
   "execution_count": 4,
   "metadata": {},
   "outputs": [
    {
     "name": "stdout",
     "output_type": "stream",
     "text": [
      "before fun call x1=1000, y1=2000\n",
      "inside fun x1=5000, y1=6000\n",
      "after fun call x1=1000, y1=2000\n"
     ]
    }
   ],
   "source": [
    "#\"\"\"X1 and Y1 and defined Globally so after function call Python will clear the function memory i.e X1=5000 and y1=6000 \n",
    "#Z1 which are created within Function\"\"\"\n",
    "x1=1000\n",
    "y1=2000\n",
    "# Stack x1 and y1 values will be displayed in below print#\n",
    "print \"before fun call x1=%s, y1=%s\"%(x1,y1) \n",
    "def fun():\n",
    "    x1=5000\n",
    "    y1=6000\n",
    "    z1=x1+y1\n",
    "    print \"inside fun x1=%s, y1=%s\"%(x1,y1)#5000 and 6000 will be print during the function call\"\"\"\n",
    "fun()#\"\"\"We are calling Function here\"\"\"\n",
    "print \"after fun call x1=%s, y1=%s\"%(x1,y1) #This Print is after function call. So,it'll print Global x1,y1 values\"\"\"\n",
    "    "
   ]
  },
  {
   "cell_type": "code",
   "execution_count": 5,
   "metadata": {},
   "outputs": [
    {
     "name": "stdout",
     "output_type": "stream",
     "text": [
      "before fun call x1=1000, y1=2000\n",
      "inside fun x1=5000, y1=6000\n",
      "after fun call x1=5000, y1=2000\n"
     ]
    }
   ],
   "source": [
    "\n",
    "x1=1000\n",
    "y1=2000\n",
    "print \"before fun call x1=%s, y1=%s\"%(x1,y1) \n",
    "def fun():\n",
    "    global x1 # x1 value will be updated in Global Stack\n",
    "    x1=5000\n",
    "    y1=6000\n",
    "    z1=x1+y1\n",
    "    print \"inside fun x1=%s, y1=%s\"%(x1,y1)\n",
    "fun()\n",
    "print \"after fun call x1=%s, y1=%s\"%(x1,y1) \n",
    "    "
   ]
  },
  {
   "cell_type": "code",
   "execution_count": 8,
   "metadata": {},
   "outputs": [
    {
     "name": "stdout",
     "output_type": "stream",
     "text": [
      "before fun call x1=1000, y1=2000\n",
      "inside fun x1=5000,y1=6000,z1=11000\n",
      "outside fun f1=None\n"
     ]
    }
   ],
   "source": [
    "x1=1000\n",
    "y1=2000\n",
    "print \"before fun call x1=%s, y1=%s\"%(x1,y1)\n",
    "def fun():\n",
    "    global x1\n",
    "    x1=5000\n",
    "    y1=6000\n",
    "    z1=x1+y1\n",
    "    print \"inside fun x1=%s,y1=%s,z1=%s\"%(x1,y1,z1)\n",
    "f1=fun()\n",
    "print \"outside fun f1=%s\"%f1# Here output is None as we are calling f1 outside function"
   ]
  },
  {
   "cell_type": "code",
   "execution_count": 12,
   "metadata": {},
   "outputs": [
    {
     "name": "stdout",
     "output_type": "stream",
     "text": [
      "before fun call x1=1000, y1=2000\n",
      "inside fun x1=5000,y1=6000,z1=11000\n",
      "outside fun f1=11000\n"
     ]
    }
   ],
   "source": [
    "x1=1000\n",
    "y1=2000\n",
    "print \"before fun call x1=%s, y1=%s\"%(x1,y1)\n",
    "def fun():\n",
    "    global x1\n",
    "    x1=5000\n",
    "    y1=6000\n",
    "    z1=x1+y1\n",
    "    print \"inside fun x1=%s,y1=%s,z1=%s\"%(x1,y1,z1)\n",
    "    return z1\n",
    "f1=fun()\n",
    "print \"outside fun f1=%s\"%f1# Here output is None as we are calling f1 outside function"
   ]
  },
  {
   "cell_type": "code",
   "execution_count": 13,
   "metadata": {},
   "outputs": [
    {
     "name": "stdout",
     "output_type": "stream",
     "text": [
      "a=100,b=200,c=300\n",
      "f1= <function fun at 0x0000000005D5BCF8>\n",
      "f2= None\n"
     ]
    }
   ],
   "source": [
    "def fun(a,b):\n",
    "    c=a+b\n",
    "    print \"a=%s,b=%s,c=%s\"%(a,b,c)\n",
    "    \n",
    "    \n",
    "f1=fun\n",
    "f2=fun(100,200)\n",
    "print \"f1=\",f1\n",
    "print \"f2=\",f2"
   ]
  },
  {
   "cell_type": "code",
   "execution_count": null,
   "metadata": {
    "collapsed": true
   },
   "outputs": [],
   "source": []
  }
 ],
 "metadata": {
  "kernelspec": {
   "display_name": "Python 2",
   "language": "python",
   "name": "python2"
  },
  "language_info": {
   "codemirror_mode": {
    "name": "ipython",
    "version": 2
   },
   "file_extension": ".py",
   "mimetype": "text/x-python",
   "name": "python",
   "nbconvert_exporter": "python",
   "pygments_lexer": "ipython2",
   "version": "2.7.14"
  }
 },
 "nbformat": 4,
 "nbformat_minor": 2
}
