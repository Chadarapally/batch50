{
 "cells": [
  {
   "cell_type": "code",
   "execution_count": 8,
   "metadata": {},
   "outputs": [
    {
     "name": "stdout",
     "output_type": "stream",
     "text": [
      "This is class\n",
      "c1=10, c2=20\n"
     ]
    },
    {
     "ename": "NameError",
     "evalue": "name 'a' is not defined",
     "output_type": "error",
     "traceback": [
      "\u001b[1;31m---------------------------------------------------------------------------\u001b[0m",
      "\u001b[1;31mNameError\u001b[0m                                 Traceback (most recent call last)",
      "\u001b[1;32m<ipython-input-8-a10aba60538e>\u001b[0m in \u001b[0;36m<module>\u001b[1;34m()\u001b[0m\n\u001b[0;32m      7\u001b[0m         \u001b[1;32mprint\u001b[0m \u001b[1;34m\"c1=%s, c2=%s\"\u001b[0m\u001b[1;33m%\u001b[0m\u001b[1;33m(\u001b[0m\u001b[0mc1\u001b[0m\u001b[1;33m,\u001b[0m\u001b[0mc2\u001b[0m\u001b[1;33m)\u001b[0m\u001b[1;33m\u001b[0m\u001b[0m\n\u001b[0;32m      8\u001b[0m     \u001b[0mfun\u001b[0m\u001b[1;33m(\u001b[0m\u001b[1;36m10\u001b[0m\u001b[1;33m,\u001b[0m\u001b[1;36m20\u001b[0m\u001b[1;33m)\u001b[0m\u001b[1;33m\u001b[0m\u001b[0m\n\u001b[1;32m----> 9\u001b[1;33m \u001b[1;32mprint\u001b[0m \u001b[0ma\u001b[0m\u001b[1;33m,\u001b[0m\u001b[0mb\u001b[0m\u001b[1;33m,\u001b[0m\u001b[0mc\u001b[0m\u001b[1;31m#c1.a,c1.b,c1.c\u001b[0m\u001b[1;33m\u001b[0m\u001b[0m\n\u001b[0m",
      "\u001b[1;31mNameError\u001b[0m: name 'a' is not defined"
     ]
    }
   ],
   "source": [
    "class c1:\n",
    "    print \"This is class\"\n",
    "    a=10\n",
    "    b=20\n",
    "    c=30\n",
    "    def fun(c1,c2):\n",
    "        print \"c1=%s, c2=%s\"%(c1,c2)\n",
    "    fun(10,20)\n",
    "print a,b,c#c1.a,c1.b,c1.c\n"
   ]
  },
  {
   "cell_type": "code",
   "execution_count": 9,
   "metadata": {},
   "outputs": [
    {
     "name": "stdout",
     "output_type": "stream",
     "text": [
      "This is class\n",
      "c1=10, c2=20\n",
      "10 20 30\n"
     ]
    }
   ],
   "source": [
    "class c1:\n",
    "    print \"This is class\"\n",
    "    a=10\n",
    "    b=20\n",
    "    c=30\n",
    "    def fun(c1,c2):\n",
    "        print \"c1=%s, c2=%s\"%(c1,c2)\n",
    "    fun(10,20)\n",
    "print c1.a,c1.b,c1.c\n"
   ]
  },
  {
   "cell_type": "code",
   "execution_count": 10,
   "metadata": {},
   "outputs": [
    {
     "name": "stdout",
     "output_type": "stream",
     "text": [
      "This is class\n",
      "c1=10, c2=20\n",
      "10 20 30\n"
     ]
    },
    {
     "ename": "NameError",
     "evalue": "name 'fun' is not defined",
     "output_type": "error",
     "traceback": [
      "\u001b[1;31m---------------------------------------------------------------------------\u001b[0m",
      "\u001b[1;31mNameError\u001b[0m                                 Traceback (most recent call last)",
      "\u001b[1;32m<ipython-input-10-7b1ed776b82a>\u001b[0m in \u001b[0;36m<module>\u001b[1;34m()\u001b[0m\n\u001b[0;32m      8\u001b[0m     \u001b[0mfun\u001b[0m\u001b[1;33m(\u001b[0m\u001b[1;36m10\u001b[0m\u001b[1;33m,\u001b[0m\u001b[1;36m20\u001b[0m\u001b[1;33m)\u001b[0m\u001b[1;33m\u001b[0m\u001b[0m\n\u001b[0;32m      9\u001b[0m \u001b[1;32mprint\u001b[0m \u001b[0mc1\u001b[0m\u001b[1;33m.\u001b[0m\u001b[0ma\u001b[0m\u001b[1;33m,\u001b[0m\u001b[0mc1\u001b[0m\u001b[1;33m.\u001b[0m\u001b[0mb\u001b[0m\u001b[1;33m,\u001b[0m\u001b[0mc1\u001b[0m\u001b[1;33m.\u001b[0m\u001b[0mc\u001b[0m\u001b[1;33m\u001b[0m\u001b[0m\n\u001b[1;32m---> 10\u001b[1;33m \u001b[0mfun\u001b[0m\u001b[1;33m(\u001b[0m\u001b[1;36m10\u001b[0m\u001b[1;33m,\u001b[0m\u001b[1;36m20\u001b[0m\u001b[1;33m)\u001b[0m\u001b[1;33m\u001b[0m\u001b[0m\n\u001b[0m",
      "\u001b[1;31mNameError\u001b[0m: name 'fun' is not defined"
     ]
    }
   ],
   "source": [
    "class c1:\n",
    "    print \"This is class\"\n",
    "    a=10\n",
    "    b=20\n",
    "    c=30\n",
    "    def fun(c1,c2):\n",
    "        print \"c1=%s, c2=%s\"%(c1,c2)\n",
    "    fun(10,20)\n",
    "print c1.a,c1.b,c1.c\n",
    "fun(10,20)"
   ]
  },
  {
   "cell_type": "code",
   "execution_count": 35,
   "metadata": {},
   "outputs": [
    {
     "name": "stdout",
     "output_type": "stream",
     "text": [
      "This is class\n",
      "c1=10, c2=20\n",
      "10 20 30\n"
     ]
    }
   ],
   "source": [
    "class c1:\n",
    "    print \"This is class\"\n",
    "    a=10\n",
    "    b=20\n",
    "    c=30\n",
    "    def fun(c1,c2):\n",
    "        print \"c1=%s, c2=%s\"%(c1,c2)\n",
    "    fun(10,20)\n",
    "print c1.a,c1.b,c1.c\n",
    "#c1.fun(10,20)"
   ]
  },
  {
   "cell_type": "code",
   "execution_count": 12,
   "metadata": {},
   "outputs": [
    {
     "name": "stdout",
     "output_type": "stream",
     "text": [
      "This is class\n",
      "10 20 30\n"
     ]
    },
    {
     "ename": "TypeError",
     "evalue": "unbound method fun() must be called with c1 instance as first argument (got int instance instead)",
     "output_type": "error",
     "traceback": [
      "\u001b[1;31m---------------------------------------------------------------------------\u001b[0m",
      "\u001b[1;31mTypeError\u001b[0m                                 Traceback (most recent call last)",
      "\u001b[1;32m<ipython-input-12-62e1d2e48eda>\u001b[0m in \u001b[0;36m<module>\u001b[1;34m()\u001b[0m\n\u001b[0;32m      7\u001b[0m         \u001b[1;32mprint\u001b[0m \u001b[1;34m\"c1=%s, c2=%s\"\u001b[0m\u001b[1;33m%\u001b[0m\u001b[1;33m(\u001b[0m\u001b[0mc1\u001b[0m\u001b[1;33m,\u001b[0m\u001b[0mc2\u001b[0m\u001b[1;33m)\u001b[0m\u001b[1;33m\u001b[0m\u001b[0m\n\u001b[0;32m      8\u001b[0m \u001b[1;32mprint\u001b[0m \u001b[0mc1\u001b[0m\u001b[1;33m.\u001b[0m\u001b[0ma\u001b[0m\u001b[1;33m,\u001b[0m\u001b[0mc1\u001b[0m\u001b[1;33m.\u001b[0m\u001b[0mb\u001b[0m\u001b[1;33m,\u001b[0m\u001b[0mc1\u001b[0m\u001b[1;33m.\u001b[0m\u001b[0mc\u001b[0m\u001b[1;33m\u001b[0m\u001b[0m\n\u001b[1;32m----> 9\u001b[1;33m \u001b[0mc1\u001b[0m\u001b[1;33m.\u001b[0m\u001b[0mfun\u001b[0m\u001b[1;33m(\u001b[0m\u001b[1;36m10\u001b[0m\u001b[1;33m,\u001b[0m\u001b[1;36m20\u001b[0m\u001b[1;33m)\u001b[0m\u001b[1;33m\u001b[0m\u001b[0m\n\u001b[0m",
      "\u001b[1;31mTypeError\u001b[0m: unbound method fun() must be called with c1 instance as first argument (got int instance instead)"
     ]
    }
   ],
   "source": [
    "class c1:\n",
    "    print \"This is class\"\n",
    "    a=10\n",
    "    b=20\n",
    "    c=30\n",
    "    def fun(c1,c2):\n",
    "        print \"c1=%s, c2=%s\"%(c1,c2)\n",
    "print c1.a,c1.b,c1.c\n",
    "c1.fun(10,20)"
   ]
  },
  {
   "cell_type": "code",
   "execution_count": 13,
   "metadata": {},
   "outputs": [
    {
     "name": "stdout",
     "output_type": "stream",
     "text": [
      "This is class\n",
      "10 20 30\n"
     ]
    },
    {
     "ename": "TypeError",
     "evalue": "unbound method fun() must be called with c1 instance as first argument (got int instance instead)",
     "output_type": "error",
     "traceback": [
      "\u001b[1;31m---------------------------------------------------------------------------\u001b[0m",
      "\u001b[1;31mTypeError\u001b[0m                                 Traceback (most recent call last)",
      "\u001b[1;32m<ipython-input-13-3587e1947adb>\u001b[0m in \u001b[0;36m<module>\u001b[1;34m()\u001b[0m\n\u001b[0;32m      7\u001b[0m         \u001b[1;32mprint\u001b[0m \u001b[1;34m\"c1=%s, c2=%s\"\u001b[0m\u001b[1;33m%\u001b[0m\u001b[1;33m(\u001b[0m\u001b[0mc1\u001b[0m\u001b[1;33m,\u001b[0m\u001b[0mc2\u001b[0m\u001b[1;33m)\u001b[0m\u001b[1;33m\u001b[0m\u001b[0m\n\u001b[0;32m      8\u001b[0m \u001b[1;32mprint\u001b[0m \u001b[0mc1\u001b[0m\u001b[1;33m.\u001b[0m\u001b[0ma\u001b[0m\u001b[1;33m,\u001b[0m\u001b[0mc1\u001b[0m\u001b[1;33m.\u001b[0m\u001b[0mb\u001b[0m\u001b[1;33m,\u001b[0m\u001b[0mc1\u001b[0m\u001b[1;33m.\u001b[0m\u001b[0mc\u001b[0m\u001b[1;33m\u001b[0m\u001b[0m\n\u001b[1;32m----> 9\u001b[1;33m \u001b[0mc1\u001b[0m\u001b[1;33m.\u001b[0m\u001b[0mfun\u001b[0m\u001b[1;33m(\u001b[0m\u001b[1;36m10\u001b[0m\u001b[1;33m,\u001b[0m\u001b[1;36m20\u001b[0m\u001b[1;33m)\u001b[0m\u001b[1;33m\u001b[0m\u001b[0m\n\u001b[0m",
      "\u001b[1;31mTypeError\u001b[0m: unbound method fun() must be called with c1 instance as first argument (got int instance instead)"
     ]
    }
   ],
   "source": [
    "class c1:\n",
    "    print \"This is class\"\n",
    "    a=10\n",
    "    b=20\n",
    "    c=30\n",
    "    def fun(c1,c2):\n",
    "        print \"c1=%s, c2=%s\"%(c1,c2)\n",
    "print c1.a,c1.b,c1.c\n",
    "c1.fun(10,20)"
   ]
  },
  {
   "cell_type": "code",
   "execution_count": 19,
   "metadata": {},
   "outputs": [
    {
     "name": "stdout",
     "output_type": "stream",
     "text": [
      "This is Employee details:\n"
     ]
    },
    {
     "ename": "NameError",
     "evalue": "name 'emp' is not defined",
     "output_type": "error",
     "traceback": [
      "\u001b[1;31m---------------------------------------------------------------------------\u001b[0m",
      "\u001b[1;31mNameError\u001b[0m                                 Traceback (most recent call last)",
      "\u001b[1;32m<ipython-input-19-87786486a0d2>\u001b[0m in \u001b[0;36m<module>\u001b[1;34m()\u001b[0m\n\u001b[0;32m     13\u001b[0m \u001b[1;33m\u001b[0m\u001b[0m\n\u001b[0;32m     14\u001b[0m \u001b[0mcl\u001b[0m\u001b[1;33m=\u001b[0m\u001b[0mEmp\u001b[0m\u001b[1;33m(\u001b[0m\u001b[1;33m)\u001b[0m\u001b[1;33m\u001b[0m\u001b[0m\n\u001b[1;32m---> 15\u001b[1;33m \u001b[0memp\u001b[0m\u001b[1;33m.\u001b[0m\u001b[0mfun\u001b[0m\u001b[1;33m(\u001b[0m\u001b[0mA\u001b[0m\u001b[1;33m)\u001b[0m\u001b[1;33m\u001b[0m\u001b[0m\n\u001b[0m\u001b[0;32m     16\u001b[0m \u001b[1;33m\u001b[0m\u001b[0m\n\u001b[0;32m     17\u001b[0m \u001b[1;33m\u001b[0m\u001b[0m\n",
      "\u001b[1;31mNameError\u001b[0m: name 'emp' is not defined"
     ]
    }
   ],
   "source": [
    "class Emp:\n",
    "    print \"This is Employee details:\"\n",
    "    name=\"Arun\"\n",
    "    age=36\n",
    "    grade=\"A\"\n",
    "    salary=1000\n",
    "    def fun(G):\n",
    "        print \"This is function inside class Emp:\"\n",
    "        if G==\"A\":\n",
    "            print \"CEO of the employee\"\n",
    "        else:\n",
    "            print \"Vice Preseident\"\n",
    "\n",
    "cl=Emp()\n",
    "emp.fun(A)\n",
    "\n",
    "        "
   ]
  },
  {
   "cell_type": "code",
   "execution_count": 31,
   "metadata": {},
   "outputs": [
    {
     "name": "stdout",
     "output_type": "stream",
     "text": [
      "This is Employee details:\n",
      "This is function inside class Emp:\n",
      "CEO of the employee\n"
     ]
    }
   ],
   "source": [
    "class Emp:\n",
    "    print \"This is Employee details:\"\n",
    "    name=\"Arun\"\n",
    "    age=36\n",
    "    grade=\"A\"\n",
    "    salary=1000\n",
    "    def fun(a,G):\n",
    "        print \"This is function inside class Emp:\"\n",
    "        if G==\"A\":\n",
    "            print \"CEO of the employee\"\n",
    "        else:\n",
    "            print \"Vice Preseident\"\n",
    "\n",
    "cl=Emp()\n",
    "Emp.fun(cl,Emp.grade)\n",
    "\n",
    "        "
   ]
  },
  {
   "cell_type": "code",
   "execution_count": 36,
   "metadata": {},
   "outputs": [
    {
     "name": "stdout",
     "output_type": "stream",
     "text": [
      "This is class\n",
      "c1=10, c2=20\n",
      "10 20 30\n"
     ]
    }
   ],
   "source": [
    "class c1:\n",
    "    print \"This is class\"\n",
    "    a=10\n",
    "    b=20\n",
    "    c=30\n",
    "    def fun(c1,c2):\n",
    "        print \"c1=%s, c2=%s\"%(c1,c2)\n",
    "    fun(10,20)\n",
    "print c1.a,c1.b,c1.c\n",
    "#c1.fun(10,20)"
   ]
  },
  {
   "cell_type": "code",
   "execution_count": 40,
   "metadata": {},
   "outputs": [
    {
     "name": "stdout",
     "output_type": "stream",
     "text": [
      "This is Car Service details\n",
      "Maruti 2017 Black\n",
      "Nissan 2016"
     ]
    },
    {
     "ename": "AttributeError",
     "evalue": "Cars instance has no attribute 'color'",
     "output_type": "error",
     "traceback": [
      "\u001b[1;31m---------------------------------------------------------------------------\u001b[0m",
      "\u001b[1;31mAttributeError\u001b[0m                            Traceback (most recent call last)",
      "\u001b[1;32m<ipython-input-40-367c0b85a1d8>\u001b[0m in \u001b[0;36m<module>\u001b[1;34m()\u001b[0m\n\u001b[0;32m     12\u001b[0m \u001b[1;31m#c2.color=\"white\"\u001b[0m\u001b[1;33m\u001b[0m\u001b[1;33m\u001b[0m\u001b[0m\n\u001b[0;32m     13\u001b[0m \u001b[0mc1\u001b[0m\u001b[1;33m.\u001b[0m\u001b[0mser\u001b[0m\u001b[1;33m(\u001b[0m\u001b[1;33m)\u001b[0m\u001b[1;33m\u001b[0m\u001b[0m\n\u001b[1;32m---> 14\u001b[1;33m \u001b[0mc2\u001b[0m\u001b[1;33m.\u001b[0m\u001b[0mser\u001b[0m\u001b[1;33m(\u001b[0m\u001b[1;33m)\u001b[0m\u001b[1;33m\u001b[0m\u001b[0m\n\u001b[0m",
      "\u001b[1;32m<ipython-input-40-367c0b85a1d8>\u001b[0m in \u001b[0;36mser\u001b[1;34m(e1)\u001b[0m\n\u001b[0;32m      2\u001b[0m     \u001b[1;32mprint\u001b[0m \u001b[1;34m\"This is Car Service details\"\u001b[0m\u001b[1;33m\u001b[0m\u001b[0m\n\u001b[0;32m      3\u001b[0m     \u001b[1;32mdef\u001b[0m \u001b[0mser\u001b[0m\u001b[1;33m(\u001b[0m\u001b[0me1\u001b[0m\u001b[1;33m)\u001b[0m\u001b[1;33m:\u001b[0m\u001b[1;33m\u001b[0m\u001b[0m\n\u001b[1;32m----> 4\u001b[1;33m         \u001b[1;32mprint\u001b[0m \u001b[0me1\u001b[0m\u001b[1;33m.\u001b[0m\u001b[0mname\u001b[0m\u001b[1;33m,\u001b[0m\u001b[0me1\u001b[0m\u001b[1;33m.\u001b[0m\u001b[0mmodel\u001b[0m\u001b[1;33m,\u001b[0m\u001b[0me1\u001b[0m\u001b[1;33m.\u001b[0m\u001b[0mcolor\u001b[0m\u001b[1;33m\u001b[0m\u001b[0m\n\u001b[0m\u001b[0;32m      5\u001b[0m \u001b[0mc1\u001b[0m\u001b[1;33m=\u001b[0m\u001b[0mCars\u001b[0m\u001b[1;33m(\u001b[0m\u001b[1;33m)\u001b[0m\u001b[1;33m\u001b[0m\u001b[0m\n\u001b[0;32m      6\u001b[0m \u001b[0mc1\u001b[0m\u001b[1;33m.\u001b[0m\u001b[0mname\u001b[0m\u001b[1;33m=\u001b[0m\u001b[1;34m\"Maruti\"\u001b[0m\u001b[1;33m\u001b[0m\u001b[0m\n",
      "\u001b[1;31mAttributeError\u001b[0m: Cars instance has no attribute 'color'"
     ]
    }
   ],
   "source": [
    "class Cars:\n",
    "    print \"This is Car Service details\"\n",
    "    def ser(e1):\n",
    "        print e1.name,e1.model,e1.color\n",
    "c1=Cars()\n",
    "c1.name=\"Maruti\"\n",
    "c1.model=2017\n",
    "c1.color=\"Black\"\n",
    "c2=Cars()\n",
    "c2.name=\"Nissan\"\n",
    "c2.model=2016\n",
    "#c2.color=\"white\"\n",
    "c1.ser()\n",
    "c2.ser()"
   ]
  },
  {
   "cell_type": "code",
   "execution_count": 44,
   "metadata": {},
   "outputs": [
    {
     "name": "stdout",
     "output_type": "stream",
     "text": [
      "Enter your mobile number:1234\n",
      "This is Car Service details\n",
      "Enter your car name:23\n",
      "Enter your car model:45\n",
      "Enter your car color:5\n",
      "23 45 5 1234\n",
      "23 45 5 1234\n"
     ]
    }
   ],
   "source": [
    "class Cars:\n",
    "    mobile_num=raw_input(\"Enter your mobile number:\")\n",
    "    print \"This is Car Service details\"\n",
    "    def ser(e1):\n",
    "        print e1.name,e1.model,e1.color,e1.mobile_num\n",
    "c1=Cars()\n",
    "c1.name=raw_input(\"Enter your car name:\")\n",
    "c1.model=raw_input(\"Enter your car model:\")\n",
    "c1.color=raw_input(\"Enter your car color:\")\n",
    "c1.ser()\n",
    "Cars.ser(c1)\n"
   ]
  },
  {
   "cell_type": "code",
   "execution_count": 12,
   "metadata": {},
   "outputs": [
    {
     "name": "stdout",
     "output_type": "stream",
     "text": [
      "insert query:anil kumar,23,1000,10\n"
     ]
    }
   ],
   "source": [
    "# employee class: name,age,current,updates sal:hike per:\n",
    "class emp:\n",
    "    def __init__(self,name,age,currentsal,hikeper):\n",
    "        self.name=name\n",
    "        self.age=age\n",
    "        self.__currentsal=currentsal\n",
    "        self.__hikeper=hikeper\n",
    "    def insert(self):\n",
    "        print \"insert query:%s,%s,%s,%s\"%(self.name,self.age,self.__currentsal,self.__hikeper)\n",
    "    #def insert_1(self):\n",
    "        #return self.name\n",
    "anil=emp(\"anil kumar\",23,1000,10)\n",
    "anil.insert()\n",
    "    "
   ]
  },
  {
   "cell_type": "code",
   "execution_count": null,
   "metadata": {
    "collapsed": true
   },
   "outputs": [],
   "source": [
    "# employee class: name,age,current,updates sal:hike per:\n",
    "class emp:\n",
    "    def __init__(self,name,age,currentsal,hikeper):\n",
    "        self.name=name\n",
    "        self.age=age\n",
    "        self.__currentsal=currentsal\n",
    "        self.__hikeper=hikeper\n",
    "    def insert(self):\n",
    "        print \"insert query:%s,%s,%s,%s\"%(self.name,self.age,self.__currentsal,self.__hikeper)\n",
    "    #def insert_1(self):\n",
    "        #return self.name\n",
    "anil=emp(\"anil kumar\",23,1000,10)\n",
    "anil.insert()\n",
    "    "
   ]
  },
  {
   "cell_type": "code",
   "execution_count": null,
   "metadata": {
    "collapsed": true
   },
   "outputs": [],
   "source": []
  }
 ],
 "metadata": {
  "kernelspec": {
   "display_name": "Python 2",
   "language": "python",
   "name": "python2"
  },
  "language_info": {
   "codemirror_mode": {
    "name": "ipython",
    "version": 2
   },
   "file_extension": ".py",
   "mimetype": "text/x-python",
   "name": "python",
   "nbconvert_exporter": "python",
   "pygments_lexer": "ipython2",
   "version": "2.7.14"
  }
 },
 "nbformat": 4,
 "nbformat_minor": 2
}
