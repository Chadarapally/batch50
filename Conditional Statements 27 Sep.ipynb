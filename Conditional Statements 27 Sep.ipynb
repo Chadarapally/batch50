{
 "cells": [
  {
   "cell_type": "code",
   "execution_count": 1,
   "metadata": {},
   "outputs": [
    {
     "name": "stdout",
     "output_type": "stream",
     "text": [
      "<type 'bool'>\n"
     ]
    }
   ],
   "source": [
    "a=True\n",
    "b=False\n",
    "c=None\n",
    "print type(a)"
   ]
  },
  {
   "cell_type": "code",
   "execution_count": 2,
   "metadata": {},
   "outputs": [
    {
     "name": "stdout",
     "output_type": "stream",
     "text": [
      "<type 'bool'>\n",
      "<type 'bool'>\n",
      "<type 'NoneType'>\n"
     ]
    }
   ],
   "source": [
    "a=True\n",
    "b=False\n",
    "c=None\n",
    "print type(a)\n",
    "print type(b)\n",
    "print type(c)\n"
   ]
  },
  {
   "cell_type": "code",
   "execution_count": 4,
   "metadata": {},
   "outputs": [
    {
     "name": "stdout",
     "output_type": "stream",
     "text": [
      "Program Started\n",
      "you are in HYD\n",
      "other statements in program\n",
      "Program Ended\n"
     ]
    }
   ],
   "source": [
    "print \"Program Started\"\n",
    "if True:\n",
    "    print \"you are in HYD\"\n",
    "else:\n",
    "    print \"you are in Bangalore\"\n",
    "print \"other statements in program\"\n",
    "print \"Program Ended\""
   ]
  },
  {
   "cell_type": "code",
   "execution_count": 5,
   "metadata": {},
   "outputs": [
    {
     "name": "stdout",
     "output_type": "stream",
     "text": [
      "Program Started\n",
      "you are in Bangalore\n",
      "other statements in program\n",
      "Program Ended\n"
     ]
    }
   ],
   "source": [
    "print \"Program Started\"\n",
    "if False:\n",
    "    print \"you are in HYD\"\n",
    "else:\n",
    "    print \"you are in Bangalore\"\n",
    "print \"other statements in program\"\n",
    "print \"Program Ended\""
   ]
  },
  {
   "cell_type": "code",
   "execution_count": 6,
   "metadata": {},
   "outputs": [
    {
     "name": "stdout",
     "output_type": "stream",
     "text": [
      "False\n"
     ]
    }
   ],
   "source": [
    "#Boolean Expression\n",
    "a=10\n",
    "b=20\n",
    "print a>b"
   ]
  },
  {
   "cell_type": "code",
   "execution_count": 7,
   "metadata": {},
   "outputs": [
    {
     "name": "stdout",
     "output_type": "stream",
     "text": [
      "True\n"
     ]
    }
   ],
   "source": [
    "#Boolean Expression - String comparision\n",
    "a=\"7\"\n",
    "b=\"60000\"\n",
    "print a>b"
   ]
  },
  {
   "cell_type": "code",
   "execution_count": null,
   "metadata": {
    "collapsed": true
   },
   "outputs": [],
   "source": [
    "# Comparision in List, Tuple"
   ]
  },
  {
   "cell_type": "code",
   "execution_count": 8,
   "metadata": {},
   "outputs": [
    {
     "data": {
      "text/plain": [
       "True"
      ]
     },
     "execution_count": 8,
     "metadata": {},
     "output_type": "execute_result"
    }
   ],
   "source": [
    "bool(0)\n",
    "bool(1)\n",
    "bool(10)\n",
    "bool(-10)\n",
    "#Except 0 everything is False\n",
    "bool(0.0)\n",
    "bool(0.1)"
   ]
  },
  {
   "cell_type": "code",
   "execution_count": 9,
   "metadata": {},
   "outputs": [
    {
     "data": {
      "text/plain": [
       "True"
      ]
     },
     "execution_count": 9,
     "metadata": {},
     "output_type": "execute_result"
    }
   ],
   "source": [
    "bool(\"Python\")"
   ]
  },
  {
   "cell_type": "code",
   "execution_count": 10,
   "metadata": {},
   "outputs": [
    {
     "data": {
      "text/plain": [
       "True"
      ]
     },
     "execution_count": 10,
     "metadata": {},
     "output_type": "execute_result"
    }
   ],
   "source": [
    "bool(\"0\")"
   ]
  },
  {
   "cell_type": "code",
   "execution_count": 11,
   "metadata": {},
   "outputs": [
    {
     "data": {
      "text/plain": [
       "False"
      ]
     },
     "execution_count": 11,
     "metadata": {},
     "output_type": "execute_result"
    }
   ],
   "source": [
    "bool(\"\")\n"
   ]
  },
  {
   "cell_type": "code",
   "execution_count": 12,
   "metadata": {},
   "outputs": [
    {
     "data": {
      "text/plain": [
       "True"
      ]
     },
     "execution_count": 12,
     "metadata": {},
     "output_type": "execute_result"
    }
   ],
   "source": [
    "bool([1,2,3,4])\n"
   ]
  },
  {
   "cell_type": "code",
   "execution_count": null,
   "metadata": {
    "collapsed": true
   },
   "outputs": [],
   "source": [
    "bool([0])"
   ]
  },
  {
   "cell_type": "code",
   "execution_count": 13,
   "metadata": {},
   "outputs": [
    {
     "name": "stdout",
     "output_type": "stream",
     "text": [
      "Program Started\n",
      "False\n",
      "you are in Bangalore\n",
      "other statements in program\n",
      "Program Ended\n"
     ]
    }
   ],
   "source": [
    "print \"Program Started\"\n",
    "a=10\n",
    "b=20\n",
    "print a>b\n",
    "if a>b:\n",
    "    print \"you are in HYD\"\n",
    "else:\n",
    "    print \"you are in Bangalore\"\n",
    "print \"other statements in program\"\n",
    "print \"Program Ended\""
   ]
  },
  {
   "cell_type": "code",
   "execution_count": 14,
   "metadata": {},
   "outputs": [
    {
     "name": "stdout",
     "output_type": "stream",
     "text": [
      "Program Started\n",
      "False\n",
      "you are in Bangalore\n",
      "other statements in program\n",
      "Program Ended\n"
     ]
    }
   ],
   "source": [
    "print \"Program Started\"\n",
    "a=10\n",
    "b=20\n",
    "print a>b\n",
    "if a>b:\n",
    "    print \"you are in HYD\"\n",
    "else:\n",
    "    print \"you are in Bangalore\"\n",
    "print \"other statements in program\"\n",
    "print \"Program Ended\""
   ]
  },
  {
   "cell_type": "code",
   "execution_count": 15,
   "metadata": {},
   "outputs": [
    {
     "ename": "SyntaxError",
     "evalue": "invalid syntax (<ipython-input-15-c24ad84573be>, line 5)",
     "output_type": "error",
     "traceback": [
      "\u001b[1;36m  File \u001b[1;32m\"<ipython-input-15-c24ad84573be>\"\u001b[1;36m, line \u001b[1;32m5\u001b[0m\n\u001b[1;33m    Else:\u001b[0m\n\u001b[1;37m        ^\u001b[0m\n\u001b[1;31mSyntaxError\u001b[0m\u001b[1;31m:\u001b[0m invalid syntax\n"
     ]
    }
   ],
   "source": [
    "#Value from User if user is not giving value print please enter valid value\n",
    "a=raw_input(\"Enter value:\")\n",
    "if bool(a):\n",
    "    print (a)\n",
    "Else:\n",
    "    print (\"Enter a valid value:\")\n"
   ]
  },
  {
   "cell_type": "code",
   "execution_count": 16,
   "metadata": {},
   "outputs": [
    {
     "name": "stdout",
     "output_type": "stream",
     "text": [
      "Enter value:\n",
      "Enter a valid value:\n"
     ]
    }
   ],
   "source": [
    "#Value from User if user is not giving value print please enter valid value\n",
    "a=raw_input(\"Enter value:\")\n",
    "if bool(a):\n",
    "    print (a)\n",
    "else:\n",
    "    print (\"Enter a valid value:\")\n"
   ]
  },
  {
   "cell_type": "code",
   "execution_count": 17,
   "metadata": {},
   "outputs": [
    {
     "name": "stdout",
     "output_type": "stream",
     "text": [
      "Enter value:A\n",
      "A\n"
     ]
    }
   ],
   "source": [
    "#Value from User if user is not giving value print please enter valid value\n",
    "a=raw_input(\"Enter value:\")\n",
    "if bool(a):\n",
    "    print (a)\n",
    "else:\n",
    "    print (\"Enter a valid value:\")\n"
   ]
  },
  {
   "cell_type": "code",
   "execution_count": 18,
   "metadata": {},
   "outputs": [
    {
     "name": "stdout",
     "output_type": "stream",
     "text": [
      "Enter value:1\n",
      "1\n"
     ]
    }
   ],
   "source": [
    "#Value from User if user is not giving value print please enter valid value\n",
    "a=raw_input(\"Enter value:\")\n",
    "if bool(a):\n",
    "    print (a)\n",
    "else:\n",
    "    print (\"Enter a valid value:\")\n"
   ]
  },
  {
   "cell_type": "code",
   "execution_count": 19,
   "metadata": {},
   "outputs": [
    {
     "name": "stdout",
     "output_type": "stream",
     "text": [
      "Enter value:\"12A\"\n",
      "\"12A\"\n"
     ]
    }
   ],
   "source": [
    "#Value from User if user is not giving value print please enter valid value\n",
    "a=raw_input(\"Enter value:\")\n",
    "if bool(a):\n",
    "    print (a)\n",
    "else:\n",
    "    print (\"Enter a valid value:\")\n"
   ]
  },
  {
   "cell_type": "code",
   "execution_count": 20,
   "metadata": {},
   "outputs": [
    {
     "name": "stdout",
     "output_type": "stream",
     "text": [
      "Enter value:0\n",
      "1\n",
      "0\n"
     ]
    }
   ],
   "source": [
    "#Value from User if user is not giving value print please enter valid value\n",
    "a=raw_input(\"Enter value:\")\n",
    "print len(a)\n",
    "if len(a)>0:\n",
    "    print (a)\n",
    "else:\n",
    "    print (\"Enter a valid value:\")\n"
   ]
  },
  {
   "cell_type": "code",
   "execution_count": 21,
   "metadata": {},
   "outputs": [
    {
     "name": "stdout",
     "output_type": "stream",
     "text": [
      "Enter value:\n",
      "0\n",
      "Enter a valid value:\n"
     ]
    }
   ],
   "source": [
    "#Value from User if user is not giving value print please enter valid value\n",
    "a=raw_input(\"Enter value:\")\n",
    "print len(a)\n",
    "if len(a)>0:\n",
    "    print (a)\n",
    "else:\n",
    "    print (\"Enter a valid value:\")\n"
   ]
  },
  {
   "cell_type": "code",
   "execution_count": null,
   "metadata": {
    "collapsed": true
   },
   "outputs": [],
   "source": []
  }
 ],
 "metadata": {
  "kernelspec": {
   "display_name": "Python 2",
   "language": "python",
   "name": "python2"
  },
  "language_info": {
   "codemirror_mode": {
    "name": "ipython",
    "version": 2
   },
   "file_extension": ".py",
   "mimetype": "text/x-python",
   "name": "python",
   "nbconvert_exporter": "python",
   "pygments_lexer": "ipython2",
   "version": "2.7.14"
  }
 },
 "nbformat": 4,
 "nbformat_minor": 2
}
