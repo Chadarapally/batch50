{
 "cells": [
  {
   "cell_type": "code",
   "execution_count": 1,
   "metadata": {},
   "outputs": [
    {
     "name": "stdout",
     "output_type": "stream",
     "text": [
      "{'Age': 26, 'name': 'Arun', 'height': 5.7}\n"
     ]
    }
   ],
   "source": [
    "d={\"name\":\"Arun\",\"Age\":26,\"height\":5.7}\n",
    "print d"
   ]
  },
  {
   "cell_type": "code",
   "execution_count": 2,
   "metadata": {},
   "outputs": [
    {
     "name": "stdout",
     "output_type": "stream",
     "text": [
      "name\n"
     ]
    }
   ],
   "source": [
    "d={\"name\":\"Arun\",\"Age\":26,\"height\":5.7}\n",
    "print \"name\""
   ]
  },
  {
   "cell_type": "code",
   "execution_count": 3,
   "metadata": {},
   "outputs": [
    {
     "name": "stdout",
     "output_type": "stream",
     "text": [
      "Arun\n"
     ]
    }
   ],
   "source": [
    "d={\"name\":\"Arun\",\"Age\":26,\"height\":5.7}\n",
    "print d[\"name\"]"
   ]
  },
  {
   "cell_type": "code",
   "execution_count": 5,
   "metadata": {},
   "outputs": [
    {
     "name": "stdout",
     "output_type": "stream",
     "text": [
      "Arun 26\n"
     ]
    }
   ],
   "source": [
    "d={\"name\":\"Arun\",\"Age\":26,\"height\":5.7}\n",
    "print d[\"name\"],d[\"Age\"]"
   ]
  },
  {
   "cell_type": "code",
   "execution_count": 6,
   "metadata": {},
   "outputs": [
    {
     "name": "stdout",
     "output_type": "stream",
     "text": [
      "(name: Arun)\n"
     ]
    }
   ],
   "source": [
    "d={\"name\":\"Arun\",\"Age\":26,\"height\":5.7}\n",
    "s=(\"(name: Arun)\")\n",
    "print s\n"
   ]
  },
  {
   "cell_type": "code",
   "execution_count": 7,
   "metadata": {},
   "outputs": [
    {
     "name": "stdout",
     "output_type": "stream",
     "text": [
      "[name: Arun]\n"
     ]
    }
   ],
   "source": [
    "s=(\"[name: Arun]\")\n",
    "print s"
   ]
  },
  {
   "cell_type": "code",
   "execution_count": 8,
   "metadata": {},
   "outputs": [
    {
     "ename": "ValueError",
     "evalue": "dictionary update sequence element #0 has length 1; 2 is required",
     "output_type": "error",
     "traceback": [
      "\u001b[1;31m---------------------------------------------------------------------------\u001b[0m",
      "\u001b[1;31mValueError\u001b[0m                                Traceback (most recent call last)",
      "\u001b[1;32m<ipython-input-8-3b1b89474e62>\u001b[0m in \u001b[0;36m<module>\u001b[1;34m()\u001b[0m\n\u001b[1;32m----> 1\u001b[1;33m \u001b[0ms\u001b[0m\u001b[1;33m=\u001b[0m\u001b[0mdict\u001b[0m\u001b[1;33m(\u001b[0m\u001b[1;33m(\u001b[0m\u001b[1;34m\"[name: Arun]\"\u001b[0m\u001b[1;33m)\u001b[0m\u001b[1;33m)\u001b[0m\u001b[1;33m\u001b[0m\u001b[0m\n\u001b[0m\u001b[0;32m      2\u001b[0m \u001b[1;32mprint\u001b[0m \u001b[0ms\u001b[0m\u001b[1;33m\u001b[0m\u001b[0m\n",
      "\u001b[1;31mValueError\u001b[0m: dictionary update sequence element #0 has length 1; 2 is required"
     ]
    }
   ],
   "source": [
    "s=dict((\"[name: Arun]\"))\n",
    "print s"
   ]
  },
  {
   "cell_type": "code",
   "execution_count": 9,
   "metadata": {},
   "outputs": [
    {
     "name": "stdout",
     "output_type": "stream",
     "text": [
      "{'k3': 'v3', 'k2': 'v2', 'k1': 'v1'}\n",
      "{'k3': 'v3', 'k2': 'v2', 'k1': 'v1'}\n"
     ]
    }
   ],
   "source": [
    "d={\"k1\":\"v1\",\"k2\":\"v2\",\"k3\":\"v3\"}\n",
    "s=dict([(\"k1\",\"v1\"),(\"k2\",\"v2\"),(\"k3\",\"v3\")])\n",
    "print s\n",
    "print d"
   ]
  },
  {
   "cell_type": "code",
   "execution_count": 11,
   "metadata": {},
   "outputs": [
    {
     "name": "stdout",
     "output_type": "stream",
     "text": [
      "[('k1', 'v1'), ('k2', 'v2'), ('k3', 'v3')]\n",
      "('k1', 'v1')\n",
      "('k2', 'v2')\n"
     ]
    }
   ],
   "source": [
    "s=[(\"k1\",\"v1\"),(\"k2\",\"v2\"),(\"k3\",\"v3\")]\n",
    "print s\n",
    "print s[0]\n",
    "print s[1]"
   ]
  },
  {
   "cell_type": "code",
   "execution_count": 12,
   "metadata": {},
   "outputs": [
    {
     "name": "stdout",
     "output_type": "stream",
     "text": [
      "[('k1', 'v1'), ('k2', 'v2'), ('k3', 'v3')]\n"
     ]
    }
   ],
   "source": [
    "s=[(\"k1\",\"v1\"),(\"k2\",\"v2\"),(\"k3\",\"v3\")]\n",
    "print s"
   ]
  },
  {
   "cell_type": "code",
   "execution_count": 13,
   "metadata": {},
   "outputs": [
    {
     "name": "stdout",
     "output_type": "stream",
     "text": [
      "{'k3': 'v3', 'k2': 'v2', 'k1': 'v1'}\n"
     ]
    }
   ],
   "source": [
    "s=dict([(\"k1\",\"v1\"),(\"k2\",\"v2\"),(\"k3\",\"v3\")])\n",
    "print s"
   ]
  },
  {
   "cell_type": "code",
   "execution_count": 14,
   "metadata": {},
   "outputs": [
    {
     "name": "stdout",
     "output_type": "stream",
     "text": [
      "{'name': 'Arun'}\n"
     ]
    }
   ],
   "source": [
    "d={\"name\":\"Arun\"}\n",
    "print d"
   ]
  },
  {
   "cell_type": "code",
   "execution_count": 18,
   "metadata": {},
   "outputs": [
    {
     "name": "stdout",
     "output_type": "stream",
     "text": [
      "{'lastname': 'Kumar', 'name': 'Arun'}\n"
     ]
    }
   ],
   "source": [
    "d={\"name\":\"Arun\"}\n",
    "d.setdefault(\"lastname\",\"Kumar\")\n",
    "print d"
   ]
  },
  {
   "cell_type": "code",
   "execution_count": 19,
   "metadata": {},
   "outputs": [
    {
     "name": "stdout",
     "output_type": "stream",
     "text": [
      "{'Cell': 12345, 'lastname': 'Kumar', 'name': 'Arun'}\n"
     ]
    }
   ],
   "source": [
    "d.setdefault(\"Cell\",12345)\n",
    "print d"
   ]
  },
  {
   "cell_type": "code",
   "execution_count": 20,
   "metadata": {},
   "outputs": [
    {
     "name": "stdout",
     "output_type": "stream",
     "text": [
      "{'lastname': 'Kumar', 'name': 'Arun'}\n"
     ]
    }
   ],
   "source": [
    "a={\"name\":\"Arun\"}\n",
    "a.setdefault(\"lastname\",\"Kumar\")\n",
    "print a"
   ]
  },
  {
   "cell_type": "code",
   "execution_count": 30,
   "metadata": {},
   "outputs": [
    {
     "name": "stdout",
     "output_type": "stream",
     "text": [
      "{'lastname': 'Arun', 'name': 'Arun'}\n"
     ]
    }
   ],
   "source": [
    "a={\"name\":\"Arun\"}\n",
    "a.update({\"lastname\":\"Arun\"})\n",
    "print a"
   ]
  },
  {
   "cell_type": "code",
   "execution_count": 31,
   "metadata": {},
   "outputs": [
    {
     "name": "stdout",
     "output_type": "stream",
     "text": [
      "{'lastname': 'Arun', 'name': 'Arun'}\n"
     ]
    }
   ],
   "source": [
    "print a"
   ]
  },
  {
   "cell_type": "code",
   "execution_count": 34,
   "metadata": {},
   "outputs": [
    {
     "name": "stdout",
     "output_type": "stream",
     "text": [
      "{'lastname': 'kumar', 'Age': 26, 'name': 'Arun'}\n"
     ]
    }
   ],
   "source": [
    "a.update({\"lastname\":\"kumar\"})\n",
    "a.update({\"Age\":26})\n",
    "print a"
   ]
  },
  {
   "cell_type": "code",
   "execution_count": null,
   "metadata": {
    "collapsed": true
   },
   "outputs": [],
   "source": []
  }
 ],
 "metadata": {
  "kernelspec": {
   "display_name": "Python 2",
   "language": "python",
   "name": "python2"
  },
  "language_info": {
   "codemirror_mode": {
    "name": "ipython",
    "version": 2
   },
   "file_extension": ".py",
   "mimetype": "text/x-python",
   "name": "python",
   "nbconvert_exporter": "python",
   "pygments_lexer": "ipython2",
   "version": "2.7.14"
  }
 },
 "nbformat": 4,
 "nbformat_minor": 2
}
