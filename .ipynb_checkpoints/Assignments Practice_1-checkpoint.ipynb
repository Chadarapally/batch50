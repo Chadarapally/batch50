{
 "cells": [
  {
   "cell_type": "code",
   "execution_count": 17,
   "metadata": {},
   "outputs": [
    {
     "name": "stdout",
     "output_type": "stream",
     "text": [
      "Bus Booking Menu\n",
      "Enter Total number of people:50\n",
      "Enter number of seats for bus:60\n",
      "Error message:Bus seats should be equal or greater than people_count OR Bus seats should not be greater than 50 seats    Please enter a Valid value\n",
      "Thank you\n"
     ]
    }
   ],
   "source": [
    "#Take the input from the user for(Total number of people,Number of seats for bus. \n",
    "#Based on two inputs.Decide how many number of buses required\n",
    "print \"Bus Booking Menu\"\n",
    "people_count=int(raw_input(\"Enter Total number of people:\"))\n",
    "Bus_seats=int(raw_input(\"Enter number of seats for bus:\"))\n",
    "if Bus_seats<people_count or Bus_seats>50:\n",
    "    print \"Error message:Bus seats should be equal or greater than people_count OR Bus seats should not be greater than 50 seats\\\n",
    "    Please enter a Valid value\"\n",
    "elif Bus_seats>=people_count:\n",
    "    bus=people_count/Bus_seats\n",
    "    print \"Number of buses required:\"\n",
    "    print bus\n",
    "print \"Thank you\"\n",
    "\n"
   ]
  },
  {
   "cell_type": "code",
   "execution_count": 37,
   "metadata": {},
   "outputs": [
    {
     "name": "stdout",
     "output_type": "stream",
     "text": [
      "Temperature Calculation\n",
      "\t1.Foreign heat to Celsius coversion\n",
      "\t2.Celsius to Foreign heat conversion\n",
      "Enter an Option:1\n",
      "Enter a value:380\n",
      "193\n",
      "Thank you\n"
     ]
    }
   ],
   "source": [
    "#take temperature from the user and convert foreign heat -> Celsius.\n",
    "print \"Temperature Calculation\\n\\t1.Foreign heat to Celsius coversion\\n\\t2.Celsius to Foreign heat conversion\"\n",
    "Opt=raw_input(\"Enter an Option:\")\n",
    "if Opt==\"1\":\n",
    "    Temp=int(raw_input(\"Enter a value:\"))\n",
    "    Celsius=(Temp-32)*5/9\n",
    "    print \"Celsius:\",Celsius\n",
    "elif Opt==\"2\":\n",
    "    Temp=int(raw_input(\"Enter a value:\"))\n",
    "    Foreign_Heat=(Temp*9)/5+32\n",
    "    print \"Foreign Heat:\",Foreign_Heat\n",
    "elif Opt>2:\n",
    "    print \"Enter valid Option\"\n",
    "print \"Thank you\""
   ]
  },
  {
   "cell_type": "code",
   "execution_count": 60,
   "metadata": {},
   "outputs": [
    {
     "name": "stdout",
     "output_type": "stream",
     "text": [
      "Mathematical Calculations:\n",
      "\t1.(a+b)**2, (c+d)**3\n",
      "\t2.Variance\n",
      "\t3.Standard Deviation\n",
      "\t4.Linear Equation\n",
      "\t5.Avearage\n",
      "\t6.Sum\n",
      "Enter a valid option:6\n",
      "Enter a Value:1\n",
      "Enter a Value:2\n",
      "Enter a Value:3\n",
      "Enter a Value:5\n",
      "11\n",
      "Thank you\n"
     ]
    }
   ],
   "source": [
    "#Mathematical Calculations\n",
    "print \"Mathematical Calculations:\\n\\t1.(a+b)**2, (c+d)**3\\n\\t2.Variance\\n\\t3.Standard Deviation\\n\\t4.Linear Equation\\n\\t5.Avearage\\\n",
    "\\n\\t6.Sum\"\n",
    "opt=raw_input(\"Enter a valid option:\")\n",
    "a=int(raw_input(\"Enter a Value:\"))\n",
    "b=int(raw_input(\"Enter a Value:\"))\n",
    "c=int(raw_input(\"Enter a Value:\"))\n",
    "d=int(raw_input(\"Enter a Value:\"))\n",
    "if opt==\"1\":\n",
    "    val_1=(a+b)**2\n",
    "    val_2=(c+d)**3\n",
    "    print val_1,val_2\n",
    "elif opt==\"2\":\n",
    "    Mean=float(a+b+c+d)/4\n",
    "    print \"Mean:\",Mean\n",
    "    Variance=(float(a-Mean)**2+float(b-Mean)**2+float(c-Mean)**2+float(d-Mean)**2)/(4-1)\n",
    "    print \"Variance:\",Variance\n",
    "elif opt==\"3\":\n",
    "    Mean=float(a+b+c+d)/4\n",
    "    print \"Mean:\",Mean\n",
    "    Variance=(float(a-Mean)**2+float(b-Mean)**2+float(c-Mean)**2+float(d-Mean)**2)/(4-1)\n",
    "    print \"Variance:\",Variance\n",
    "    Stdev=(Variance)**0.5\n",
    "    print \"Standard Deviation:\",Stdev\n",
    "elif opt==\"4\":\n",
    "    m=float(1.23)\n",
    "    b=float(0.045)\n",
    "    Lin_Equ=m*(a+b+c+d)+b\n",
    "    print \"Linear Equation:\",Lin_Equ\n",
    "elif opt==\"5\":\n",
    "    avg=float(a+b+c+d)/4\n",
    "    print avg\n",
    "elif opt==\"6\":\n",
    "    sum=(a+b+c+d)\n",
    "    print sum\n",
    "print \"Thank you\"\n",
    "\n"
   ]
  },
  {
   "cell_type": "code",
   "execution_count": 69,
   "metadata": {},
   "outputs": [
    {
     "name": "stdout",
     "output_type": "stream",
     "text": [
      "Kilometer Conversion:\n",
      "\t1.Meters\n",
      "\t2.Centimeters\n",
      "\t3.Milli Meters\n",
      "\t4.Cents\n",
      "\t5.Feets\n",
      "Enter an Option:1\n",
      "Enter Kilometers1\n",
      "Meters: 1000\n",
      "Thank you\n"
     ]
    }
   ],
   "source": [
    "# Kilometers Conversion\n",
    "print \"Kilometer Conversion:\\n\\t1.Meters\\n\\t2.Centimeters\\n\\t3.Milli Meters\\n\\t4.Cents\\n\\t5.Feets\"\n",
    "opt=(raw_input(\"Enter an Option:\"))\n",
    "if opt>\"5\" or opt<\"0\":\n",
    "    print \"Enter valid Option\"\n",
    "elif opt=='1':\n",
    "    KMS=int(raw_input(\"Enter Kilometers\"))\n",
    "    Meters=int(KMS*1000)\n",
    "    print \"Meters:\",Meters\n",
    "print \"Thank you\"\n"
   ]
  },
  {
   "cell_type": "code",
   "execution_count": 80,
   "metadata": {},
   "outputs": [
    {
     "name": "stdout",
     "output_type": "stream",
     "text": [
      "Welcome to our world\n",
      "Enter your NameArun\n",
      "Enter your Age23\n",
      "Enter your Hight5.7\n",
      "The details of the person:\n",
      "\tName: Arun\n",
      "The details of the person:\n",
      "\tName of the Person:Arun, Age of the Person:23, Height of the person:5.7\n"
     ]
    }
   ],
   "source": [
    "#Take name, age, height from the user and print like below\n",
    "#The details of the person: Name:name of the person, Age:age of the person, Height:height of the person\n",
    "#Note: make sure that no space between : and a value and should be space after “COMA”\n",
    "\n",
    "print \"Welcome to our world\"\n",
    "Name=raw_input(\"Enter your Name\")\n",
    "Age=raw_input(\"Enter your Age\")\n",
    "Height=float(raw_input(\"Enter your Hight\"))\n",
    "print \"The details of the person:\\n\\tName of the Person:\"+Name+\",\",\"Age of the Person:\"+str(Age)+\",\",\"Height of the person:\"+str(Height)"
   ]
  },
  {
   "cell_type": "code",
   "execution_count": null,
   "metadata": {
    "collapsed": true
   },
   "outputs": [],
   "source": []
  }
 ],
 "metadata": {
  "kernelspec": {
   "display_name": "Python 2",
   "language": "python",
   "name": "python2"
  }
 },
 "nbformat": 4,
 "nbformat_minor": 2
}
