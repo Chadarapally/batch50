{
 "cells": [
  {
   "cell_type": "code",
   "execution_count": 1,
   "metadata": {},
   "outputs": [
    {
     "name": "stdout",
     "output_type": "stream",
     "text": [
      "product menu:\n",
      "\t1.create\n",
      "\t2.update\n",
      "\t3.delete\n",
      "\t4.browse\n"
     ]
    }
   ],
   "source": [
    "print \"product menu:\\n\\t1.create\\n\\t2.update\\n\\t3.delete\\n\\t4.browse\""
   ]
  },
  {
   "cell_type": "code",
   "execution_count": 3,
   "metadata": {},
   "outputs": [
    {
     "ename": "SyntaxError",
     "evalue": "invalid syntax (<ipython-input-3-bba19c88c2c6>, line 3)",
     "output_type": "error",
     "traceback": [
      "\u001b[1;36m  File \u001b[1;32m\"<ipython-input-3-bba19c88c2c6>\"\u001b[1;36m, line \u001b[1;32m3\u001b[0m\n\u001b[1;33m    if opt==\"1\"\u001b[0m\n\u001b[1;37m               ^\u001b[0m\n\u001b[1;31mSyntaxError\u001b[0m\u001b[1;31m:\u001b[0m invalid syntax\n"
     ]
    }
   ],
   "source": [
    "print \"product menu:\\n\\t1.create\\n\\t2.update\\n\\t3.delete\\n\\t4.browse\"\n",
    "a=raw_input(\"Enter a value:\")\n",
    "if opt==\"1\"\n",
    "    print \"Create a Product\"\n",
    "if opt==\"2\"\n",
    "    print \"Update a Product\"\n",
    "if opt==\"3\"\n",
    "    print \"Delete a Product\"\n",
    "if opt==\"4\"\n",
    "    print \"Browse the Product\"\n",
    "print \"Thank you\""
   ]
  },
  {
   "cell_type": "code",
   "execution_count": 7,
   "metadata": {},
   "outputs": [
    {
     "ename": "SyntaxError",
     "evalue": "invalid syntax (<ipython-input-7-405546969349>, line 3)",
     "output_type": "error",
     "traceback": [
      "\u001b[1;36m  File \u001b[1;32m\"<ipython-input-7-405546969349>\"\u001b[1;36m, line \u001b[1;32m3\u001b[0m\n\u001b[1;33m    if a==\"1\"\u001b[0m\n\u001b[1;37m             ^\u001b[0m\n\u001b[1;31mSyntaxError\u001b[0m\u001b[1;31m:\u001b[0m invalid syntax\n"
     ]
    }
   ],
   "source": [
    "print \"product menu:\\n\\t1.create\\n\\t2.update\\n\\t3.delete\\n\\t4.browse\"\n",
    "a=raw_input(\"Enter a value:\")\n",
    "if a==\"1\"\n",
    "    print \"Create a Product\"\n",
    "if a==\"2\"\n",
    "    print \"Update a Product\"\n",
    "if a==\"3\"\n",
    "    print \"Delete a Product\"\n",
    "if a==\"4\"\n",
    "    print \"Browse the Product\"\n",
    "print \"Thank you\""
   ]
  },
  {
   "cell_type": "code",
   "execution_count": null,
   "metadata": {},
   "outputs": [
    {
     "name": "stdout",
     "output_type": "stream",
     "text": [
      "product menu:\n",
      "\t1.create\n",
      "\t2.update\n",
      "\t3.delete\n",
      "\t4.browse\n"
     ]
    }
   ],
   "source": [
    "print \"product menu:\\n\\t1.create\\n\\t2.update\\n\\t3.delete\\n\\t4.browse\"\n",
    "a=raw_input(\"Enter a value:\")\n",
    "if a==\"1\":\n",
    "    print \"Create a Product\"\n",
    "if a==\"2\":\n",
    "    print \"Update a Product\"\n",
    "if a==\"3\":\n",
    "    print \"Delete a Product\"\n",
    "if a==\"4\":\n",
    "    print \"Browse the Product\"\n",
    "print \"Thank you\""
   ]
  },
  {
   "cell_type": "code",
   "execution_count": null,
   "metadata": {
    "collapsed": true
   },
   "outputs": [],
   "source": [
    "print \"product menu:\\n\\t1.create\\n\\t2.update\\n\\t3.delete\\n\\t4.browse\"\n",
    "a=raw_input(\"Enter a value:\")\n",
    "if a=\"1\":\n",
    "    print \"Create a Product\"\n",
    "if a==\"2\":\n",
    "    print \"Update a Product\"\n",
    "if a==\"3\":\n",
    "    print \"Delete a Product\"\n",
    "if a==\"4\":\n",
    "    print \"Browse the Product\"\n",
    "print \"Thank you\""
   ]
  },
  {
   "cell_type": "code",
   "execution_count": null,
   "metadata": {
    "collapsed": true
   },
   "outputs": [],
   "source": [
    "print \"product menu:\\n\\t1.create\\n\\t2.update\\n\\t3.delete\\n\\t4.browse\"\n",
    "a=raw_input(\"Enter a value:\")\n",
    "if a==\"1\":\n",
    "    print \"Create a Product\"\n",
    "if a==\"2\":\n",
    "    print \"Update a Product\"\n",
    "if a==\"3\":\n",
    "    print \"Delete a Product\"\n",
    "if a==\"4\":\n",
    "    print \"Browse the Product\"\n",
    "print \"Thank you\""
   ]
  },
  {
   "cell_type": "code",
   "execution_count": null,
   "metadata": {
    "collapsed": true
   },
   "outputs": [],
   "source": [
    "print \"product menu:\\n\\t1.create\\n\\t2.update\\n\\t3.delete\\n\\t4.browse\"\n",
    "a=raw_input(\"Enter a value:\")\n",
    "if a==\"1\":\n",
    "    print \"Create a Product\"\n",
    "if a==\"2\":\n",
    "    print \"Update a Product\"\n",
    "if a==\"3\":\n",
    "    print \"Delete a Product\"\n",
    "if a==\"4\":\n",
    "    print \"Browse the Product\"\n",
    "print \"Thank you\""
   ]
  },
  {
   "cell_type": "code",
   "execution_count": 1,
   "metadata": {},
   "outputs": [
    {
     "name": "stdout",
     "output_type": "stream",
     "text": [
      "product menu:\n",
      "\t1.create\n",
      "\t2.update\n",
      "\t3.delete\n",
      "\t4.browse\n",
      "Enter a value:1\n",
      "Create a Product\n",
      "Thank you\n"
     ]
    }
   ],
   "source": [
    "print \"product menu:\\n\\t1.create\\n\\t2.update\\n\\t3.delete\\n\\t4.browse\"\n",
    "a=raw_input(\"Enter a value:\")\n",
    "if a==\"1\":\n",
    "    print \"Create a Product\"\n",
    "if a==\"2\":\n",
    "    print \"Update a Product\"\n",
    "if a==\"3\":\n",
    "    print \"Delete a Product\"\n",
    "if a==\"4\":\n",
    "    print \"Browse the Product\"\n",
    "else:\n",
    "    print \"Enter valid value 1 or 2 or 3 or 4\"\n",
    "print \"Thank you\""
   ]
  },
  {
   "cell_type": "code",
   "execution_count": 2,
   "metadata": {},
   "outputs": [
    {
     "name": "stdout",
     "output_type": "stream",
     "text": [
      "product menu:\n",
      "\t1.create\n",
      "\t2.update\n",
      "\t3.delete\n",
      "\t4.browse\n",
      "Enter a value:3\n",
      "Delete a Product\n",
      "Enter valid value 1 or 2 or 3 or 4\n",
      "Thank you\n"
     ]
    }
   ],
   "source": [
    "# Error at after 4th condition : Enter valid value 1 or 2 or 3 or 4\n",
    "print \"product menu:\\n\\t1.create\\n\\t2.update\\n\\t3.delete\\n\\t4.browse\"\n",
    "a=raw_input(\"Enter a value:\")\n",
    "if a==\"1\":\n",
    "    print \"Create a Product\"\n",
    "if a==\"2\":\n",
    "    print \"Update a Product\"\n",
    "if a==\"3\":\n",
    "    print \"Delete a Product\"\n",
    "if a==\"4\":\n",
    "    print \"Browse the Product\"\n",
    "else:\n",
    "    print \"Enter valid value 1 or 2 or 3 or 4\"\n",
    "print \"Thank you\""
   ]
  },
  {
   "cell_type": "code",
   "execution_count": 3,
   "metadata": {},
   "outputs": [
    {
     "name": "stdout",
     "output_type": "stream",
     "text": [
      "product menu:\n",
      "\t1.create\n",
      "\t2.update\n",
      "\t3.delete\n",
      "\t4.browse\n",
      "Enter a value:3\n",
      "Delete a Product\n",
      "Thank you\n"
     ]
    }
   ],
   "source": [
    "# Error at after 4th condition : Enter valid value 1 or 2 or 3 or 4 to correct this elif\n",
    "print \"product menu:\\n\\t1.create\\n\\t2.update\\n\\t3.delete\\n\\t4.browse\"\n",
    "a=raw_input(\"Enter a value:\")\n",
    "if a==\"1\":\n",
    "    print \"Create a Product\"\n",
    "elif a==\"2\":\n",
    "    print \"Update a Product\"\n",
    "elif a==\"3\":\n",
    "    print \"Delete a Product\"\n",
    "elif a==\"4\":\n",
    "    print \"Browse the Product\"\n",
    "else:\n",
    "    print \"Enter valid value 1 or 2 or 3 or 4\"\n",
    "print \"Thank you\""
   ]
  },
  {
   "cell_type": "code",
   "execution_count": 4,
   "metadata": {},
   "outputs": [
    {
     "name": "stdout",
     "output_type": "stream",
     "text": [
      "Menu:\n",
      "\t11.Marriage\n",
      "\t2.Voting\n",
      "\tGovt Job\n"
     ]
    }
   ],
   "source": [
    "#Evaluating system for people in India\n",
    "\"\"\"\n",
    "Evaluating system for people in india\n",
    "    1. Marriage (min 21)\n",
    "    2.Voting (min:22)\n",
    "    3.Govt Job application (min:18, max:30)\n",
    "Enter Option:\n",
    "Enter an age:\n",
    "\"\"\"\n",
    "print \"Menu:\\n\\t11.Marriage\\n\\t2.Voting\\n\\tGovt Job\""
   ]
  },
  {
   "cell_type": "code",
   "execution_count": null,
   "metadata": {},
   "outputs": [
    {
     "name": "stdout",
     "output_type": "stream",
     "text": [
      "Menu:\n",
      "\t1.Marriage\n",
      "\t2.Voting\n",
      "\t3.Govt Job\n"
     ]
    }
   ],
   "source": [
    "#Evaluating system for people in India\n",
    "\"\"\"\n",
    "Evaluating system for people in india\n",
    "    1. Marriage (min 21)\n",
    "    2.Voting (min:22)\n",
    "    3.Govt Job application (min:18, max:30)\n",
    "Enter Option:\n",
    "Enter an age:\n",
    "\"\"\"\n",
    "print \"Menu:\\n\\t1.Marriage\\n\\t2.Voting\\n\\t3.Govt Job\"\n",
    "a=raw_input(\"Enter your value:\")\n",
    "b=raw_input(\"Enter your age\")\n",
    "b=int(b)\n",
    "if a==\"1\" and b>21:\n",
    "    print \"Ready for Marriage\"\n",
    "elif a==\"2\" and b>22:\n",
    "    print \"Ready for Voting\"\n",
    "elif a==\"3\" and b>18 and b<31:\n",
    "    print \"Ready for Job\"\n",
    "print \"Thank you\"\n",
    "    \n"
   ]
  },
  {
   "cell_type": "code",
   "execution_count": 6,
   "metadata": {},
   "outputs": [
    {
     "name": "stdout",
     "output_type": "stream",
     "text": [
      "Menu:\n",
      "\t1.Marriage\n",
      "\t2.Voting\n",
      "\t3.Govt Job\n",
      "Enter your value:1\n",
      "Enter your age23\n"
     ]
    }
   ],
   "source": [
    "print \"Menu:\\n\\t1.Marriage\\n\\t2.Voting\\n\\t3.Govt Job\"\n",
    "a=raw_input(\"Enter your value:\")\n",
    "b=raw_input(\"Enter your age\")"
   ]
  },
  {
   "cell_type": "code",
   "execution_count": 11,
   "metadata": {},
   "outputs": [
    {
     "name": "stdout",
     "output_type": "stream",
     "text": [
      "Menu:\n",
      "\t1.Marriage\n",
      "\t2.Voting\n",
      "\t3.Govt Job\n",
      "Enter your value:1\n",
      "Enter your age23\n",
      "Ready for Marriage\n"
     ]
    }
   ],
   "source": [
    "#Evaluating system for people in India\n",
    "\"\"\"\n",
    "Evaluating system for people in india\n",
    "    1. Marriage (min 21)\n",
    "    2.Voting (min:22)\n",
    "    3.Govt Job application (min:18, max:30)\n",
    "Enter Option:\n",
    "Enter an age:\n",
    "\"\"\"\n",
    "print \"Menu:\\n\\t1.Marriage\\n\\t2.Voting\\n\\t3.Govt Job\"\n",
    "a=raw_input(\"Enter your value:\")\n",
    "b=raw_input(\"Enter your age\")\n",
    "b=int(b)\n",
    "if a==\"1\" and b>21:\n",
    "    print \"Ready for Marriage\"\n",
    "else:\n",
    "    print \"Valid Age:Age should be greater that 21\""
   ]
  },
  {
   "cell_type": "code",
   "execution_count": 12,
   "metadata": {},
   "outputs": [
    {
     "name": "stdout",
     "output_type": "stream",
     "text": [
      "Menu:\n",
      "\t1.Marriage\n",
      "\t2.Voting\n",
      "\t3.Govt Job\n",
      "Enter your value:1\n",
      "Enter your age20\n",
      "Valid Age:Age should be greater that 21\n"
     ]
    }
   ],
   "source": [
    "#Evaluating system for people in India\n",
    "\"\"\"\n",
    "Evaluating system for people in india\n",
    "    1. Marriage (min 21)\n",
    "    2.Voting (min:22)\n",
    "    3.Govt Job application (min:18, max:30)\n",
    "Enter Option:\n",
    "Enter an age:\n",
    "\"\"\"\n",
    "print \"Menu:\\n\\t1.Marriage\\n\\t2.Voting\\n\\t3.Govt Job\"\n",
    "a=raw_input(\"Enter your value:\")\n",
    "b=raw_input(\"Enter your age\")\n",
    "b=int(b)\n",
    "if a==\"1\" and b>21:\n",
    "    print \"Ready for Marriage\"\n",
    "else:\n",
    "    print \"Valid Age:Age should be greater that 21\""
   ]
  },
  {
   "cell_type": "code",
   "execution_count": 7,
   "metadata": {},
   "outputs": [
    {
     "name": "stdout",
     "output_type": "stream",
     "text": [
      "Menu:\n",
      "\t1.Marriage\n",
      "\t2.Voting\n",
      "\t3.Govt Job\n",
      "Enter your value:4\n",
      "Enter your age34\n",
      "Not eligible for Job\n",
      "Thank you\n"
     ]
    }
   ],
   "source": [
    "#Evaluating system for people in India\n",
    "\"\"\"\n",
    "Evaluating system for people in india\n",
    "    1. Marriage (min 21)\n",
    "    2.Voting (min:22)\n",
    "    3.Govt Job application (min:18, max:30)\n",
    "Enter Option:\n",
    "Enter an age:\n",
    "\"\"\"\n",
    "print \"Menu:\\n\\t1.Marriage\\n\\t2.Voting\\n\\t3.Govt Job\"\n",
    "a=raw_input(\"Enter your value:\")\n",
    "b=raw_input(\"Enter your age\")\n",
    "b=int(b)\n",
    "if a==\"1\" and b>21:\n",
    "    print \"Ready for Marriage\"\n",
    "elif a==\"1\" and b<21:\n",
    "    print \"Not eligible for Marriage\"\n",
    "elif a==\"2\" and b>22:\n",
    "    print \"Ready for Voting\"\n",
    "elif a==\"2\" and b<22:\n",
    "    print \"Not eligible for Voting\"\n",
    "elif a==\"3\" and b>18 and b<31:\n",
    "    print \"Ready for Job\"\n",
    "elif a==\"3\" and b<18 or b>31:\n",
    "    print \"Not eligible for Job\"\n",
    "print \"Thank you\"\n",
    "    \n"
   ]
  },
  {
   "cell_type": "code",
   "execution_count": null,
   "metadata": {},
   "outputs": [
    {
     "name": "stdout",
     "output_type": "stream",
     "text": [
      "Menu:\n",
      "\t1.Marriage\n",
      "\t2.Voting\n",
      "\t3.Govt Job\n"
     ]
    }
   ],
   "source": [
    "#Evaluating system for people in India\n",
    "\"\"\"\n",
    "Evaluating system for people in india\n",
    "    1. Marriage (min 21)\n",
    "    2.Voting (min:22)\n",
    "    3.Govt Job application (min:18, max:30)\n",
    "Enter Option:\n",
    "Enter an age:\n",
    "\"\"\"\n",
    "print \"Menu:\\n\\t1.Marriage\\n\\t2.Voting\\n\\t3.Govt Job\"\n",
    "a=int(raw_input(\"Enter your value:\"))\n",
    "b=int(raw_input(\"Enter your age\"))\n",
    "if a>3:\n",
    "    print \"Wrong option\"\n",
    "else:\n",
    "    if a==1 and b>21:\n",
    "        print \"Ready for Marriage\"\n",
    "    elif a==1 and b<21:\n",
    "        print \"Not eligible for Marriage\"\n",
    "    elif a==2 and b>22:\n",
    "        print \"Ready for Voting\"\n",
    "    elif a==2 and b<22:\n",
    "        print \"Not eligible for Voting\"\n",
    "    elif a==3 and b>18 and b<31:\n",
    "        print \"Ready for Job\"\n",
    "    elif a==3 and b<18 or b>31:\n",
    "        print \"Not eligible for Job\"\n",
    "print \"Thank you\"\n",
    "    \n"
   ]
  },
  {
   "cell_type": "code",
   "execution_count": null,
   "metadata": {},
   "outputs": [],
   "source": [
    "#Evaluating system for people in India\n",
    "\"\"\"\n",
    "Evaluating system for people in india\n",
    "    1. Marriage (min 21)\n",
    "    2.Voting (min:22)\n",
    "    3.Govt Job application (min:18, max:30)\n",
    "Enter Option:\n",
    "Enter an age:\n",
    "\"\"\"\n",
    "print \"Menu:\\n\\t1.Marriage\\n\\t2.Voting\\n\\t3.Govt Job\"\n",
    "a=int(raw_input(\"Enter your value:\"))\n",
    "b=int(raw_input(\"Enter your age\"))\n",
    "if a>3:\n",
    "    print \"Wrong option\"\n",
    "else:\n",
    "    if a==1 and b>21:\n",
    "        print \"Ready for Marriage\"\n",
    "    elif a==1 and b<21:\n",
    "        print \"Not eligible for Marriage\"\n",
    "    elif a==2 and b>22:\n",
    "        print \"Ready for Voting\"\n",
    "    elif a==2 and b<22:\n",
    "        print \"Not eligible for Voting\"\n",
    "    elif a==3 and b>18 and b<31:\n",
    "        print \"Ready for Job\"\n",
    "    elif a==3 and b<18 or b>31:\n",
    "        print \"Not eligible for Job\"\n",
    "print \"Thank you\"\n",
    "    \n"
   ]
  },
  {
   "cell_type": "code",
   "execution_count": null,
   "metadata": {
    "collapsed": true
   },
   "outputs": [],
   "source": [
    "print \"Menu:\\n\\t1.Marriage\\n\\t2.Voting\\n\\t3.Govt Job\"\n",
    "a=int(raw_input(\"Enter your value:\"))\n",
    "\n",
    "if a>3:\n",
    "    print \"Wrong option\"\n",
    "else:\n",
    "b=int(raw_input(\"Enter your age\"))"
   ]
  },
  {
   "cell_type": "code",
   "execution_count": null,
   "metadata": {
    "collapsed": true
   },
   "outputs": [],
   "source": [
    "#Evaluating system for people in India\n",
    "\"\"\"\n",
    "Evaluating system for people in india\n",
    "    1. Marriage (min 21)\n",
    "    2.Voting (min:22)\n",
    "    3.Govt Job application (min:18, max:30)\n",
    "Enter Option:\n",
    "Enter an age:\n",
    "\"\"\"\n",
    "print \"Menu:\\n\\t1.Marriage\\n\\t2.Voting\\n\\t3.Govt Job\"\n",
    "a=int(raw_input(\"Enter your value:\"))\n",
    "b=int(raw_input(\"Enter your age\"))\n",
    "if a>3:\n",
    "    print \"Wrong option\"\n",
    "else:\n",
    "    if a==1 and b>21:\n",
    "        print \"Ready for Marriage\"\n",
    "    elif a==1 and b<21:\n",
    "        print \"Not eligible for Marriage\"\n",
    "    elif a==2 and b>22:\n",
    "        print \"Ready for Voting\"\n",
    "    elif a==2 and b<22:\n",
    "        print \"Not eligible for Voting\"\n",
    "    elif a==3 and b>18 and b<31:\n",
    "        print \"Ready for Job\"\n",
    "    elif a==3 and b<18 or b>31:\n",
    "        print \"Not eligible for Job\"\n",
    "print \"Thank you\""
   ]
  },
  {
   "cell_type": "code",
   "execution_count": null,
   "metadata": {
    "collapsed": true
   },
   "outputs": [],
   "source": []
  }
 ],
 "metadata": {
  "kernelspec": {
   "display_name": "Python 2",
   "language": "python",
   "name": "python2"
  }
 },
 "nbformat": 4,
 "nbformat_minor": 2
}
