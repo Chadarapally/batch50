{
 "cells": [
  {
   "cell_type": "code",
   "execution_count": 1,
   "metadata": {},
   "outputs": [
    {
     "name": "stdout",
     "output_type": "stream",
     "text": [
      "10\n"
     ]
    }
   ],
   "source": [
    "print 10"
   ]
  },
  {
   "cell_type": "code",
   "execution_count": 2,
   "metadata": {
    "collapsed": true
   },
   "outputs": [],
   "source": [
    "import sqlite3 # Python module # Driver"
   ]
  },
  {
   "cell_type": "code",
   "execution_count": 3,
   "metadata": {
    "collapsed": true
   },
   "outputs": [],
   "source": [
    "con=sqlite3.connect(\"batch50\")"
   ]
  },
  {
   "cell_type": "code",
   "execution_count": 4,
   "metadata": {
    "collapsed": true
   },
   "outputs": [],
   "source": [
    "cur=con.cursor()"
   ]
  },
  {
   "cell_type": "code",
   "execution_count": 5,
   "metadata": {},
   "outputs": [
    {
     "data": {
      "text/plain": [
       "<sqlite3.Cursor at 0x5f529d0>"
      ]
     },
     "execution_count": 5,
     "metadata": {},
     "output_type": "execute_result"
    }
   ],
   "source": [
    "cur.execute(\"create table table_1(id int, name varchar(250))\")"
   ]
  },
  {
   "cell_type": "code",
   "execution_count": 10,
   "metadata": {},
   "outputs": [
    {
     "data": {
      "text/plain": [
       "<sqlite3.Cursor at 0x5f529d0>"
      ]
     },
     "execution_count": 10,
     "metadata": {},
     "output_type": "execute_result"
    }
   ],
   "source": [
    "q=\"insert into table_1(id,name) values(1,'anil')\"\n",
    "cur.execute(q)"
   ]
  },
  {
   "cell_type": "code",
   "execution_count": 11,
   "metadata": {
    "collapsed": true
   },
   "outputs": [],
   "source": [
    "con.commit()"
   ]
  },
  {
   "cell_type": "code",
   "execution_count": 21,
   "metadata": {},
   "outputs": [
    {
     "name": "stdout",
     "output_type": "stream",
     "text": [
      "{'dbdetails': {'username': 'postgres', 'host': 'localhost', 'password': 'root', 'dbname': 'batch50', 'port': '5432'}}\n",
      "{'username': 'postgres', 'host': 'localhost', 'password': 'root', 'dbname': 'batch50', 'port': '5432'}\n",
      "{'username': 'postgres', 'host': 'localhost', 'password': 'root', 'dbname': 'batch50', 'port': '5432'}\n",
      "postgres root\n"
     ]
    }
   ],
   "source": [
    "d={\"dbdetails\":{\"dbname\":\"batch50\",\"host\":\"localhost\",\"port\":\"5432\",\"username\":\"postgres\",\"password\":\"root\"}}\n",
    "print d\n",
    "c=d[\"dbdetails\"]\n",
    "print d[\"dbdetails\"]\n",
    "print c\n",
    "user=c[\"username\"]\n",
    "pwd=c[\"password\"]\n",
    "print user,pwd"
   ]
  },
  {
   "cell_type": "code",
   "execution_count": 18,
   "metadata": {},
   "outputs": [
    {
     "name": "stdout",
     "output_type": "stream",
     "text": [
      "['dbdetails']\n"
     ]
    }
   ],
   "source": [
    "{\"dbdetails\":{\"dbname\":\"batch50\",\"host\":\"localhost\",\"port\":\"5432\",\"username\":\"postgres\",\"password\":\"root\"}}\n",
    "d=[\"dbdetails\"]\n",
    "print d"
   ]
  },
  {
   "cell_type": "code",
   "execution_count": null,
   "metadata": {
    "collapsed": true
   },
   "outputs": [],
   "source": []
  }
 ],
 "metadata": {
  "kernelspec": {
   "display_name": "Python 2",
   "language": "python",
   "name": "python2"
  },
  "language_info": {
   "codemirror_mode": {
    "name": "ipython",
    "version": 2
   },
   "file_extension": ".py",
   "mimetype": "text/x-python",
   "name": "python",
   "nbconvert_exporter": "python",
   "pygments_lexer": "ipython2",
   "version": "2.7.14"
  }
 },
 "nbformat": 4,
 "nbformat_minor": 2
}
