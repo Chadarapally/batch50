{
 "cells": [
  {
   "cell_type": "code",
   "execution_count": 1,
   "metadata": {},
   "outputs": [
    {
     "name": "stdout",
     "output_type": "stream",
     "text": [
      "Enter your name:Arun\n",
      "Enter your age:30\n",
      "Enter your Height:30\n",
      "Customer Name is: Arun\n",
      "Customer Age is:"
     ]
    },
    {
     "ename": "NameError",
     "evalue": "name 'cust_age' is not defined",
     "output_type": "error",
     "traceback": [
      "\u001b[1;31m---------------------------------------------------------------------------\u001b[0m",
      "\u001b[1;31mNameError\u001b[0m                                 Traceback (most recent call last)",
      "\u001b[1;32m<ipython-input-1-5458b55d229a>\u001b[0m in \u001b[0;36m<module>\u001b[1;34m()\u001b[0m\n\u001b[0;32m      3\u001b[0m \u001b[0mcust_height\u001b[0m\u001b[1;33m=\u001b[0m\u001b[0mraw_input\u001b[0m\u001b[1;33m(\u001b[0m\u001b[1;34m\"Enter your Height:\"\u001b[0m\u001b[1;33m)\u001b[0m\u001b[1;33m\u001b[0m\u001b[0m\n\u001b[0;32m      4\u001b[0m \u001b[1;32mprint\u001b[0m \u001b[1;34m\"Customer Name is:\"\u001b[0m\u001b[1;33m,\u001b[0m\u001b[0mcust_name\u001b[0m\u001b[1;33m\u001b[0m\u001b[0m\n\u001b[1;32m----> 5\u001b[1;33m \u001b[1;32mprint\u001b[0m \u001b[1;34m\"Customer Age is:\"\u001b[0m\u001b[1;33m,\u001b[0m\u001b[0mcust_age\u001b[0m\u001b[1;33m\u001b[0m\u001b[0m\n\u001b[0m\u001b[0;32m      6\u001b[0m \u001b[1;32mprint\u001b[0m \u001b[1;34m\"customer Height:\"\u001b[0m\u001b[1;33m,\u001b[0m\u001b[0mcust_height\u001b[0m\u001b[1;33m\u001b[0m\u001b[0m\n",
      "\u001b[1;31mNameError\u001b[0m: name 'cust_age' is not defined"
     ]
    }
   ],
   "source": [
    "cust_name=raw_input(\"Enter your name:\")\n",
    "Cust_age=raw_input(\"Enter your age:\")\n",
    "cust_height=raw_input(\"Enter your Height:\")\n",
    "print \"Customer Name is:\",cust_name\n",
    "print \"Customer Age is:\",cust_age\n",
    "print \"customer Height:\",cust_height"
   ]
  },
  {
   "cell_type": "code",
   "execution_count": 2,
   "metadata": {},
   "outputs": [
    {
     "name": "stdout",
     "output_type": "stream",
     "text": [
      "Enter your name:Arun\n",
      "Enter your age:30\n",
      "Enter your Height:5.6\n",
      " Customer Name is: Arun\n",
      "Customer Age is: 30\n",
      "customer Height: 5.6\n"
     ]
    }
   ],
   "source": [
    "cust_name=raw_input(\"Enter your name:\")\n",
    "Cust_age=raw_input(\"Enter your age:\")\n",
    "cust_height=raw_input(\"Enter your Height:\")\n",
    "print \"Customer Name is:\",cust_name\n",
    "print \"Customer Age is:\",Cust_age\n",
    "print \"customer Height:\",cust_height"
   ]
  },
  {
   "cell_type": "code",
   "execution_count": null,
   "metadata": {
    "collapsed": true
   },
   "outputs": [],
   "source": [
    "# Name,age, Height from customer and o/p insert into customer(name,age,height) values ('anil kumar',age,height)\n",
    "cust_name=raw_input(\"Enter your name:\")\n",
    "Cust_age=raw_input(\"Enter your age:\")\n",
    "cust_height=raw_input(\"Enter your Height:\")\n",
    "print \"Customer Name is:\",cust_name\n",
    "print \"Customer Age is:\",Cust_age\n",
    "print \"customer Height:\",cust_height\n",
    "print \"insert into customer (name,age,height) values ()\""
   ]
  },
  {
   "cell_type": "code",
   "execution_count": 3,
   "metadata": {},
   "outputs": [
    {
     "ename": "NameError",
     "evalue": "name 'hello' is not defined",
     "output_type": "error",
     "traceback": [
      "\u001b[1;31m---------------------------------------------------------------------------\u001b[0m",
      "\u001b[1;31mNameError\u001b[0m                                 Traceback (most recent call last)",
      "\u001b[1;32m<ipython-input-3-6c38f5b71a4c>\u001b[0m in \u001b[0;36m<module>\u001b[1;34m()\u001b[0m\n\u001b[0;32m      1\u001b[0m \u001b[1;31m# Print 'hello',I am in \"Hyderabad\".\u001b[0m\u001b[1;33m\u001b[0m\u001b[1;33m\u001b[0m\u001b[0m\n\u001b[1;32m----> 2\u001b[1;33m \u001b[1;32mprint\u001b[0m \u001b[1;33m(\u001b[0m\u001b[1;34m\"'\"\u001b[0m\u001b[1;33m,\u001b[0m\u001b[1;33m+\u001b[0m\u001b[0mhello\u001b[0m\u001b[1;33m,\u001b[0m\u001b[1;34m\"'\"\u001b[0m\u001b[1;33m,\u001b[0m\u001b[1;34m\",\"\u001b[0m\u001b[1;33m,\u001b[0m\u001b[1;34m\"I am in\"\u001b[0m\u001b[1;33m,\u001b[0m\u001b[1;34m\"\\\"\"\u001b[0m\u001b[1;33m,\u001b[0m\u001b[1;33m+\u001b[0m\u001b[0mHyderabad\u001b[0m\u001b[1;33m,\u001b[0m\u001b[1;34m\"\\\"\"\u001b[0m\u001b[1;33m)\u001b[0m\u001b[1;33m\u001b[0m\u001b[0m\n\u001b[0m",
      "\u001b[1;31mNameError\u001b[0m: name 'hello' is not defined"
     ]
    }
   ],
   "source": [
    "# Print 'hello',I am in \"Hyderabad\".\n",
    "print (\"'\",+hello,\"'\",\",\",\"I am in\",\"\\\"\",+Hyderabad,\"\\\"\")"
   ]
  },
  {
   "cell_type": "code",
   "execution_count": 4,
   "metadata": {},
   "outputs": [
    {
     "ename": "TypeError",
     "evalue": "bad operand type for unary +: 'str'",
     "output_type": "error",
     "traceback": [
      "\u001b[1;31m---------------------------------------------------------------------------\u001b[0m",
      "\u001b[1;31mTypeError\u001b[0m                                 Traceback (most recent call last)",
      "\u001b[1;32m<ipython-input-4-2e7da39b778a>\u001b[0m in \u001b[0;36m<module>\u001b[1;34m()\u001b[0m\n\u001b[0;32m      1\u001b[0m \u001b[1;31m# Print 'hello',I am in \"Hyderabad\".\u001b[0m\u001b[1;33m\u001b[0m\u001b[1;33m\u001b[0m\u001b[0m\n\u001b[1;32m----> 2\u001b[1;33m \u001b[1;32mprint\u001b[0m \u001b[1;33m(\u001b[0m\u001b[1;34m\"'\"\u001b[0m\u001b[1;33m,\u001b[0m\u001b[1;33m+\u001b[0m\u001b[1;34m\"hello\"\u001b[0m\u001b[1;33m,\u001b[0m\u001b[1;34m\"'\"\u001b[0m\u001b[1;33m,\u001b[0m\u001b[1;34m\",\"\u001b[0m\u001b[1;33m,\u001b[0m\u001b[1;34m\"I am in\"\u001b[0m\u001b[1;33m,\u001b[0m\u001b[1;34m\"\\\"\"\u001b[0m\u001b[1;33m,\u001b[0m\u001b[1;33m+\u001b[0m\u001b[1;34m\"Hyderabad\"\u001b[0m\u001b[1;33m,\u001b[0m\u001b[1;34m\"\\\"\"\u001b[0m\u001b[1;33m)\u001b[0m\u001b[1;33m\u001b[0m\u001b[0m\n\u001b[0m",
      "\u001b[1;31mTypeError\u001b[0m: bad operand type for unary +: 'str'"
     ]
    }
   ],
   "source": [
    "# Print 'hello',I am in \"Hyderabad\".\n",
    "print (\"'\",+\"hello\",\"'\",\",\",\"I am in\",\"\\\"\",+\"Hyderabad\",\"\\\"\")"
   ]
  },
  {
   "cell_type": "code",
   "execution_count": 5,
   "metadata": {},
   "outputs": [
    {
     "name": "stdout",
     "output_type": "stream",
     "text": [
      "(\"'\", 'hello', \"'\", ',', 'I am in', '\"', 'Hyderabad', '\"')\n"
     ]
    }
   ],
   "source": [
    "# Print 'hello',I am in \"Hyderabad\".\n",
    "print (\"'\",\"hello\",\"'\",\",\",\"I am in\",\"\\\"\",\"Hyderabad\",\"\\\"\")"
   ]
  },
  {
   "cell_type": "code",
   "execution_count": 6,
   "metadata": {},
   "outputs": [
    {
     "name": "stdout",
     "output_type": "stream",
     "text": [
      "'hello', Iam in \"hyderabad\"\n"
     ]
    }
   ],
   "source": [
    "# Print 'hello',I am in \"Hyderabad\".\n",
    "print \"'hello', Iam in \\\"hyderabad\\\"\"\n"
   ]
  },
  {
   "cell_type": "code",
   "execution_count": null,
   "metadata": {
    "collapsed": true
   },
   "outputs": [],
   "source": [
    "# Print 'hello',I am in \"Hyderabad\".\n",
    "print \"'hello', Iam in \\\"hyderabad\\\"\"\n"
   ]
  },
  {
   "cell_type": "code",
   "execution_count": 7,
   "metadata": {},
   "outputs": [
    {
     "name": "stdout",
     "output_type": "stream",
     "text": [
      "line1\tline2\n",
      "Arun\n",
      "kumar\n",
      "line1\tline2\n",
      "Arun\n",
      "kumar\n"
     ]
    }
   ],
   "source": [
    "print \"line1\\tline2\\nArun\\nkumar\"\n",
    "print 'line1\\tline2\\nArun\\nkumar'"
   ]
  },
  {
   "cell_type": "code",
   "execution_count": 8,
   "metadata": {},
   "outputs": [
    {
     "name": "stdout",
     "output_type": "stream",
     "text": [
      "line1\\tline2\\nArun\\nkumar\n"
     ]
    }
   ],
   "source": [
    "print \"line1\\\\tline2\\\\nArun\\\\nkumar\"\n"
   ]
  },
  {
   "cell_type": "code",
   "execution_count": 9,
   "metadata": {},
   "outputs": [
    {
     "name": "stdout",
     "output_type": "stream",
     "text": [
      "line1\\tline2\\nArun\\nkumar\n",
      "line1\\tline2\\nArun\\nkumar\n"
     ]
    }
   ],
   "source": [
    "print \"line1\\\\tline2\\\\nArun\\\\nkumar\"\n",
    "print r\"line1\\tline2\\nArun\\nkumar\""
   ]
  },
  {
   "cell_type": "code",
   "execution_count": 10,
   "metadata": {},
   "outputs": [
    {
     "name": "stdout",
     "output_type": "stream",
     "text": [
      "line1\\tline2\\nArun\\nkumar\n",
      "line1\\tline2\\nArun\\nkumar\n",
      "line1\\tline2\\nArun\\nkumar\n"
     ]
    }
   ],
   "source": [
    "print \"line1\\\\tline2\\\\nArun\\\\nkumar\"\n",
    "print r\"line1\\tline2\\nArun\\nkumar\"\n",
    "print r'line1\\tline2\\nArun\\nkumar'"
   ]
  },
  {
   "cell_type": "code",
   "execution_count": 11,
   "metadata": {},
   "outputs": [
    {
     "name": "stdout",
     "output_type": "stream",
     "text": [
      "cost pricce of the product: 23.45678\n",
      "cost pricce of the product:23.45678\n"
     ]
    }
   ],
   "source": [
    "#print cost price of the product=23.456789\n",
    "cost_price=23.45678\n",
    "print \"cost pricce of the product:\",cost_price\n",
    "print \"cost pricce of the product:\"+str(cost_price)"
   ]
  },
  {
   "cell_type": "code",
   "execution_count": 12,
   "metadata": {},
   "outputs": [
    {
     "name": "stdout",
     "output_type": "stream",
     "text": [
      "cost pricce of the product:%f 23.45678\n",
      "cost pricce of the product:23.456780\n"
     ]
    }
   ],
   "source": [
    "# Format Specifiers %f\n",
    "#print cost price of the product=23.456789\n",
    "cost_price=23.45678\n",
    "print \"cost pricce of the product:%f\",cost_price\n",
    "print \"cost pricce of the product:%f\"%cost_price"
   ]
  },
  {
   "cell_type": "code",
   "execution_count": 13,
   "metadata": {},
   "outputs": [
    {
     "name": "stdout",
     "output_type": "stream",
     "text": [
      "cost pricce of the product:23.456780\n",
      "cost pricce of the product:23.46\n"
     ]
    }
   ],
   "source": [
    "# Format Specifiers %f\n",
    "#print cost price of the product=23.456789\n",
    "cost_price=23.45678\n",
    "print \"cost pricce of the product:%f\"%cost_price\n",
    "print \"cost pricce of the product:%.2f\"%cost_price"
   ]
  },
  {
   "cell_type": "code",
   "execution_count": 14,
   "metadata": {},
   "outputs": [
    {
     "name": "stdout",
     "output_type": "stream",
     "text": [
      "cost pricce of the product:23.000000\n",
      "cost pricce of the product:23.00\n"
     ]
    }
   ],
   "source": [
    "# Format Specifiers %f\n",
    "#print cost price of the product=23.456789\n",
    "cost_price=23\n",
    "print \"cost pricce of the product:%f\"%cost_price\n",
    "print \"cost pricce of the product:%.2f\"%cost_price"
   ]
  },
  {
   "cell_type": "code",
   "execution_count": 15,
   "metadata": {},
   "outputs": [
    {
     "name": "stdout",
     "output_type": "stream",
     "text": [
      "cost pricce of the product:23\n",
      "cost pricce of the product:23\n"
     ]
    }
   ],
   "source": [
    "# Format Specifiers %f\n",
    "#print cost price of the product=23.456789\n",
    "cost_price=23.456789\n",
    "print \"cost pricce of the product:%d\"%cost_price\n",
    "print \"cost pricce of the product:\"+str(int(cost_price))"
   ]
  },
  {
   "cell_type": "code",
   "execution_count": 16,
   "metadata": {},
   "outputs": [
    {
     "ename": "SyntaxError",
     "evalue": "invalid syntax (<ipython-input-16-b2106fcccac7>, line 5)",
     "output_type": "error",
     "traceback": [
      "\u001b[1;36m  File \u001b[1;32m\"<ipython-input-16-b2106fcccac7>\"\u001b[1;36m, line \u001b[1;32m5\u001b[0m\n\u001b[1;33m    print  \"Person Name:%s\" name\u001b[0m\n\u001b[1;37m                               ^\u001b[0m\n\u001b[1;31mSyntaxError\u001b[0m\u001b[1;31m:\u001b[0m invalid syntax\n"
     ]
    }
   ],
   "source": [
    "#print person Name:Anil kumar,Weight:23, height:5.67\n",
    "name=\"Arun Kumar\"\n",
    "weight=23\n",
    "height=5.67\n",
    "print  \"Person Name:%s\" name\n",
    "\n"
   ]
  },
  {
   "cell_type": "code",
   "execution_count": 17,
   "metadata": {},
   "outputs": [
    {
     "name": "stdout",
     "output_type": "stream",
     "text": [
      "Person Name:%s Arun Kumar\n"
     ]
    }
   ],
   "source": [
    "#print person Name:Anil kumar,Weight:23, height:5.67\n",
    "name=\"Arun Kumar\"\n",
    "weight=23\n",
    "height=5.67\n",
    "print  \"Person Name:%s\",name"
   ]
  },
  {
   "cell_type": "code",
   "execution_count": 18,
   "metadata": {},
   "outputs": [
    {
     "name": "stdout",
     "output_type": "stream",
     "text": [
      "Person Name:Arun Kumar\n"
     ]
    }
   ],
   "source": [
    "#print person Name:Anil kumar,Weight:23, height:5.67\n",
    "name=\"Arun Kumar\"\n",
    "weight=23\n",
    "height=5.67\n",
    "print  \"Person Name:%s\"% name"
   ]
  },
  {
   "cell_type": "code",
   "execution_count": 19,
   "metadata": {},
   "outputs": [
    {
     "name": "stdout",
     "output_type": "stream",
     "text": [
      "Person Name:Arun Kumar\n",
      "Person Name:23\n"
     ]
    }
   ],
   "source": [
    "#print person Name:Anil kumar,Weight:23, height:5.67\n",
    "name=\"Arun Kumar\"\n",
    "weight=23.57\n",
    "height=5.67\n",
    "print  \"Person Name:%s\"% name\n",
    "print  \"Person Name:%d\"% weight"
   ]
  },
  {
   "cell_type": "code",
   "execution_count": 20,
   "metadata": {},
   "outputs": [
    {
     "name": "stdout",
     "output_type": "stream",
     "text": [
      "Person Name:Arun Kumar\n",
      "Person Name:23\n",
      "Person Name:5.670000\n"
     ]
    }
   ],
   "source": [
    "#print person Name:Anil kumar,Weight:23, height:5.67\n",
    "name=\"Arun Kumar\"\n",
    "weight=23.57\n",
    "height=5.67\n",
    "print  \"Person Name:%s\"% name\n",
    "print  \"Person Name:%d\"% weight\n",
    "print  \"Person Name:%f\"% height"
   ]
  },
  {
   "cell_type": "code",
   "execution_count": 21,
   "metadata": {},
   "outputs": [
    {
     "name": "stdout",
     "output_type": "stream",
     "text": [
      "Person Name:Arun Kumar\n",
      "Person Weight:23\n",
      "Person Height:5.670000\n",
      "Person Details (name, wight, height) values (Arun Kumar,23,5.670000)\n"
     ]
    }
   ],
   "source": [
    "#print person Name:Anil kumar,Weight:23, height:5.67\n",
    "name=\"Arun Kumar\"\n",
    "weight=23.57\n",
    "height=5.67\n",
    "print  \"Person Name:%s\"% name\n",
    "print  \"Person Weight:%d\"% weight\n",
    "print  \"Person Height:%f\"% height\n",
    "print \"Person Details (name, wight, height) values (%s,%d,%f)\"% (name, weight, height)"
   ]
  },
  {
   "cell_type": "code",
   "execution_count": 22,
   "metadata": {},
   "outputs": [
    {
     "name": "stdout",
     "output_type": "stream",
     "text": [
      "Person Name:Arun Kumar\n",
      "Person Weight:23\n",
      "Person Height:5.670000\n",
      "Person Details (name, wight, height) values (Arun Kumar,23,5.670000)\n",
      "Person name:Arun Kumar, Weight:23,Height:5.67\n"
     ]
    }
   ],
   "source": [
    "#print person Name:Anil kumar,Weight:23, height:5.67\n",
    "name=\"Arun Kumar\"\n",
    "weight=23.57\n",
    "height=5.67\n",
    "print  \"Person Name:%s\"% name\n",
    "print  \"Person Weight:%d\"% weight\n",
    "print  \"Person Height:%f\"% height\n",
    "print \"Person Details (name, wight, height) values (%s,%d,%f)\"% (name, weight, height)\n",
    "print \"Person name:%s, Weight:%d,Height:%.2f\"%(name, weight,height)"
   ]
  },
  {
   "cell_type": "code",
   "execution_count": 23,
   "metadata": {},
   "outputs": [
    {
     "name": "stdout",
     "output_type": "stream",
     "text": [
      "Enter sinle lettera\n",
      "a\n"
     ]
    }
   ],
   "source": [
    "# converting small letter into capital letter, this will work for only single character\n",
    "letter=raw_input(\"Enter sinle letter\")\n",
    "print letter\n"
   ]
  },
  {
   "cell_type": "code",
   "execution_count": 24,
   "metadata": {},
   "outputs": [
    {
     "name": "stdout",
     "output_type": "stream",
     "text": [
      "Enter sinle lettera\n"
     ]
    },
    {
     "ename": "TypeError",
     "evalue": "ord() expected a character, but string of length 6 found",
     "output_type": "error",
     "traceback": [
      "\u001b[1;31m---------------------------------------------------------------------------\u001b[0m",
      "\u001b[1;31mTypeError\u001b[0m                                 Traceback (most recent call last)",
      "\u001b[1;32m<ipython-input-24-c8f784c782c5>\u001b[0m in \u001b[0;36m<module>\u001b[1;34m()\u001b[0m\n\u001b[0;32m      1\u001b[0m \u001b[1;31m# converting small letter into capital letter, this will work for only single character\u001b[0m\u001b[1;33m\u001b[0m\u001b[1;33m\u001b[0m\u001b[0m\n\u001b[0;32m      2\u001b[0m \u001b[0mletter\u001b[0m\u001b[1;33m=\u001b[0m\u001b[0mraw_input\u001b[0m\u001b[1;33m(\u001b[0m\u001b[1;34m\"Enter sinle letter\"\u001b[0m\u001b[1;33m)\u001b[0m\u001b[1;33m\u001b[0m\u001b[0m\n\u001b[1;32m----> 3\u001b[1;33m \u001b[1;32mprint\u001b[0m \u001b[0mchr\u001b[0m\u001b[1;33m(\u001b[0m\u001b[0mord\u001b[0m\u001b[1;33m(\u001b[0m\u001b[1;34m\"letter\"\u001b[0m\u001b[1;33m)\u001b[0m\u001b[1;33m-\u001b[0m\u001b[1;36m32\u001b[0m\u001b[1;33m)\u001b[0m\u001b[1;33m\u001b[0m\u001b[0m\n\u001b[0m",
      "\u001b[1;31mTypeError\u001b[0m: ord() expected a character, but string of length 6 found"
     ]
    }
   ],
   "source": [
    "# converting small letter into capital letter, this will work for only single character\n",
    "letter=raw_input(\"Enter sinle letter\")\n",
    "print chr(ord(\"letter\")-32)\n"
   ]
  },
  {
   "cell_type": "code",
   "execution_count": null,
   "metadata": {
    "collapsed": true
   },
   "outputs": [],
   "source": [
    "# converting small letter into capital letter, this will work for only single character\n",
    "letter=raw_input(\"Enter sinle letter\")\n",
    "print chr(ord(letter)-32)\n"
   ]
  }
 ],
 "metadata": {
  "kernelspec": {
   "display_name": "Python 2",
   "language": "python",
   "name": "python2"
  },
  "language_info": {
   "codemirror_mode": {
    "name": "ipython",
    "version": 2
   },
   "file_extension": ".py",
   "mimetype": "text/x-python",
   "name": "python",
   "nbconvert_exporter": "python",
   "pygments_lexer": "ipython2",
   "version": "2.7.14"
  }
 },
 "nbformat": 4,
 "nbformat_minor": 2
}
