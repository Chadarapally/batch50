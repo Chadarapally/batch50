{
 "cells": [
  {
   "cell_type": "code",
   "execution_count": null,
   "metadata": {
    "collapsed": true
   },
   "outputs": [],
   "source": [
    "l=[10,20,30,10,20,30,10,20,30]\n",
    "for i in l:\n",
    "    if i==10:\n",
    "        l.remove(10)\n",
    "else:\n",
    "    print\"done\"\n",
    "print l\n",
    "\n",
    "    "
   ]
  },
  {
   "cell_type": "code",
   "execution_count": 2,
   "metadata": {},
   "outputs": [
    {
     "name": "stdout",
     "output_type": "stream",
     "text": [
      "10\n",
      "10\n",
      "10\n",
      "10\n",
      "done\n",
      "[10, 30, 10, 20, 30]\n"
     ]
    }
   ],
   "source": [
    "l=[10,10,10,10,10,30,10,20,30]\n",
    "for i in l:\n",
    "    if i==10:\n",
    "        l.remove(10)\n",
    "        print i\n",
    "else:\n",
    "    print\"done\"\n",
    "print l\n",
    "\n",
    "    "
   ]
  },
  {
   "cell_type": "code",
   "execution_count": 4,
   "metadata": {},
   "outputs": [
    {
     "name": "stdout",
     "output_type": "stream",
     "text": [
      "10\n",
      "[10, 10, 10, 10, 10, 10, 30, 10, 20, 30]\n",
      "10\n",
      "[10, 10, 10, 10, 10, 30, 10, 20, 30]\n",
      "10\n",
      "[10, 10, 10, 10, 30, 10, 20, 30]\n",
      "10\n",
      "[10, 10, 10, 30, 10, 20, 30]\n",
      "10\n",
      "[10, 10, 30, 10, 20, 30]\n",
      "done\n",
      "[10, 10, 30, 10, 20, 30]\n"
     ]
    }
   ],
   "source": [
    "l=[10,10,10,10,10,10,10,30,10,20,30]\n",
    "for i in l:\n",
    "    if i==10:\n",
    "        l.remove(10)\n",
    "        print i\n",
    "        print l\n",
    "else:\n",
    "    print\"done\"\n",
    "print l\n",
    "\n",
    "    "
   ]
  },
  {
   "cell_type": "code",
   "execution_count": 5,
   "metadata": {},
   "outputs": [
    {
     "name": "stdout",
     "output_type": "stream",
     "text": [
      "{'K3': 'V3', 'K2': 'V2', 'K1': 'V1'}\n"
     ]
    }
   ],
   "source": [
    "#d={\"Name\":\"Arun Kumar\",\"\"}\n",
    "d={\"K1\":\"V1\",\"K2\":\"V2\",\"K3\":\"V3\"}\n",
    "print d"
   ]
  },
  {
   "cell_type": "code",
   "execution_count": 6,
   "metadata": {},
   "outputs": [
    {
     "name": "stdout",
     "output_type": "stream",
     "text": [
      "K3\n",
      "K2\n",
      "K1\n"
     ]
    }
   ],
   "source": [
    "#d={\"Name\":\"Arun Kumar\",\"\"}\n",
    "d={\"K1\":\"V1\",\"K2\":\"V2\",\"K3\":\"V3\"}\n",
    "for i in d:\n",
    "    print i"
   ]
  },
  {
   "cell_type": "code",
   "execution_count": 7,
   "metadata": {},
   "outputs": [
    {
     "name": "stdout",
     "output_type": "stream",
     "text": [
      "K3\n",
      "{'K3': 'V3', 'K2': 'V2', 'K1': 'V1'}\n",
      "K2\n",
      "{'K3': 'V3', 'K2': 'V2', 'K1': 'V1'}\n",
      "K1\n",
      "{'K3': 'V3', 'K2': 'V2', 'K1': 'V1'}\n"
     ]
    }
   ],
   "source": [
    "#d={\"Name\":\"Arun Kumar\",\"\"}\n",
    "d={\"K1\":\"V1\",\"K2\":\"V2\",\"K3\":\"V3\"}\n",
    "for i in d:\n",
    "    print i\n",
    "    print d"
   ]
  },
  {
   "cell_type": "code",
   "execution_count": 8,
   "metadata": {},
   "outputs": [
    {
     "ename": "KeyError",
     "evalue": "0",
     "output_type": "error",
     "traceback": [
      "\u001b[1;31m---------------------------------------------------------------------------\u001b[0m",
      "\u001b[1;31mKeyError\u001b[0m                                  Traceback (most recent call last)",
      "\u001b[1;32m<ipython-input-8-714efda70e5f>\u001b[0m in \u001b[0;36m<module>\u001b[1;34m()\u001b[0m\n\u001b[0;32m      1\u001b[0m \u001b[1;31m#d={\"Name\":\"Arun Kumar\",\"\"}\u001b[0m\u001b[1;33m\u001b[0m\u001b[1;33m\u001b[0m\u001b[0m\n\u001b[0;32m      2\u001b[0m \u001b[0md\u001b[0m\u001b[1;33m=\u001b[0m\u001b[1;33m{\u001b[0m\u001b[1;34m\"K1\"\u001b[0m\u001b[1;33m:\u001b[0m\u001b[1;34m\"V1\"\u001b[0m\u001b[1;33m,\u001b[0m\u001b[1;34m\"K2\"\u001b[0m\u001b[1;33m:\u001b[0m\u001b[1;34m\"V2\"\u001b[0m\u001b[1;33m,\u001b[0m\u001b[1;34m\"K3\"\u001b[0m\u001b[1;33m:\u001b[0m\u001b[1;34m\"V3\"\u001b[0m\u001b[1;33m}\u001b[0m\u001b[1;33m\u001b[0m\u001b[0m\n\u001b[1;32m----> 3\u001b[1;33m \u001b[1;32mprint\u001b[0m \u001b[0md\u001b[0m\u001b[1;33m[\u001b[0m\u001b[1;36m0\u001b[0m\u001b[1;33m]\u001b[0m\u001b[1;33m\u001b[0m\u001b[0m\n\u001b[0m",
      "\u001b[1;31mKeyError\u001b[0m: 0"
     ]
    }
   ],
   "source": [
    "#d={\"Name\":\"Arun Kumar\",\"\"}\n",
    "d={\"K1\":\"V1\",\"K2\":\"V2\",\"K3\":\"V3\"}\n",
    "print d[0]"
   ]
  },
  {
   "cell_type": "code",
   "execution_count": 10,
   "metadata": {},
   "outputs": [
    {
     "ename": "NameError",
     "evalue": "name 'K1' is not defined",
     "output_type": "error",
     "traceback": [
      "\u001b[1;31m---------------------------------------------------------------------------\u001b[0m",
      "\u001b[1;31mNameError\u001b[0m                                 Traceback (most recent call last)",
      "\u001b[1;32m<ipython-input-10-3ae084b7fe18>\u001b[0m in \u001b[0;36m<module>\u001b[1;34m()\u001b[0m\n\u001b[0;32m      1\u001b[0m \u001b[1;31m#d={\"Name\":\"Arun Kumar\",\"\"}\u001b[0m\u001b[1;33m\u001b[0m\u001b[1;33m\u001b[0m\u001b[0m\n\u001b[0;32m      2\u001b[0m \u001b[0md\u001b[0m\u001b[1;33m=\u001b[0m\u001b[1;33m{\u001b[0m\u001b[1;34m\"K1\"\u001b[0m\u001b[1;33m:\u001b[0m\u001b[1;34m\"V1\"\u001b[0m\u001b[1;33m,\u001b[0m\u001b[1;34m\"K2\"\u001b[0m\u001b[1;33m:\u001b[0m\u001b[1;34m\"V2\"\u001b[0m\u001b[1;33m,\u001b[0m\u001b[1;34m\"K3\"\u001b[0m\u001b[1;33m:\u001b[0m\u001b[1;34m\"V3\"\u001b[0m\u001b[1;33m}\u001b[0m\u001b[1;33m\u001b[0m\u001b[0m\n\u001b[1;32m----> 3\u001b[1;33m \u001b[1;32mprint\u001b[0m \u001b[0md\u001b[0m\u001b[1;33m[\u001b[0m\u001b[0mK1\u001b[0m\u001b[1;33m]\u001b[0m\u001b[1;33m\u001b[0m\u001b[0m\n\u001b[0m",
      "\u001b[1;31mNameError\u001b[0m: name 'K1' is not defined"
     ]
    }
   ],
   "source": [
    "#d={\"Name\":\"Arun Kumar\",\"\"}\n",
    "d={\"K1\":\"V1\",\"K2\":\"V2\",\"K3\":\"V3\"}\n",
    "print d[K1]"
   ]
  },
  {
   "cell_type": "code",
   "execution_count": 13,
   "metadata": {},
   "outputs": [
    {
     "name": "stdout",
     "output_type": "stream",
     "text": [
      "Enter NameArun\n",
      "{'Name': 'Arun'}\n"
     ]
    }
   ],
   "source": [
    "p={\"Name\":raw_input(\"Enter Name\")}\n",
    "print p"
   ]
  },
  {
   "cell_type": "code",
   "execution_count": 16,
   "metadata": {},
   "outputs": [
    {
     "name": "stdout",
     "output_type": "stream",
     "text": [
      "{'Weight:': ':'}\n"
     ]
    }
   ],
   "source": [
    "# Take the number of persons count from the user and ask the inputs required for the BMI for each and every person. \n",
    "# The Result should be like below\n",
    "#1024:{\"Weight:,\"Height:\":,\"Age:\":,\"BMI:\":,\"Result:\":} # 1024 is employee id\n",
    "d={\"Weight:\":\":\"}#,\"Height:\":,\"Age:\":,\"BMI:\":,\"Result:\":}\n",
    "print d"
   ]
  },
  {
   "cell_type": "code",
   "execution_count": null,
   "metadata": {
    "collapsed": true
   },
   "outputs": [],
   "source": []
  }
 ],
 "metadata": {
  "kernelspec": {
   "display_name": "Python 2",
   "language": "python",
   "name": "python2"
  },
  "language_info": {
   "codemirror_mode": {
    "name": "ipython",
    "version": 2
   },
   "file_extension": ".py",
   "mimetype": "text/x-python",
   "name": "python",
   "nbconvert_exporter": "python",
   "pygments_lexer": "ipython2",
   "version": "2.7.14"
  }
 },
 "nbformat": 4,
 "nbformat_minor": 2
}
