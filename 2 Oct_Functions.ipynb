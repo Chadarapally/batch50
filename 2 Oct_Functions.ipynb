{
 "cells": [
  {
   "cell_type": "code",
   "execution_count": 14,
   "metadata": {},
   "outputs": [
    {
     "name": "stdout",
     "output_type": "stream",
     "text": [
      "Enter a value20\n",
      "Enter a value30\n",
      " a=20,b=30\n",
      "Summation= 50\n",
      "Enter a value30\n",
      "Enter a value20\n",
      "a=30,b=20\n",
      "Minus= 10\n"
     ]
    }
   ],
   "source": [
    "# Pass Inputs and Write Functions for Addition, Subtraction, Mutlitplication and Division\n",
    "def add(a,b):\n",
    "    print \"a=%d,b=%d\"% (a,b)\n",
    "    print \"Summation=\",a+b\n",
    "def minus(a,b):\n",
    "    print \"a=%d,b=%d\"% (a,b)\n",
    "    print \"Minus=\",a-b\n",
    "add(int(raw_input(\"Enter a value\")),int(raw_input(\"Enter a value\")))\n",
    "minus(int(raw_input(\"Enter a value\")),int(raw_input(\"Enter a value\")))"
   ]
  },
  {
   "cell_type": "code",
   "execution_count": null,
   "metadata": {},
   "outputs": [
    {
     "name": "stdout",
     "output_type": "stream",
     "text": [
      "Enter a value10\n",
      "Enter a value20\n",
      "a=10,b=20\n",
      "Summation=30\n"
     ]
    }
   ],
   "source": [
    "# Pass Inputs and Write Functions for Addition, Subtraction, Mutlitplication and Division\n",
    "def add(a,b):\n",
    "    print \"a=%d,b=%d\"% (a,b)\n",
    "    print \"Summation=%s\"%+(a+b)\n",
    "def minus(a,b):\n",
    "    print \"a=%s,b=%s\"% (a,b)\n",
    "    print \"Minus=%s\"%+(a-b)\n",
    "add(int(raw_input(\"Enter a value\")),int(raw_input(\"Enter a value\")))\n",
    "minus(int(raw_input(\"Enter a value\")),int((raw_input(\"Enter a value\"))))\n"
   ]
  },
  {
   "cell_type": "code",
   "execution_count": null,
   "metadata": {
    "collapsed": true
   },
   "outputs": [],
   "source": [
    "# Pass Inputs and Write Functions for Addition, Subtraction, Mutlitplication and Division\n",
    "def add(a,b):\n",
    "    print \"a=%d,b=%d\"% (a,b)\n",
    "    print \"Summation=\",a+b\n",
    "def minus(a,b):\n",
    "    print \"a=%d,b=%d\"% (a,b)\n",
    "    print \"Minus=\",a-b\n",
    "def Multi(c,d):\n",
    "    print \"c=%d,d=%d\",%(a,b)\n",
    "    print \"Multiplication=\",a*b\n",
    "add(int(raw_input(\"Enter a value\")),int(raw_input(\"Enter a value\")))\n",
    "minus(int(raw_input(\"Enter a value\")),int(raw_input(\"Enter a value\")))\n",
    "\n",
    "Multi (int(raw_input(\"Enter a value\")),int(raw_input(\"Enter a value\")))"
   ]
  },
  {
   "cell_type": "code",
   "execution_count": 1,
   "metadata": {},
   "outputs": [
    {
     "name": "stdout",
     "output_type": "stream",
     "text": [
      "a=1,b=2,c=3,d=4,e=5\n",
      "Summation=15\n"
     ]
    }
   ],
   "source": [
    "# N Number of values\n",
    "def add(a,b,c,d,e):\n",
    "    print \"a=%d,b=%d,c=%d,d=%d,e=%d\"% (a,b,c,d,e)\n",
    "    print \"Summation=%s\"%+(a+b+c+d+e)\n",
    "add(1,2,3,4,5)\n",
    "\n"
   ]
  },
  {
   "cell_type": "code",
   "execution_count": 2,
   "metadata": {},
   "outputs": [
    {
     "ename": "TypeError",
     "evalue": "add() takes exactly 5 arguments (2 given)",
     "output_type": "error",
     "traceback": [
      "\u001b[1;31m---------------------------------------------------------------------------\u001b[0m",
      "\u001b[1;31mTypeError\u001b[0m                                 Traceback (most recent call last)",
      "\u001b[1;32m<ipython-input-2-a4677dea093f>\u001b[0m in \u001b[0;36m<module>\u001b[1;34m()\u001b[0m\n\u001b[0;32m      3\u001b[0m     \u001b[1;32mprint\u001b[0m \u001b[1;34m\"a=%d,b=%d,c=%d,d=%d,e=%d\"\u001b[0m\u001b[1;33m%\u001b[0m \u001b[1;33m(\u001b[0m\u001b[0ma\u001b[0m\u001b[1;33m,\u001b[0m\u001b[0mb\u001b[0m\u001b[1;33m,\u001b[0m\u001b[0mc\u001b[0m\u001b[1;33m,\u001b[0m\u001b[0md\u001b[0m\u001b[1;33m,\u001b[0m\u001b[0me\u001b[0m\u001b[1;33m)\u001b[0m\u001b[1;33m\u001b[0m\u001b[0m\n\u001b[0;32m      4\u001b[0m     \u001b[1;32mprint\u001b[0m \u001b[1;34m\"Summation=%s\"\u001b[0m\u001b[1;33m%\u001b[0m\u001b[1;33m+\u001b[0m\u001b[1;33m(\u001b[0m\u001b[0ma\u001b[0m\u001b[1;33m+\u001b[0m\u001b[0mb\u001b[0m\u001b[1;33m+\u001b[0m\u001b[0mc\u001b[0m\u001b[1;33m+\u001b[0m\u001b[0md\u001b[0m\u001b[1;33m+\u001b[0m\u001b[0me\u001b[0m\u001b[1;33m)\u001b[0m\u001b[1;33m\u001b[0m\u001b[0m\n\u001b[1;32m----> 5\u001b[1;33m \u001b[0madd\u001b[0m\u001b[1;33m(\u001b[0m\u001b[1;36m1\u001b[0m\u001b[1;33m,\u001b[0m\u001b[1;36m2\u001b[0m\u001b[1;33m)\u001b[0m\u001b[1;33m\u001b[0m\u001b[0m\n\u001b[0m\u001b[0;32m      6\u001b[0m \u001b[1;33m\u001b[0m\u001b[0m\n",
      "\u001b[1;31mTypeError\u001b[0m: add() takes exactly 5 arguments (2 given)"
     ]
    }
   ],
   "source": [
    "# N Number of values\n",
    "def add(a,b,c,d,e):\n",
    "    print \"a=%d,b=%d,c=%d,d=%d,e=%d\"% (a,b,c,d,e)\n",
    "    print \"Summation=%s\"%+(a+b+c+d+e)\n",
    "add(1,2)\n",
    "\n"
   ]
  },
  {
   "cell_type": "code",
   "execution_count": 4,
   "metadata": {},
   "outputs": [
    {
     "name": "stdout",
     "output_type": "stream",
     "text": [
      "a=10,b=0,c=0,d=0,e=0\n",
      "Summation=10\n",
      "a=10,b=20,c=0,d=0,e=0\n",
      "Summation=30\n",
      "a=10,b=20,c=30,d=0,e=0\n",
      "Summation=60\n",
      "a=10,b=20,c=30,d=40,e=0\n",
      "Summation=100\n"
     ]
    }
   ],
   "source": [
    "# Default Parameters or Default Argument concept, we need to pass atleast 1 argument max to 5\n",
    "def add(a,b=0,c=0,d=0,e=0):\n",
    "    print \"a=%d,b=%d,c=%d,d=%d,e=%d\"% (a,b,c,d,e)\n",
    "    print \"Summation=%s\"%+(a+b+c+d+e)\n",
    "add(10)\n",
    "add(10,20)\n",
    "add(10,20,30)\n",
    "add(10,20,30,40)\n",
    "\n"
   ]
  },
  {
   "cell_type": "code",
   "execution_count": 5,
   "metadata": {},
   "outputs": [
    {
     "name": "stdout",
     "output_type": "stream",
     "text": [
      "a=10,b=0,c=0,d=0,e=0\n",
      "Summation=10\n",
      "a=10,b=20,c=0,d=0,e=0\n",
      "Summation=30\n",
      "a=10,b=20,c=30,d=0,e=0\n",
      "Summation=60\n",
      "a=10,b=20,c=30,d=40,e=0\n",
      "Summation=100\n"
     ]
    }
   ],
   "source": [
    "# Default Parameters or Default Argument concept, we need to pass atleast 1 argument max to 5\n",
    "def add(a,b=0,c=0,d=0,e=0):\n",
    "    \"\"\" \n",
    "    This Function will add given a,b,c,d,e\n",
    "    Type: int, Float\n",
    "    Mandatory Param: a\n",
    "    Optional Param: b,c,d,e\n",
    "    \"\"\"\n",
    "    print \"a=%d,b=%d,c=%d,d=%d,e=%d\"% (a,b,c,d,e)\n",
    "    print \"Summation=%s\"%+(a+b+c+d+e)\n",
    "add(10)\n",
    "add(10,20)\n",
    "add(10,20,30)\n",
    "add(10,20,30,40)\n",
    "add(10,0,0,20)\n",
    "\n"
   ]
  },
  {
   "cell_type": "code",
   "execution_count": 6,
   "metadata": {},
   "outputs": [
    {
     "name": "stdout",
     "output_type": "stream",
     "text": [
      "a=10,b=0,c=0,d=20,e=30\n",
      "Summation=60\n"
     ]
    }
   ],
   "source": [
    "# Default Parameters or Default Argument concept, keyword Arguments\n",
    "def add(a,b=0,c=0,d=0,e=0):\n",
    "    \"\"\" \n",
    "    This Function will add given a,b,c,d,e\n",
    "    Type: int, Float\n",
    "    Mandatory Param: a\n",
    "    Optional Param: b,c,d,e\n",
    "    \"\"\"\n",
    "    print \"a=%d,b=%d,c=%d,d=%d,e=%d\"% (a,b,c,d,e)\n",
    "    print \"Summation=%s\"%+(a+b+c+d+e)\n",
    "#keyword arguments\n",
    "add(10,d=20,e=30)\n",
    "\n"
   ]
  },
  {
   "cell_type": "code",
   "execution_count": 7,
   "metadata": {},
   "outputs": [
    {
     "name": "stdout",
     "output_type": "stream",
     "text": [
      "a=20,b=0,c=0,d=10,e=30\n",
      "Summation=60\n"
     ]
    }
   ],
   "source": [
    "# Default Parameters or Default Argument concept, keyword Arguments\n",
    "def add(a,b=0,c=0,d=0,e=0):\n",
    "    \"\"\" \n",
    "    This Function will add given a,b,c,d,e\n",
    "    Type: int, Float\n",
    "    Mandatory Param: a\n",
    "    Optional Param: b,c,d,e\n",
    "    \"\"\"\n",
    "    print \"a=%d,b=%d,c=%d,d=%d,e=%d\"% (a,b,c,d,e)\n",
    "    print \"Summation=%s\"%+(a+b+c+d+e)\n",
    "#keyword arguments\n",
    "add(d=10,a=20,e=30)\n",
    "\n"
   ]
  },
  {
   "cell_type": "code",
   "execution_count": 8,
   "metadata": {},
   "outputs": [
    {
     "ename": "TypeError",
     "evalue": "add() takes at least 1 argument (2 given)",
     "output_type": "error",
     "traceback": [
      "\u001b[1;31m---------------------------------------------------------------------------\u001b[0m",
      "\u001b[1;31mTypeError\u001b[0m                                 Traceback (most recent call last)",
      "\u001b[1;32m<ipython-input-8-7122075ad351>\u001b[0m in \u001b[0;36m<module>\u001b[1;34m()\u001b[0m\n\u001b[0;32m     10\u001b[0m     \u001b[1;32mprint\u001b[0m \u001b[1;34m\"Summation=%s\"\u001b[0m\u001b[1;33m%\u001b[0m\u001b[1;33m+\u001b[0m\u001b[1;33m(\u001b[0m\u001b[0ma\u001b[0m\u001b[1;33m+\u001b[0m\u001b[0mb\u001b[0m\u001b[1;33m+\u001b[0m\u001b[0mc\u001b[0m\u001b[1;33m+\u001b[0m\u001b[0md\u001b[0m\u001b[1;33m+\u001b[0m\u001b[0me\u001b[0m\u001b[1;33m)\u001b[0m\u001b[1;33m\u001b[0m\u001b[0m\n\u001b[0;32m     11\u001b[0m \u001b[1;31m#keyword arguments\u001b[0m\u001b[1;33m\u001b[0m\u001b[1;33m\u001b[0m\u001b[0m\n\u001b[1;32m---> 12\u001b[1;33m \u001b[0madd\u001b[0m\u001b[1;33m(\u001b[0m\u001b[0md\u001b[0m\u001b[1;33m=\u001b[0m\u001b[1;36m10\u001b[0m\u001b[1;33m,\u001b[0m\u001b[0me\u001b[0m\u001b[1;33m=\u001b[0m\u001b[1;36m30\u001b[0m\u001b[1;33m)\u001b[0m\u001b[1;33m\u001b[0m\u001b[0m\n\u001b[0m\u001b[0;32m     13\u001b[0m \u001b[1;33m\u001b[0m\u001b[0m\n",
      "\u001b[1;31mTypeError\u001b[0m: add() takes at least 1 argument (2 given)"
     ]
    }
   ],
   "source": [
    "# Default Parameters or Default Argument concept, keyword Arguments\n",
    "def add(a,b=0,c=0,d=0,e=0):\n",
    "    \"\"\" \n",
    "    This Function will add given a,b,c,d,e\n",
    "    Type: int, Float\n",
    "    Mandatory Param: a\n",
    "    Optional Param: b,c,d,e\n",
    "    \"\"\"\n",
    "    print \"a=%d,b=%d,c=%d,d=%d,e=%d\"% (a,b,c,d,e)\n",
    "    print \"Summation=%s\"%+(a+b+c+d+e)\n",
    "#keyword arguments\n",
    "add(d=10,e=30)\n",
    "\n"
   ]
  },
  {
   "cell_type": "code",
   "execution_count": 9,
   "metadata": {},
   "outputs": [
    {
     "ename": "SyntaxError",
     "evalue": "non-default argument follows default argument (<ipython-input-9-d093a7195f39>, line 3)",
     "output_type": "error",
     "traceback": [
      "\u001b[1;36m  File \u001b[1;32m\"<ipython-input-9-d093a7195f39>\"\u001b[1;36m, line \u001b[1;32m3\u001b[0m\n\u001b[1;33m    def add(a=0,b,c=0,d=0,e=0):\u001b[0m\n\u001b[1;31mSyntaxError\u001b[0m\u001b[1;31m:\u001b[0m non-default argument follows default argument\n"
     ]
    }
   ],
   "source": [
    "# Default Parameters or Default Argument concept, keyword Arguments: a should be mandatory or keep value which is mandatory\n",
    "# in first option\n",
    "def add(a=0,b,c=0,d=0,e=0):\n",
    "    \"\"\" \n",
    "    This Function will add given a,b,c,d,e\n",
    "    Type: int, Float\n",
    "    Mandatory Param: a\n",
    "    Optional Param: b,c,d,e\n",
    "    \"\"\"\n",
    "    print \"a=%d,b=%d,c=%d,d=%d,e=%d\"% (a,b,c,d,e)\n",
    "    print \"Summation=%s\"%+(a+b+c+d+e)\n",
    "#keyword arguments\n",
    "add(d=10,e=30)\n",
    "\n"
   ]
  },
  {
   "cell_type": "code",
   "execution_count": 16,
   "metadata": {},
   "outputs": [
    {
     "name": "stdout",
     "output_type": "stream",
     "text": [
      "() <type 'tuple'>\n",
      "(10,) <type 'tuple'>\n",
      "(10, 20) <type 'tuple'>\n",
      "(10, 20, 30, 40, 50) <type 'tuple'>\n"
     ]
    }
   ],
   "source": [
    "# *args: If we don't know how many number of arguments a user enters\n",
    "def fun(*k):\n",
    "    print k,type(k)\n",
    "fun()\n",
    "fun(10)\n",
    "fun(10,20)\n",
    "fun(10,20,30,40,50)"
   ]
  },
  {
   "cell_type": "code",
   "execution_count": 13,
   "metadata": {},
   "outputs": [
    {
     "name": "stdout",
     "output_type": "stream",
     "text": [
      " 10\n",
      "(20, 30, 40) <type 'tuple'>\n"
     ]
    }
   ],
   "source": [
    "# *args: If we don't know how many number of arguments a user enters\n",
    "def fun(a,*k):\n",
    "    print a\n",
    "    print k,type(k)\n",
    "fun(10,20,30,40)"
   ]
  },
  {
   "cell_type": "code",
   "execution_count": 15,
   "metadata": {},
   "outputs": [
    {
     "name": "stdout",
     "output_type": "stream",
     "text": [
      " 10 20\n",
      "(30, 40, 50, 60) <type 'tuple'>\n"
     ]
    }
   ],
   "source": [
    "# *args: If we don't know how many number of arguments a user enters\n",
    "def fun(a,b,*k):\n",
    "    print a,b\n",
    "    print k,type(k)\n",
    "fun(10,20,30,40,50,60)"
   ]
  },
  {
   "cell_type": "code",
   "execution_count": 19,
   "metadata": {},
   "outputs": [
    {
     "ename": "SyntaxError",
     "evalue": "non-keyword arg after keyword arg (<ipython-input-19-eace0d9f6d9e>, line 4)",
     "output_type": "error",
     "traceback": [
      "\u001b[1;36m  File \u001b[1;32m\"<ipython-input-19-eace0d9f6d9e>\"\u001b[1;36m, line \u001b[1;32m4\u001b[0m\n\u001b[1;33m    fun(10,20,c=30,d-40)\u001b[0m\n\u001b[1;31mSyntaxError\u001b[0m\u001b[1;31m:\u001b[0m non-keyword arg after keyword arg\n"
     ]
    }
   ],
   "source": [
    "def fun(a,b,*k):\n",
    "    print a,b\n",
    "    print k,type(k)\n",
    "fun(10,20,c=30,d-40)"
   ]
  },
  {
   "cell_type": "code",
   "execution_count": 22,
   "metadata": {},
   "outputs": [
    {
     "name": "stdout",
     "output_type": "stream",
     "text": [
      "10 20\n",
      "{'c': 30, 'd': 40} <type 'dict'>\n"
     ]
    }
   ],
   "source": [
    "def fun(a,b,**k):\n",
    "    print a,b\n",
    "    print k,type(k)\n",
    "fun(10,20,c=30,d=40)"
   ]
  },
  {
   "cell_type": "code",
   "execution_count": 25,
   "metadata": {},
   "outputs": [
    {
     "name": "stdout",
     "output_type": "stream",
     "text": [
      "10 20\n",
      "(30, 40, 50) <type 'tuple'>\n",
      "{'c': 30, 'd': 40} <type 'dict'>\n"
     ]
    }
   ],
   "source": [
    "def fun(a,b,*args,**kwargs):\n",
    "    print a,b\n",
    "    print args, type(args)\n",
    "    print kwargs,type(kwargs)\n",
    "fun(10,20,30,40,50,c=30,d=40)"
   ]
  },
  {
   "cell_type": "code",
   "execution_count": 26,
   "metadata": {},
   "outputs": [
    {
     "ename": "SyntaxError",
     "evalue": "non-keyword arg after keyword arg (<ipython-input-26-554776ca70de>, line 5)",
     "output_type": "error",
     "traceback": [
      "\u001b[1;36m  File \u001b[1;32m\"<ipython-input-26-554776ca70de>\"\u001b[1;36m, line \u001b[1;32m5\u001b[0m\n\u001b[1;33m    fun(10,20,30,40,50,c=30,d=40,100)\u001b[0m\n\u001b[1;31mSyntaxError\u001b[0m\u001b[1;31m:\u001b[0m non-keyword arg after keyword arg\n"
     ]
    }
   ],
   "source": [
    "def fun(a,b,*args,**kwargs):\n",
    "    print a,b\n",
    "    print args, type(args)\n",
    "    print kwargs,type(kwargs)\n",
    "fun(10,20,30,40,50,c=30,d=40,100)"
   ]
  },
  {
   "cell_type": "code",
   "execution_count": 29,
   "metadata": {},
   "outputs": [
    {
     "name": "stdout",
     "output_type": "stream",
     "text": [
      "{'deliverycharges': 10, 'discount': 5, 'profit': 20}\n"
     ]
    },
    {
     "ename": "NameError",
     "evalue": "global name 'deliverycharges' is not defined",
     "output_type": "error",
     "traceback": [
      "\u001b[1;31m---------------------------------------------------------------------------\u001b[0m",
      "\u001b[1;31mNameError\u001b[0m                                 Traceback (most recent call last)",
      "\u001b[1;32m<ipython-input-29-4154885bf5ec>\u001b[0m in \u001b[0;36m<module>\u001b[1;34m()\u001b[0m\n\u001b[0;32m      7\u001b[0m     \u001b[1;32mprint\u001b[0m \u001b[0mkwargs\u001b[0m\u001b[1;33m\u001b[0m\u001b[0m\n\u001b[0;32m      8\u001b[0m     \u001b[1;32mprint\u001b[0m \u001b[0mcostprice\u001b[0m\u001b[1;33m+\u001b[0m\u001b[0mdeliverycharges\u001b[0m\u001b[1;33m-\u001b[0m\u001b[0mdiscount\u001b[0m\u001b[1;33m+\u001b[0m\u001b[0mprofit\u001b[0m\u001b[1;33m\u001b[0m\u001b[0m\n\u001b[1;32m----> 9\u001b[1;33m \u001b[0mget_sale_price\u001b[0m \u001b[1;33m(\u001b[0m\u001b[1;36m200\u001b[0m\u001b[1;33m,\u001b[0m\u001b[0mdeliverycharges\u001b[0m\u001b[1;33m=\u001b[0m\u001b[1;36m10\u001b[0m\u001b[1;33m,\u001b[0m\u001b[0mdiscount\u001b[0m\u001b[1;33m=\u001b[0m\u001b[1;36m5\u001b[0m\u001b[1;33m,\u001b[0m\u001b[0mprofit\u001b[0m\u001b[1;33m=\u001b[0m\u001b[1;36m20\u001b[0m\u001b[1;33m)\u001b[0m\u001b[1;33m\u001b[0m\u001b[0m\n\u001b[0m",
      "\u001b[1;32m<ipython-input-29-4154885bf5ec>\u001b[0m in \u001b[0;36mget_sale_price\u001b[1;34m(costprice, **kwargs)\u001b[0m\n\u001b[0;32m      6\u001b[0m     \"\"\"\n\u001b[0;32m      7\u001b[0m     \u001b[1;32mprint\u001b[0m \u001b[0mkwargs\u001b[0m\u001b[1;33m\u001b[0m\u001b[0m\n\u001b[1;32m----> 8\u001b[1;33m     \u001b[1;32mprint\u001b[0m \u001b[0mcostprice\u001b[0m\u001b[1;33m+\u001b[0m\u001b[0mdeliverycharges\u001b[0m\u001b[1;33m-\u001b[0m\u001b[0mdiscount\u001b[0m\u001b[1;33m+\u001b[0m\u001b[0mprofit\u001b[0m\u001b[1;33m\u001b[0m\u001b[0m\n\u001b[0m\u001b[0;32m      9\u001b[0m \u001b[0mget_sale_price\u001b[0m \u001b[1;33m(\u001b[0m\u001b[1;36m200\u001b[0m\u001b[1;33m,\u001b[0m\u001b[0mdeliverycharges\u001b[0m\u001b[1;33m=\u001b[0m\u001b[1;36m10\u001b[0m\u001b[1;33m,\u001b[0m\u001b[0mdiscount\u001b[0m\u001b[1;33m=\u001b[0m\u001b[1;36m5\u001b[0m\u001b[1;33m,\u001b[0m\u001b[0mprofit\u001b[0m\u001b[1;33m=\u001b[0m\u001b[1;36m20\u001b[0m\u001b[1;33m)\u001b[0m\u001b[1;33m\u001b[0m\u001b[0m\n",
      "\u001b[1;31mNameError\u001b[0m: global name 'deliverycharges' is not defined"
     ]
    }
   ],
   "source": [
    "#def get_sale_price(costprice,discout,deliverycharges,profit):\n",
    "    #print costprice+deliverycharges-discount+profit\n",
    "def get_sale_price(costprice,**kwargs):\n",
    "    \"\"\"\n",
    "    Can pass :costprice,discout,deliverycharges,profit. If you pass other values, ignore it\n",
    "    \"\"\"\n",
    "    print kwargs\n",
    "    print costprice+kwargs.get(\"deliverycharges\")-discount+profit\n",
    "get_sale_price (200,deliverycharges=10,discount=5,profit=20)"
   ]
  },
  {
   "cell_type": "code",
   "execution_count": 30,
   "metadata": {},
   "outputs": [
    {
     "name": "stdout",
     "output_type": "stream",
     "text": [
      "30 50\n"
     ]
    }
   ],
   "source": [
    "def fun(c,d):\n",
    "    print c,d\n",
    "fun(d=50,c=30)"
   ]
  },
  {
   "cell_type": "code",
   "execution_count": 31,
   "metadata": {},
   "outputs": [
    {
     "ename": "NameError",
     "evalue": "global name 'x' is not defined",
     "output_type": "error",
     "traceback": [
      "\u001b[1;31m---------------------------------------------------------------------------\u001b[0m",
      "\u001b[1;31mNameError\u001b[0m                                 Traceback (most recent call last)",
      "\u001b[1;32m<ipython-input-31-5236fdc6ee6c>\u001b[0m in \u001b[0;36m<module>\u001b[1;34m()\u001b[0m\n\u001b[0;32m      1\u001b[0m \u001b[1;32mdef\u001b[0m \u001b[0mfun\u001b[0m\u001b[1;33m(\u001b[0m\u001b[1;33m**\u001b[0m\u001b[0mkwargs\u001b[0m\u001b[1;33m)\u001b[0m\u001b[1;33m:\u001b[0m\u001b[1;33m\u001b[0m\u001b[0m\n\u001b[0;32m      2\u001b[0m     \u001b[1;32mprint\u001b[0m \u001b[0mx\u001b[0m\u001b[1;33m,\u001b[0m\u001b[0my\u001b[0m\u001b[1;33m\u001b[0m\u001b[0m\n\u001b[1;32m----> 3\u001b[1;33m \u001b[0mfun\u001b[0m\u001b[1;33m(\u001b[0m\u001b[0mx\u001b[0m\u001b[1;33m=\u001b[0m\u001b[1;36m30\u001b[0m\u001b[1;33m,\u001b[0m\u001b[0my\u001b[0m\u001b[1;33m=\u001b[0m\u001b[1;36m40\u001b[0m\u001b[1;33m)\u001b[0m\u001b[1;33m\u001b[0m\u001b[0m\n\u001b[0m",
      "\u001b[1;32m<ipython-input-31-5236fdc6ee6c>\u001b[0m in \u001b[0;36mfun\u001b[1;34m(**kwargs)\u001b[0m\n\u001b[0;32m      1\u001b[0m \u001b[1;32mdef\u001b[0m \u001b[0mfun\u001b[0m\u001b[1;33m(\u001b[0m\u001b[1;33m**\u001b[0m\u001b[0mkwargs\u001b[0m\u001b[1;33m)\u001b[0m\u001b[1;33m:\u001b[0m\u001b[1;33m\u001b[0m\u001b[0m\n\u001b[1;32m----> 2\u001b[1;33m     \u001b[1;32mprint\u001b[0m \u001b[0mx\u001b[0m\u001b[1;33m,\u001b[0m\u001b[0my\u001b[0m\u001b[1;33m\u001b[0m\u001b[0m\n\u001b[0m\u001b[0;32m      3\u001b[0m \u001b[0mfun\u001b[0m\u001b[1;33m(\u001b[0m\u001b[0mx\u001b[0m\u001b[1;33m=\u001b[0m\u001b[1;36m30\u001b[0m\u001b[1;33m,\u001b[0m\u001b[0my\u001b[0m\u001b[1;33m=\u001b[0m\u001b[1;36m40\u001b[0m\u001b[1;33m)\u001b[0m\u001b[1;33m\u001b[0m\u001b[0m\n",
      "\u001b[1;31mNameError\u001b[0m: global name 'x' is not defined"
     ]
    }
   ],
   "source": [
    "def fun(**kwargs):\n",
    "    print x,y\n",
    "fun(x=30,y=40)"
   ]
  },
  {
   "cell_type": "code",
   "execution_count": 32,
   "metadata": {},
   "outputs": [
    {
     "name": "stdout",
     "output_type": "stream",
     "text": [
      "{'y': 40, 'x': 30}\n"
     ]
    },
    {
     "ename": "NameError",
     "evalue": "global name 'x' is not defined",
     "output_type": "error",
     "traceback": [
      "\u001b[1;31m---------------------------------------------------------------------------\u001b[0m",
      "\u001b[1;31mNameError\u001b[0m                                 Traceback (most recent call last)",
      "\u001b[1;32m<ipython-input-32-f5135f83a292>\u001b[0m in \u001b[0;36m<module>\u001b[1;34m()\u001b[0m\n\u001b[0;32m      2\u001b[0m     \u001b[1;32mprint\u001b[0m \u001b[0mkwargs\u001b[0m\u001b[1;33m\u001b[0m\u001b[0m\n\u001b[0;32m      3\u001b[0m     \u001b[1;32mprint\u001b[0m \u001b[0mx\u001b[0m\u001b[1;33m,\u001b[0m\u001b[0my\u001b[0m\u001b[1;33m\u001b[0m\u001b[0m\n\u001b[1;32m----> 4\u001b[1;33m \u001b[0mfun\u001b[0m\u001b[1;33m(\u001b[0m\u001b[0mx\u001b[0m\u001b[1;33m=\u001b[0m\u001b[1;36m30\u001b[0m\u001b[1;33m,\u001b[0m\u001b[0my\u001b[0m\u001b[1;33m=\u001b[0m\u001b[1;36m40\u001b[0m\u001b[1;33m)\u001b[0m\u001b[1;33m\u001b[0m\u001b[0m\n\u001b[0m",
      "\u001b[1;32m<ipython-input-32-f5135f83a292>\u001b[0m in \u001b[0;36mfun\u001b[1;34m(**kwargs)\u001b[0m\n\u001b[0;32m      1\u001b[0m \u001b[1;32mdef\u001b[0m \u001b[0mfun\u001b[0m\u001b[1;33m(\u001b[0m\u001b[1;33m**\u001b[0m\u001b[0mkwargs\u001b[0m\u001b[1;33m)\u001b[0m\u001b[1;33m:\u001b[0m\u001b[1;33m\u001b[0m\u001b[0m\n\u001b[0;32m      2\u001b[0m     \u001b[1;32mprint\u001b[0m \u001b[0mkwargs\u001b[0m\u001b[1;33m\u001b[0m\u001b[0m\n\u001b[1;32m----> 3\u001b[1;33m     \u001b[1;32mprint\u001b[0m \u001b[0mx\u001b[0m\u001b[1;33m,\u001b[0m\u001b[0my\u001b[0m\u001b[1;33m\u001b[0m\u001b[0m\n\u001b[0m\u001b[0;32m      4\u001b[0m \u001b[0mfun\u001b[0m\u001b[1;33m(\u001b[0m\u001b[0mx\u001b[0m\u001b[1;33m=\u001b[0m\u001b[1;36m30\u001b[0m\u001b[1;33m,\u001b[0m\u001b[0my\u001b[0m\u001b[1;33m=\u001b[0m\u001b[1;36m40\u001b[0m\u001b[1;33m)\u001b[0m\u001b[1;33m\u001b[0m\u001b[0m\n",
      "\u001b[1;31mNameError\u001b[0m: global name 'x' is not defined"
     ]
    }
   ],
   "source": [
    "def fun(**kwargs):\n",
    "    print kwargs\n",
    "    print x,y\n",
    "fun(x=30,y=40)"
   ]
  },
  {
   "cell_type": "code",
   "execution_count": 33,
   "metadata": {},
   "outputs": [
    {
     "name": "stdout",
     "output_type": "stream",
     "text": [
      "30 40\n"
     ]
    }
   ],
   "source": [
    "def fun(**kwargs):\n",
    "    print kwargs.get(\"x\"),kwargs.get(\"y\")\n",
    "fun(x=30,y=40)"
   ]
  },
  {
   "cell_type": "code",
   "execution_count": 3,
   "metadata": {},
   "outputs": [
    {
     "name": "stdout",
     "output_type": "stream",
     "text": [
      "a=10 b=20\n",
      "Summation:30\n"
     ]
    }
   ],
   "source": [
    "def fun(a,b):\n",
    "    print \"a=%s b=%s\"%(a,b)\n",
    "    print \"Summation:%s\"%+(a+b)\n",
    "fun(10,20)\n"
   ]
  },
  {
   "cell_type": "code",
   "execution_count": 6,
   "metadata": {},
   "outputs": [
    {
     "name": "stdout",
     "output_type": "stream",
     "text": [
      "{'c': 30, 'b': 20}\n"
     ]
    }
   ],
   "source": [
    "def fun(a,**kwargs):\n",
    "    print kwargs\n",
    "fun(10,b=20,c=30)\n"
   ]
  },
  {
   "cell_type": "code",
   "execution_count": 7,
   "metadata": {},
   "outputs": [
    {
     "name": "stdout",
     "output_type": "stream",
     "text": [
      "10 {'profit': 30, 'sales': 20}\n"
     ]
    }
   ],
   "source": [
    "def fun(cost,**kwargs):\n",
    "    print cost,kwargs\n",
    "fun(10,sales=20,profit=30)\n"
   ]
  },
  {
   "cell_type": "code",
   "execution_count": 8,
   "metadata": {},
   "outputs": [
    {
     "name": "stdout",
     "output_type": "stream",
     "text": [
      "{'deliverycharges': 30, 'discount': 2, 'profit': 4, 'costprice': 200}\n"
     ]
    }
   ],
   "source": [
    "#def get_sale_price(costprice, discount, deliverycharges,profit):\n",
    "def get_sale_price(**kwargs):\n",
    "    \"\"\"\n",
    "    can pass: costprice, discount, deliverycharges,profit. if you pass some other key we \n",
    "    are ignoring that\n",
    "    \"\"\"\n",
    "    print kwargs\n",
    "    #print costprice+deliverycharges-discount+profit\n",
    "\n",
    "get_sale_price(costprice=200, discount=2, deliverycharges=30,profit=4)"
   ]
  },
  {
   "cell_type": "code",
   "execution_count": 9,
   "metadata": {},
   "outputs": [
    {
     "name": "stdout",
     "output_type": "stream",
     "text": [
      "10 {'profit': 30, 'sales': 20}\n"
     ]
    },
    {
     "ename": "TypeError",
     "evalue": "unsupported operand type(s) for +: 'int' and 'dict'",
     "output_type": "error",
     "traceback": [
      "\u001b[1;31m---------------------------------------------------------------------------\u001b[0m",
      "\u001b[1;31mTypeError\u001b[0m                                 Traceback (most recent call last)",
      "\u001b[1;32m<ipython-input-9-9350a53ffd5a>\u001b[0m in \u001b[0;36m<module>\u001b[1;34m()\u001b[0m\n\u001b[0;32m      2\u001b[0m     \u001b[1;32mprint\u001b[0m \u001b[0mcost\u001b[0m\u001b[1;33m,\u001b[0m\u001b[0mkwargs\u001b[0m\u001b[1;33m\u001b[0m\u001b[0m\n\u001b[0;32m      3\u001b[0m     \u001b[1;32mprint\u001b[0m \u001b[1;34m\"Summation:%s\"\u001b[0m\u001b[1;33m%\u001b[0m\u001b[1;33m+\u001b[0m\u001b[1;33m(\u001b[0m\u001b[0mcost\u001b[0m\u001b[1;33m+\u001b[0m\u001b[0mkwargs\u001b[0m\u001b[1;33m)\u001b[0m\u001b[1;33m\u001b[0m\u001b[0m\n\u001b[1;32m----> 4\u001b[1;33m \u001b[0mfun\u001b[0m\u001b[1;33m(\u001b[0m\u001b[1;36m10\u001b[0m\u001b[1;33m,\u001b[0m\u001b[0msales\u001b[0m\u001b[1;33m=\u001b[0m\u001b[1;36m20\u001b[0m\u001b[1;33m,\u001b[0m\u001b[0mprofit\u001b[0m\u001b[1;33m=\u001b[0m\u001b[1;36m30\u001b[0m\u001b[1;33m)\u001b[0m\u001b[1;33m\u001b[0m\u001b[0m\n\u001b[0m",
      "\u001b[1;32m<ipython-input-9-9350a53ffd5a>\u001b[0m in \u001b[0;36mfun\u001b[1;34m(cost, **kwargs)\u001b[0m\n\u001b[0;32m      1\u001b[0m \u001b[1;32mdef\u001b[0m \u001b[0mfun\u001b[0m\u001b[1;33m(\u001b[0m\u001b[0mcost\u001b[0m\u001b[1;33m,\u001b[0m\u001b[1;33m**\u001b[0m\u001b[0mkwargs\u001b[0m\u001b[1;33m)\u001b[0m\u001b[1;33m:\u001b[0m\u001b[1;33m\u001b[0m\u001b[0m\n\u001b[0;32m      2\u001b[0m     \u001b[1;32mprint\u001b[0m \u001b[0mcost\u001b[0m\u001b[1;33m,\u001b[0m\u001b[0mkwargs\u001b[0m\u001b[1;33m\u001b[0m\u001b[0m\n\u001b[1;32m----> 3\u001b[1;33m     \u001b[1;32mprint\u001b[0m \u001b[1;34m\"Summation:%s\"\u001b[0m\u001b[1;33m%\u001b[0m\u001b[1;33m+\u001b[0m\u001b[1;33m(\u001b[0m\u001b[0mcost\u001b[0m\u001b[1;33m+\u001b[0m\u001b[0mkwargs\u001b[0m\u001b[1;33m)\u001b[0m\u001b[1;33m\u001b[0m\u001b[0m\n\u001b[0m\u001b[0;32m      4\u001b[0m \u001b[0mfun\u001b[0m\u001b[1;33m(\u001b[0m\u001b[1;36m10\u001b[0m\u001b[1;33m,\u001b[0m\u001b[0msales\u001b[0m\u001b[1;33m=\u001b[0m\u001b[1;36m20\u001b[0m\u001b[1;33m,\u001b[0m\u001b[0mprofit\u001b[0m\u001b[1;33m=\u001b[0m\u001b[1;36m30\u001b[0m\u001b[1;33m)\u001b[0m\u001b[1;33m\u001b[0m\u001b[0m\n",
      "\u001b[1;31mTypeError\u001b[0m: unsupported operand type(s) for +: 'int' and 'dict'"
     ]
    }
   ],
   "source": [
    "def fun(cost,**kwargs):\n",
    "    print cost,kwargs\n",
    "    print \"Summation:%s\"%+(cost+kwargs)\n",
    "fun(10,sales=20,profit=30)\n"
   ]
  },
  {
   "cell_type": "code",
   "execution_count": 10,
   "metadata": {},
   "outputs": [
    {
     "name": "stdout",
     "output_type": "stream",
     "text": [
      "10 {'profit': 30, 'sales': 20}\n",
      "Summation:60\n"
     ]
    }
   ],
   "source": [
    "def fun(cost,**kwargs):\n",
    "    print cost,kwargs\n",
    "    print \"Summation:%s\"%+(cost+kwargs.get('sales')+kwargs.get('profit'))\n",
    "fun(10,sales=20,profit=30)\n"
   ]
  },
  {
   "cell_type": "code",
   "execution_count": 16,
   "metadata": {},
   "outputs": [
    {
     "name": "stdout",
     "output_type": "stream",
     "text": [
      "1000\n"
     ]
    }
   ],
   "source": [
    "a=1000\n",
    "def fun():\n",
    "    a=100\n",
    "fun()\n",
    "print a"
   ]
  },
  {
   "cell_type": "code",
   "execution_count": 17,
   "metadata": {},
   "outputs": [
    {
     "name": "stdout",
     "output_type": "stream",
     "text": [
      "inside fun: 1000\n",
      "100\n"
     ]
    }
   ],
   "source": [
    "a=100\n",
    "def fun():\n",
    "    a=1000\n",
    "    print \"inside fun:\",a\n",
    "fun()\n",
    "print a"
   ]
  },
  {
   "cell_type": "code",
   "execution_count": 24,
   "metadata": {},
   "outputs": [
    {
     "name": "stdout",
     "output_type": "stream",
     "text": [
      "30\n",
      "(30, 40, 50) <type 'tuple'>\n",
      "100\n",
      "{'c': 30, 'd': 40} <type 'dict'>\n"
     ]
    }
   ],
   "source": [
    "def fun(a,b,*args,**kwargs):\n",
    "    print a+b\n",
    "    print args, type(args)\n",
    "    print a+b+kwargs.get('c')+kwargs.get('d')\n",
    "    print kwargs,type(kwargs)\n",
    "fun(10,20,30,40,50,c=30,d=40)"
   ]
  },
  {
   "cell_type": "code",
   "execution_count": null,
   "metadata": {
    "collapsed": true
   },
   "outputs": [],
   "source": []
  }
 ],
 "metadata": {
  "kernelspec": {
   "display_name": "Python 2",
   "language": "python",
   "name": "python2"
  },
  "language_info": {
   "codemirror_mode": {
    "name": "ipython",
    "version": 2
   },
   "file_extension": ".py",
   "mimetype": "text/x-python",
   "name": "python",
   "nbconvert_exporter": "python",
   "pygments_lexer": "ipython2",
   "version": "2.7.14"
  }
 },
 "nbformat": 4,
 "nbformat_minor": 2
}
