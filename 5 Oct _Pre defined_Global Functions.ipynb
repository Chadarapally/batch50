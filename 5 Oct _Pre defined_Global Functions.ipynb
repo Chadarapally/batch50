{
 "cells": [
  {
   "cell_type": "code",
   "execution_count": 1,
   "metadata": {},
   "outputs": [
    {
     "name": "stdout",
     "output_type": "stream",
     "text": [
      "Python program\n"
     ]
    }
   ],
   "source": [
    "s=\"python program\"\n",
    "print s.capitalize()"
   ]
  },
  {
   "cell_type": "code",
   "execution_count": 2,
   "metadata": {},
   "outputs": [
    {
     "name": "stdout",
     "output_type": "stream",
     "text": [
      "Python program\n"
     ]
    }
   ],
   "source": [
    "s=\"pythoN progRaM\"\n",
    "print s.capitalize()"
   ]
  },
  {
   "cell_type": "code",
   "execution_count": 3,
   "metadata": {},
   "outputs": [
    {
     "name": "stdout",
     "output_type": "stream",
     "text": [
      "2python program\n"
     ]
    }
   ],
   "source": [
    "s=\"2pythoN progRaM\"\n",
    "print s.capitalize()"
   ]
  },
  {
   "cell_type": "code",
   "execution_count": 4,
   "metadata": {},
   "outputs": [
    {
     "name": "stdout",
     "output_type": "stream",
     "text": [
      "$python program\n"
     ]
    }
   ],
   "source": [
    "s=\"$pythoN progRaM\"\n",
    "print s.capitalize()"
   ]
  },
  {
   "cell_type": "code",
   "execution_count": 5,
   "metadata": {},
   "outputs": [
    {
     "name": "stdout",
     "output_type": "stream",
     "text": [
      "\n"
     ]
    }
   ],
   "source": [
    "s=\"\"\n",
    "print s.capitalize()"
   ]
  },
  {
   "cell_type": "code",
   "execution_count": 6,
   "metadata": {},
   "outputs": [
    {
     "name": "stdout",
     "output_type": "stream",
     "text": [
      "                                           python program                                           \n"
     ]
    }
   ],
   "source": [
    "s=\"python program\"\n",
    "print s.center(100)#output space is 100, it'llcheck ceter space within this 100 output space.\n"
   ]
  },
  {
   "cell_type": "code",
   "execution_count": 7,
   "metadata": {},
   "outputs": [
    {
     "name": "stdout",
     "output_type": "stream",
     "text": [
      "                                       python program                                       \n",
      "python program                                                                              \n",
      "                                                                              python program\n"
     ]
    }
   ],
   "source": [
    "s=\"python program\"\n",
    "print s.center(92)#output space is 100, it'llcheck ceter space within this 100 output space.\n",
    "print s.ljust(92)\n",
    "print s.rjust(92)\n"
   ]
  },
  {
   "cell_type": "code",
   "execution_count": 8,
   "metadata": {},
   "outputs": [
    {
     "name": "stdout",
     "output_type": "stream",
     "text": [
      "14\n",
      "***python program***\n",
      "python program******\n",
      "******python program\n"
     ]
    }
   ],
   "source": [
    "s=\"python program\"\n",
    "print len(s)\n",
    "print s.center(20,\"*\")#output space is 100, it'llcheck ceter space within this 100 output space.\n",
    "print s.ljust(20,\"*\")\n",
    "print s.rjust(20,\"*\")\n",
    "\n",
    "#Length 20-14=6 Total 6 stars"
   ]
  },
  {
   "cell_type": "code",
   "execution_count": 9,
   "metadata": {},
   "outputs": [
    {
     "name": "stdout",
     "output_type": "stream",
     "text": [
      "14\n",
      "python program\n",
      "python program\n",
      "python program\n"
     ]
    }
   ],
   "source": [
    "s=\"python program\"\n",
    "print len(s)\n",
    "print s.center(10,\"*\")#output space is 100, it'llcheck ceter space within this 100 output space.\n",
    "print s.ljust(10,\"*\")\n",
    "print s.rjust(10,\"*\")\n",
    "\n",
    "#Length 10-14=-4 "
   ]
  },
  {
   "cell_type": "code",
   "execution_count": 11,
   "metadata": {},
   "outputs": [
    {
     "name": "stdout",
     "output_type": "stream",
     "text": [
      "14\n",
      "python program\n",
      "python program\n",
      "python program\n",
      "&&&&&&&&&&&&&&&&&&&&&&&&&&&&&&&&&&&&&&&&&&&&&&&&&&&&&&&&&&&&&&&&&&&&&&&&&&&&&&&&&&&&&&&&&&&&\n",
      "pythonpythonpython\n"
     ]
    }
   ],
   "source": [
    "s=\"python program\"\n",
    "print len(s)\n",
    "print s.center(10,\"*\")#output space is 100, it'llcheck ceter space within this 100 output space.\n",
    "print s.ljust(10,\"*\")\n",
    "print s.rjust(10,\"*\")\n",
    "print \"&\"*92\n",
    "print \"python\"*3\n",
    "\n",
    "#Length 10-14=-4 "
   ]
  },
  {
   "cell_type": "code",
   "execution_count": 13,
   "metadata": {},
   "outputs": [
    {
     "name": "stdout",
     "output_type": "stream",
     "text": [
      "14\n",
      "python program\n",
      "python program\n",
      "******python program\n",
      "&&&&&&&&&&&&&&&&&&&&&&&&&&&&&&&&&&&&&&&&&&&&&&&&&&&&&&&&&&&&&&&&&&&&&&&&&&&&&&&&&&&&&&&&&&&&\n",
      "pythonpythonpython\n"
     ]
    }
   ],
   "source": [
    "s=\"python program\"\n",
    "print len(s)\n",
    "print s.center(-10,\"*\")#output space is 100, it'llcheck ceter space within this 100 output space.\n",
    "print s.ljust(-10,\"*\")\n",
    "print s.rjust(20,\"*\")\n",
    "print \"&\"*92\n",
    "print \"python\"*3\n",
    "\n",
    "#Length 10-14=-4 "
   ]
  },
  {
   "cell_type": "code",
   "execution_count": 14,
   "metadata": {},
   "outputs": [
    {
     "name": "stdout",
     "output_type": "stream",
     "text": [
      "14\n",
      "python program\n",
      "python program\n",
      "******python program\n",
      "&&&&&&&&&&&&&&&&&&&&&&&&&&&&&&&&&&&&&&&&&&&&&&&&&&&&&&&&&&&&&&&&&&&&&&&&&&&&&&&&&&&&&&&&&&&&\n",
      "pythonpythonpython\n"
     ]
    }
   ],
   "source": [
    "s=\"python program\"\n",
    "print len(s)\n",
    "print s.center(0,\"*\")#output space is 100, it'llcheck ceter space within this 100 output space.\n",
    "print s.ljust(0,\"*\")\n",
    "print s.rjust(20,\"*\")\n",
    "print \"&\"*92\n",
    "print \"python\"*3\n",
    "\n",
    "#Length 0-14=-4 "
   ]
  },
  {
   "cell_type": "code",
   "execution_count": 16,
   "metadata": {},
   "outputs": [
    {
     "name": "stdout",
     "output_type": "stream",
     "text": [
      "3\n",
      "3\n",
      "1\n",
      "0\n",
      "0\n"
     ]
    }
   ],
   "source": [
    "s=\"python is a pure object oriented is is \"\n",
    "print s.count(\"is\")\n",
    "print s.count(\"s\")\n",
    "print s.count(\"python\")\n",
    "print s.count(\"pythn\")\n",
    "print s.count(\"IS\")"
   ]
  },
  {
   "cell_type": "code",
   "execution_count": 19,
   "metadata": {},
   "outputs": [
    {
     "name": "stdout",
     "output_type": "stream",
     "text": [
      "1\n",
      "2\n",
      "1\n",
      "0\n",
      "3\n"
     ]
    }
   ],
   "source": [
    "s=\"python is a pure object oriented is is \"\n",
    "print s.count(\"p\",0,10)\n",
    "print s.count(\"p\",0,20)\n",
    "print s.count(\"r\",0,20)\n",
    "print s.count(\"r\",0,10)\n",
    "print s.count(\"s\",0,-1)"
   ]
  },
  {
   "cell_type": "code",
   "execution_count": 29,
   "metadata": {},
   "outputs": [
    {
     "name": "stdout",
     "output_type": "stream",
     "text": [
      "1\n",
      "0\n",
      "0\n",
      "17\n",
      "17\n"
     ]
    }
   ],
   "source": [
    "s=\"python is a pure object oriented programmng language\"\n",
    "print s.count(\"is\")\n",
    "print s.find(\"p\")\n",
    "print s.index(\"p\")\n",
    "print s.find(\"object\")\n",
    "print s.index(\"object\")"
   ]
  },
  {
   "cell_type": "code",
   "execution_count": null,
   "metadata": {
    "collapsed": true
   },
   "outputs": [],
   "source": []
  }
 ],
 "metadata": {
  "kernelspec": {
   "display_name": "Python 2",
   "language": "python",
   "name": "python2"
  },
  "language_info": {
   "codemirror_mode": {
    "name": "ipython",
    "version": 2
   },
   "file_extension": ".py",
   "mimetype": "text/x-python",
   "name": "python",
   "nbconvert_exporter": "python",
   "pygments_lexer": "ipython2",
   "version": "2.7.14"
  }
 },
 "nbformat": 4,
 "nbformat_minor": 2
}
