{
 "cells": [
  {
   "cell_type": "code",
   "execution_count": 1,
   "metadata": {},
   "outputs": [
    {
     "data": {
      "text/plain": [
       "[0, 1, 2, 3, 4, 5, 6, 7, 8, 9]"
      ]
     },
     "execution_count": 1,
     "metadata": {},
     "output_type": "execute_result"
    }
   ],
   "source": [
    "# Print a file numbers 1, 2 ,3 4,5\n",
    "range(10)"
   ]
  },
  {
   "cell_type": "code",
   "execution_count": 2,
   "metadata": {},
   "outputs": [
    {
     "data": {
      "text/plain": [
       "[5, 6, 7, 8, 9]"
      ]
     },
     "execution_count": 2,
     "metadata": {},
     "output_type": "execute_result"
    }
   ],
   "source": [
    "range(5,10)"
   ]
  },
  {
   "cell_type": "code",
   "execution_count": 3,
   "metadata": {},
   "outputs": [
    {
     "data": {
      "text/plain": [
       "[1, 3, 5, 7, 9]"
      ]
     },
     "execution_count": 3,
     "metadata": {},
     "output_type": "execute_result"
    }
   ],
   "source": [
    "#increment by 2\n",
    "range(1,10,2)"
   ]
  },
  {
   "cell_type": "code",
   "execution_count": 4,
   "metadata": {},
   "outputs": [
    {
     "data": {
      "text/plain": [
       "[]"
      ]
     },
     "execution_count": 4,
     "metadata": {},
     "output_type": "execute_result"
    }
   ],
   "source": [
    "range (89,10,2)"
   ]
  },
  {
   "cell_type": "code",
   "execution_count": 5,
   "metadata": {},
   "outputs": [
    {
     "data": {
      "text/plain": [
       "[]"
      ]
     },
     "execution_count": 5,
     "metadata": {},
     "output_type": "execute_result"
    }
   ],
   "source": [
    "range(11,5,2)"
   ]
  },
  {
   "cell_type": "code",
   "execution_count": 6,
   "metadata": {},
   "outputs": [
    {
     "data": {
      "text/plain": [
       "[80, 83, 86, 89, 92, 95, 98]"
      ]
     },
     "execution_count": 6,
     "metadata": {},
     "output_type": "execute_result"
    }
   ],
   "source": [
    "range(11,20,2)\n",
    "range(80,100,3)"
   ]
  },
  {
   "cell_type": "code",
   "execution_count": 7,
   "metadata": {},
   "outputs": [
    {
     "ename": "TypeError",
     "evalue": "range() integer end argument expected, got str.",
     "output_type": "error",
     "traceback": [
      "\u001b[1;31m---------------------------------------------------------------------------\u001b[0m",
      "\u001b[1;31mTypeError\u001b[0m                                 Traceback (most recent call last)",
      "\u001b[1;32m<ipython-input-7-eb62579206e2>\u001b[0m in \u001b[0;36m<module>\u001b[1;34m()\u001b[0m\n\u001b[0;32m      1\u001b[0m \u001b[1;31m#range works for only Integers\u001b[0m\u001b[1;33m\u001b[0m\u001b[1;33m\u001b[0m\u001b[0m\n\u001b[1;32m----> 2\u001b[1;33m \u001b[0mrange\u001b[0m \u001b[1;33m(\u001b[0m\u001b[1;34m\"a\"\u001b[0m\u001b[1;33m,\u001b[0m\u001b[1;34m\"b\"\u001b[0m\u001b[1;33m)\u001b[0m\u001b[1;33m\u001b[0m\u001b[0m\n\u001b[0m",
      "\u001b[1;31mTypeError\u001b[0m: range() integer end argument expected, got str."
     ]
    }
   ],
   "source": [
    "#range works for only Integers\n",
    "range (\"a\",\"b\")"
   ]
  },
  {
   "cell_type": "code",
   "execution_count": 8,
   "metadata": {},
   "outputs": [
    {
     "data": {
      "text/plain": [
       "[10, 9, 8, 7, 6, 5, 4, 3, 2]"
      ]
     },
     "execution_count": 8,
     "metadata": {},
     "output_type": "execute_result"
    }
   ],
   "source": [
    "range(10,1,-1)"
   ]
  },
  {
   "cell_type": "code",
   "execution_count": 9,
   "metadata": {},
   "outputs": [
    {
     "name": "stdout",
     "output_type": "stream",
     "text": [
      "Program Started\n",
      "p\n",
      "y\n",
      "t\n",
      "h\n",
      "o\n",
      "n\n",
      "other statements in program\n",
      "program ended\n"
     ]
    }
   ],
   "source": [
    "print \"Program Started\"\n",
    "for i in \"python\":\n",
    "    print i\n",
    "print \"other statements in program\"\n",
    "print \"program ended\""
   ]
  },
  {
   "cell_type": "code",
   "execution_count": 18,
   "metadata": {},
   "outputs": [
    {
     "name": "stdout",
     "output_type": "stream",
     "text": [
      "Program Started\n",
      "\tIteration started\n",
      "\tValue: 1\n",
      "\t<type 'int'>\n",
      "\tIteration Ended\n",
      "\tIteration started\n",
      "\tValue: 23\n",
      "\t<type 'int'>\n",
      "\tIteration Ended\n",
      "\tIteration started\n",
      "\tValue: 45\n",
      "\t<type 'int'>\n",
      "\tIteration Ended\n",
      "other statements in program\n",
      "program ended\n"
     ]
    }
   ],
   "source": [
    "print \"Program Started\"\n",
    "for i in [1,23,45]:\n",
    "    print \"\\tIteration started\"\n",
    "    print \"\\tValue:\",i\n",
    "    print \"\\t\",type(i)\n",
    "    print \"\\tIteration Ended\"\n",
    "print \"other statements in program\"\n",
    "print \"program ended\""
   ]
  },
  {
   "cell_type": "code",
   "execution_count": 22,
   "metadata": {},
   "outputs": [
    {
     "name": "stdout",
     "output_type": "stream",
     "text": [
      "Program Started\n",
      "\tIteration started\n",
      "\tValue: a\n",
      "\t<type 'str'>\n",
      "\tIteration Ended\n",
      "\tIteration started\n",
      "\tValue: b\n",
      "\t<type 'str'>\n",
      "\tIteration Ended\n",
      "\tIteration started\n",
      "\tValue: 3\n",
      "\t<type 'int'>\n",
      "\tIteration Ended\n",
      "\tIteration started\n",
      "\tValue: 4.5\n",
      "\t<type 'float'>\n",
      "\tIteration Ended\n",
      "other statements in program\n",
      "program ended\n"
     ]
    }
   ],
   "source": [
    "print \"Program Started\"\n",
    "for i in [\"a\",\"b\",3,4.5]:\n",
    "    print \"\\tIteration started\"\n",
    "    print \"\\tValue:\",i\n",
    "    print \"\\t\",type(i)\n",
    "    print \"\\tIteration Ended\"\n",
    "print \"other statements in program\"\n",
    "print \"program ended\""
   ]
  },
  {
   "cell_type": "code",
   "execution_count": 25,
   "metadata": {},
   "outputs": [
    {
     "name": "stdout",
     "output_type": "stream",
     "text": [
      "1\n",
      "2\n",
      "3\n",
      "4\n",
      "5\n",
      "6\n",
      "7\n",
      "8\n",
      "9\n",
      "10\n"
     ]
    }
   ],
   "source": [
    "# Program to print 1 to 10\n",
    "for i in range(1,11,1):\n",
    "    print i"
   ]
  },
  {
   "cell_type": "code",
   "execution_count": 4,
   "metadata": {},
   "outputs": [
    {
     "name": "stdout",
     "output_type": "stream",
     "text": [
      "10\n",
      "9\n",
      "8\n",
      "7\n",
      "6\n",
      "5\n",
      "4\n",
      "3\n",
      "2\n",
      "1\n"
     ]
    }
   ],
   "source": [
    "# Program to print 1 to 10 in reverse\n",
    "for i in range(10,0,-1):\n",
    "    print i"
   ]
  },
  {
   "cell_type": "code",
   "execution_count": 5,
   "metadata": {},
   "outputs": [
    {
     "name": "stdout",
     "output_type": "stream",
     "text": [
      "10\n",
      "9\n",
      "8\n",
      "7\n",
      "6\n",
      "5\n",
      "4\n",
      "3\n",
      "2\n",
      "1\n",
      "0\n"
     ]
    }
   ],
   "source": [
    "# Program to print 1 to 10 in reverse\n",
    "for i in range(10,-1,-1):\n",
    "    print i"
   ]
  },
  {
   "cell_type": "code",
   "execution_count": 6,
   "metadata": {},
   "outputs": [
    {
     "name": "stdout",
     "output_type": "stream",
     "text": [
      "10\n",
      "9\n",
      "8\n",
      "7\n",
      "6\n",
      "5\n",
      "4\n",
      "3\n",
      "2\n",
      "1\n",
      "0\n",
      "-1\n"
     ]
    }
   ],
   "source": [
    "# Program to print 1 to 10 in reverse\n",
    "for i in range(10,-2,-1):\n",
    "    print i"
   ]
  },
  {
   "cell_type": "code",
   "execution_count": 10,
   "metadata": {},
   "outputs": [
    {
     "name": "stdout",
     "output_type": "stream",
     "text": [
      "0\n",
      "2\n",
      "4\n",
      "6\n",
      "8\n",
      "10\n"
     ]
    }
   ],
   "source": [
    "# Program to print Even Numbers\n",
    "for i in range(2,11,2):\n",
    "    print i\n"
   ]
  },
  {
   "cell_type": "code",
   "execution_count": 12,
   "metadata": {},
   "outputs": [
    {
     "name": "stdout",
     "output_type": "stream",
     "text": [
      "1\n",
      "3\n",
      "5\n",
      "7\n",
      "9\n"
     ]
    }
   ],
   "source": [
    "# Program to print odd Numbers\n",
    "for number in range(1,11,2):\n",
    "    print number\n"
   ]
  },
  {
   "cell_type": "code",
   "execution_count": 13,
   "metadata": {},
   "outputs": [
    {
     "name": "stdout",
     "output_type": "stream",
     "text": [
      "65\n",
      "A\n",
      "66\n",
      "B\n",
      "67\n",
      "C\n",
      "68\n",
      "D\n",
      "69\n",
      "E\n",
      "70\n",
      "F\n",
      "71\n",
      "G\n",
      "72\n",
      "H\n",
      "73\n",
      "I\n",
      "74\n",
      "J\n",
      "75\n",
      "K\n",
      "76\n",
      "L\n",
      "77\n",
      "M\n",
      "78\n",
      "N\n",
      "79\n",
      "O\n",
      "80\n",
      "P\n",
      "81\n",
      "Q\n",
      "82\n",
      "R\n",
      "83\n",
      "S\n",
      "84\n",
      "T\n",
      "85\n",
      "U\n",
      "86\n",
      "V\n",
      "87\n",
      "W\n",
      "88\n",
      "X\n",
      "89\n",
      "Y\n"
     ]
    }
   ],
   "source": [
    "# Program to print A to Z\n",
    "for number in range(65,91,1):\n",
    "    print number\n",
    "    print chr(number)\n"
   ]
  },
  {
   "cell_type": "code",
   "execution_count": 21,
   "metadata": {},
   "outputs": [
    {
     "name": "stdout",
     "output_type": "stream",
     "text": [
      "A\n",
      "B\n",
      "C\n",
      "D\n",
      "E\n",
      "F\n",
      "G\n",
      "H\n",
      "I\n",
      "J\n",
      "K\n",
      "L\n",
      "M\n",
      "N\n",
      "O\n",
      "P\n",
      "Q\n",
      "R\n",
      "S\n",
      "T\n",
      "U\n",
      "V\n",
      "W\n",
      "X\n",
      "Y\n",
      "Z\n"
     ]
    }
   ],
   "source": [
    "# Program to print A to Z\n",
    "for number in range(ord(\"A\"),ord(\"Z\")+1,1):\n",
    "    #print number\n",
    "    print chr(number)\n"
   ]
  },
  {
   "cell_type": "code",
   "execution_count": 20,
   "metadata": {},
   "outputs": [
    {
     "ename": "ValueError",
     "evalue": "range() step argument must not be zero",
     "output_type": "error",
     "traceback": [
      "\u001b[1;31m---------------------------------------------------------------------------\u001b[0m",
      "\u001b[1;31mValueError\u001b[0m                                Traceback (most recent call last)",
      "\u001b[1;32m<ipython-input-20-be7cdb0c0697>\u001b[0m in \u001b[0;36m<module>\u001b[1;34m()\u001b[0m\n\u001b[0;32m      1\u001b[0m \u001b[1;31m# Program to print A to Z\u001b[0m\u001b[1;33m\u001b[0m\u001b[1;33m\u001b[0m\u001b[0m\n\u001b[1;32m----> 2\u001b[1;33m \u001b[1;32mfor\u001b[0m \u001b[0mnumber\u001b[0m \u001b[1;32min\u001b[0m \u001b[0mrange\u001b[0m\u001b[1;33m(\u001b[0m\u001b[0mord\u001b[0m\u001b[1;33m(\u001b[0m\u001b[1;34m\"A\"\u001b[0m\u001b[1;33m)\u001b[0m\u001b[1;33m,\u001b[0m\u001b[0mord\u001b[0m\u001b[1;33m(\u001b[0m\u001b[1;34m\"Z\"\u001b[0m\u001b[1;33m)\u001b[0m\u001b[1;33m+\u001b[0m\u001b[1;36m1\u001b[0m\u001b[1;33m,\u001b[0m\u001b[1;36m0\u001b[0m\u001b[1;33m)\u001b[0m\u001b[1;33m:\u001b[0m\u001b[1;33m\u001b[0m\u001b[0m\n\u001b[0m\u001b[0;32m      3\u001b[0m     \u001b[1;32mprint\u001b[0m \u001b[0mnumber\u001b[0m\u001b[1;33m\u001b[0m\u001b[0m\n\u001b[0;32m      4\u001b[0m     \u001b[1;32mprint\u001b[0m \u001b[0mchr\u001b[0m\u001b[1;33m(\u001b[0m\u001b[0mnumber\u001b[0m\u001b[1;33m)\u001b[0m\u001b[1;33m\u001b[0m\u001b[0m\n",
      "\u001b[1;31mValueError\u001b[0m: range() step argument must not be zero"
     ]
    }
   ],
   "source": [
    "# Program to print A to Z\n",
    "for number in range(ord(\"A\"),ord(\"Z\")+1,0):\n",
    "    print number\n",
    "    print chr(number)\n"
   ]
  },
  {
   "cell_type": "code",
   "execution_count": 33,
   "metadata": {},
   "outputs": [
    {
     "name": "stdout",
     "output_type": "stream",
     "text": [
      "Enter a MIN AlphaD\n",
      "Enter a MAX AlphaA\n",
      "D\n",
      "C\n",
      "B\n",
      "A\n",
      "Thank you\n"
     ]
    }
   ],
   "source": [
    "#Homework\n",
    "min_alpha=raw_input(\"Enter a MIN Alpha:\")\n",
    "max_alpha=raw_input(\"Enter a MAX Alpha:\")\n",
    "if min_alpha<max_alpha:\n",
    "    for i in range(ord(min_alpha),ord(max_alpha)+1):\n",
    "        print chr(i)\n",
    "elif min_alpha>max_alpha:\n",
    "    for i in range(ord(min_alpha),ord(max_alpha)-1,-1):\n",
    "        print chr(i)\n",
    "print \"Thank you\""
   ]
  },
  {
   "cell_type": "code",
   "execution_count": 39,
   "metadata": {},
   "outputs": [
    {
     "name": "stdout",
     "output_type": "stream",
     "text": [
      "Enter a MIN Alpha:A\n",
      "Enter a MAX Alpha:D\n",
      "A\n",
      "B\n",
      "C\n",
      "D\n",
      "Thank you\n"
     ]
    }
   ],
   "source": [
    "# Instead of Wriing FOR lOOPS, Prepare a Range\n",
    "min_alpha=raw_input(\"Enter a MIN Alpha:\")\n",
    "max_alpha=raw_input(\"Enter a MAX Alpha:\")\n",
    "if min_alpha<max_alpha:\n",
    "    req_range=range(ord(min_alpha),ord(max_alpha)+1)\n",
    "    for i in req_range:\n",
    "        print chr(i)\n",
    "elif min_alpha>max_alpha:\n",
    "    for i in range(ord(min_alpha),ord(max_alpha)-1,-1):\n",
    "        print chr(i)\n",
    "print \"Thank you\""
   ]
  },
  {
   "cell_type": "code",
   "execution_count": 44,
   "metadata": {},
   "outputs": [
    {
     "name": "stdout",
     "output_type": "stream",
     "text": [
      "34\n"
     ]
    }
   ],
   "source": [
    "L=[12,34,56,-78,45,37,24]\n",
    "i=L[0]\n",
    "for i\n",
    "while "
   ]
  },
  {
   "cell_type": "code",
   "execution_count": 46,
   "metadata": {},
   "outputs": [
    {
     "name": "stdout",
     "output_type": "stream",
     "text": [
      "12 Even\n",
      "34 Even\n",
      "56 Even\n",
      "-78 It may be zero or Negatvie value\n",
      "45 odd\n",
      "37 odd\n",
      "24 Even\n"
     ]
    }
   ],
   "source": [
    "L=[12,34,56,-78,45,37,24]\n",
    "for i in L:\n",
    "    print i,\n",
    "    if i>0:\n",
    "        if i%2==0:\n",
    "            print \"Even\"\n",
    "        else:\n",
    "            print \"odd\"\n",
    "    else:\n",
    "        print \"It may be zero or Negatvie value\""
   ]
  },
  {
   "cell_type": "code",
   "execution_count": null,
   "metadata": {
    "collapsed": true
   },
   "outputs": [],
   "source": []
  }
 ],
 "metadata": {
  "kernelspec": {
   "display_name": "Python 2",
   "language": "python",
   "name": "python2"
  },
  "language_info": {
   "codemirror_mode": {
    "name": "ipython",
    "version": 2
   },
   "file_extension": ".py",
   "mimetype": "text/x-python",
   "name": "python",
   "nbconvert_exporter": "python",
   "pygments_lexer": "ipython2",
   "version": "2.7.14"
  }
 },
 "nbformat": 4,
 "nbformat_minor": 2
}
