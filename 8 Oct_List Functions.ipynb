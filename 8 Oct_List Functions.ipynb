{
 "cells": [
  {
   "cell_type": "code",
   "execution_count": 5,
   "metadata": {},
   "outputs": [
    {
     "name": "stdout",
     "output_type": "stream",
     "text": [
      "[10, 20, 30, 40]\n",
      "Ahrn Akd10\n",
      "['A', 'h', 'r', 'n', ' ', 'A', 'k', 'd', '1', '0']\n"
     ]
    }
   ],
   "source": [
    "l=[10,20,30,40]\n",
    "S=\"Ahrn Akd10\"\n",
    "L=list(S)\n",
    "print l\n",
    "print S\n",
    "print L"
   ]
  },
  {
   "cell_type": "code",
   "execution_count": 6,
   "metadata": {},
   "outputs": [
    {
     "name": "stdout",
     "output_type": "stream",
     "text": [
      "[10, 20, 30, 40, 50, 60]\n",
      "None\n"
     ]
    }
   ],
   "source": [
    "l=[10,20,30,40]\n",
    "l.append(50)\n",
    "l1=l.append(60)\n",
    "print l\n",
    "print l1\n"
   ]
  },
  {
   "cell_type": "code",
   "execution_count": 7,
   "metadata": {},
   "outputs": [
    {
     "name": "stdout",
     "output_type": "stream",
     "text": [
      "[10, 20, 30, [20, 40, 50]]\n",
      "[20, 40, 50]\n"
     ]
    }
   ],
   "source": [
    "l=[10,20,30]\n",
    "l1=[20,40,50]\n",
    "l.append(l1)\n",
    "print l\n",
    "print l1"
   ]
  },
  {
   "cell_type": "code",
   "execution_count": 8,
   "metadata": {},
   "outputs": [
    {
     "name": "stdout",
     "output_type": "stream",
     "text": [
      "[10, 20, 30, 'Arun']\n",
      "Arun\n"
     ]
    }
   ],
   "source": [
    "l=[10,20,30]\n",
    "l1=\"Arun\"\n",
    "l.append(l1)\n",
    "print l\n",
    "print l1"
   ]
  },
  {
   "cell_type": "code",
   "execution_count": 9,
   "metadata": {},
   "outputs": [
    {
     "ename": "TypeError",
     "evalue": "append() takes exactly one argument (2 given)",
     "output_type": "error",
     "traceback": [
      "\u001b[1;31m---------------------------------------------------------------------------\u001b[0m",
      "\u001b[1;31mTypeError\u001b[0m                                 Traceback (most recent call last)",
      "\u001b[1;32m<ipython-input-9-8ada96f7ba40>\u001b[0m in \u001b[0;36m<module>\u001b[1;34m()\u001b[0m\n\u001b[0;32m      1\u001b[0m \u001b[0ml\u001b[0m\u001b[1;33m=\u001b[0m\u001b[1;33m[\u001b[0m\u001b[1;36m10\u001b[0m\u001b[1;33m,\u001b[0m\u001b[1;36m20\u001b[0m\u001b[1;33m,\u001b[0m\u001b[1;36m30\u001b[0m\u001b[1;33m,\u001b[0m\u001b[1;36m40\u001b[0m\u001b[1;33m]\u001b[0m\u001b[1;33m\u001b[0m\u001b[0m\n\u001b[1;32m----> 2\u001b[1;33m \u001b[0ml\u001b[0m\u001b[1;33m.\u001b[0m\u001b[0mappend\u001b[0m\u001b[1;33m(\u001b[0m\u001b[1;36m50\u001b[0m\u001b[1;33m,\u001b[0m\u001b[1;36m60\u001b[0m\u001b[1;33m)\u001b[0m\u001b[1;33m\u001b[0m\u001b[0m\n\u001b[0m\u001b[0;32m      3\u001b[0m \u001b[1;32mprint\u001b[0m \u001b[0ml\u001b[0m\u001b[1;33m\u001b[0m\u001b[0m\n\u001b[0;32m      4\u001b[0m \u001b[1;33m\u001b[0m\u001b[0m\n",
      "\u001b[1;31mTypeError\u001b[0m: append() takes exactly one argument (2 given)"
     ]
    }
   ],
   "source": [
    "l=[10,20,30,40]\n",
    "l.append(50,60)\n",
    "print l\n",
    "\n"
   ]
  },
  {
   "cell_type": "code",
   "execution_count": 25,
   "metadata": {},
   "outputs": [
    {
     "name": "stdout",
     "output_type": "stream",
     "text": [
      "['python', 'PYTHON']\n",
      "['python', 'PYTHON']\n",
      "['PYTHON', 'PYTHON']\n",
      "2\n"
     ]
    }
   ],
   "source": [
    "l=[\"python\",\"PYTHON\"]\n",
    "s=str(l)\n",
    "l1=s.upper()\n",
    "cnt=l1.count(\"PYTHON\")\n",
    "print l\n",
    "print s\n",
    "print l1\n",
    "print cnt\n",
    "\n",
    "\n",
    "\n",
    "\n",
    "\n",
    "\n"
   ]
  },
  {
   "cell_type": "code",
   "execution_count": 39,
   "metadata": {},
   "outputs": [
    {
     "name": "stdout",
     "output_type": "stream",
     "text": [
      "python\n",
      "cpp\n",
      "cpp\n",
      "bng\n",
      "python\n",
      "python\n",
      "python\n",
      "python\n",
      "['cpp', 'cpp', 'bng', 'python', 'python', 'python', 'python']\n",
      "4\n"
     ]
    }
   ],
   "source": [
    "# the best approach for the above problem.\n",
    "l=[\"cpp\",\"cPP\",\"BNG\",\"Python\",\"PYTHON\",\"python\",\"pyTHoN\"]\n",
    "sub=\"PYthon\"\n",
    "sub_1=sub.lower()\n",
    "rec=[]\n",
    "print sub_1\n",
    "for i in l:\n",
    "    print i.lower()\n",
    "    rec.append(i.lower())\n",
    "print rec\n",
    "print rec.count(sub_1)\n"
   ]
  },
  {
   "cell_type": "code",
   "execution_count": 42,
   "metadata": {},
   "outputs": [
    {
     "name": "stdout",
     "output_type": "stream",
     "text": [
      "done\n",
      "[20, 30, 20, 30, 20, 30]\n"
     ]
    }
   ],
   "source": [
    "l=[10,20,30,10,20,30,10,20,30]\n",
    "for i in l:\n",
    "    if i==10:\n",
    "        l.remove(10)\n",
    "else:\n",
    "    print\"done\"\n",
    "print l\n",
    "\n",
    "    "
   ]
  },
  {
   "cell_type": "code",
   "execution_count": null,
   "metadata": {
    "collapsed": true
   },
   "outputs": [],
   "source": []
  }
 ],
 "metadata": {
  "kernelspec": {
   "display_name": "Python 2",
   "language": "python",
   "name": "python2"
  },
  "language_info": {
   "codemirror_mode": {
    "name": "ipython",
    "version": 2
   },
   "file_extension": ".py",
   "mimetype": "text/x-python",
   "name": "python",
   "nbconvert_exporter": "python",
   "pygments_lexer": "ipython2",
   "version": "2.7.14"
  }
 },
 "nbformat": 4,
 "nbformat_minor": 2
}
