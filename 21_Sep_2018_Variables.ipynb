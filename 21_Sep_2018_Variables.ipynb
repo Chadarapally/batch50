{
 "cells": [
  {
   "cell_type": "code",
   "execution_count": 1,
   "metadata": {
    "collapsed": true
   },
   "outputs": [],
   "source": [
    "s1=\"python1\"\n",
    "s2=s1\n",
    "s3=\"java\"\n",
    "s4=\"python1\"\n",
    "s5=\"apple\""
   ]
  },
  {
   "cell_type": "code",
   "execution_count": 2,
   "metadata": {},
   "outputs": [
    {
     "name": "stdout",
     "output_type": "stream",
     "text": [
      "rabbit\n"
     ]
    }
   ],
   "source": [
    "s1=\"rabbit\"\n",
    "s2=s1\n",
    "s1=\"apple\"\n",
    "print s2"
   ]
  },
  {
   "cell_type": "code",
   "execution_count": 4,
   "metadata": {},
   "outputs": [
    {
     "name": "stdout",
     "output_type": "stream",
     "text": [
      "a\n",
      "a\n",
      "47066928\n",
      "47066928\n"
     ]
    }
   ],
   "source": [
    "s1=\"rabbit\"\n",
    "s2=s1\n",
    "s1=\"apple\"\n",
    "print s1[0]\n",
    "print s2[1]\n",
    "print id(s1[0])\n",
    "print id(s2[1])\n"
   ]
  },
  {
   "cell_type": "code",
   "execution_count": 6,
   "metadata": {},
   "outputs": [
    {
     "name": "stdout",
     "output_type": "stream",
     "text": [
      " \n",
      "n\n"
     ]
    }
   ],
   "source": [
    "s1=\"python program\"\n",
    "print s1[6]\n",
    "print s1[5]"
   ]
  },
  {
   "cell_type": "raw",
   "metadata": {},
   "source": []
  },
  {
   "cell_type": "code",
   "execution_count": 7,
   "metadata": {
    "scrolled": true
   },
   "outputs": [
    {
     "name": "stdout",
     "output_type": "stream",
     "text": [
      "47066808\n",
      "47002488\n"
     ]
    }
   ],
   "source": [
    "s1=\"Python1\"\n",
    "s2=s1\n",
    "s1=\"python2\"\n",
    "print id(s2[0])\n",
    "print id(s1[0])"
   ]
  },
  {
   "cell_type": "code",
   "execution_count": 8,
   "metadata": {},
   "outputs": [
    {
     "name": "stdout",
     "output_type": "stream",
     "text": [
      "1000 <type 'int'>\n",
      "10.23 <type 'float'>\n",
      "python <type 'str'>\n",
      "[10, 20, 30] <type 'list'>\n",
      "(10, 20, 30) <type 'tuple'>\n",
      "{'age': 23, 'name': 'anil'} <type 'dict'>\n"
     ]
    }
   ],
   "source": [
    "a=1000\n",
    "print a,type(a)\n",
    "a=10.23\n",
    "print a,type(a)\n",
    "a=\"python\"\n",
    "print a,type(a)\n",
    "a=[10,20,30]\n",
    "print a,type(a)\n",
    "a=(10,20,30)\n",
    "print a,type(a)\n",
    "a={\"name\":\"anil\",\"age\":23}\n",
    "print a,type(a)"
   ]
  },
  {
   "cell_type": "code",
   "execution_count": null,
   "metadata": {
    "collapsed": true
   },
   "outputs": [],
   "source": []
  }
 ],
 "metadata": {
  "kernelspec": {
   "display_name": "Python 2",
   "language": "python",
   "name": "python2"
  },
  "language_info": {
   "codemirror_mode": {
    "name": "ipython",
    "version": 2
   },
   "file_extension": ".py",
   "mimetype": "text/x-python",
   "name": "python",
   "nbconvert_exporter": "python",
   "pygments_lexer": "ipython2",
   "version": "2.7.14"
  }
 },
 "nbformat": 4,
 "nbformat_minor": 2
}
