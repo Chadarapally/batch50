{
 "cells": [
  {
   "cell_type": "code",
   "execution_count": 1,
   "metadata": {
    "collapsed": true
   },
   "outputs": [],
   "source": [
    "f=open(\"data.csv\",\"w\")"
   ]
  },
  {
   "cell_type": "code",
   "execution_count": 2,
   "metadata": {
    "collapsed": true
   },
   "outputs": [],
   "source": [
    "f.write(\"Arun kumar\")"
   ]
  },
  {
   "cell_type": "code",
   "execution_count": 3,
   "metadata": {
    "collapsed": true
   },
   "outputs": [],
   "source": [
    "f.close()"
   ]
  },
  {
   "cell_type": "code",
   "execution_count": 15,
   "metadata": {
    "collapsed": true
   },
   "outputs": [],
   "source": [
    "f=open(\"data.csv\",\"w\")\n",
    "f.write(\"PYTHON\")\n",
    "f.close()\n"
   ]
  },
  {
   "cell_type": "code",
   "execution_count": 18,
   "metadata": {
    "collapsed": true
   },
   "outputs": [],
   "source": [
    "f=open(\"data.csv\",\"w\")\n",
    "f.write(\"Arun,24,12345\\n\")\n",
    "f.write(\"Ashok,23,4567\")\n",
    "f.flush()\n"
   ]
  },
  {
   "cell_type": "code",
   "execution_count": 20,
   "metadata": {
    "collapsed": true
   },
   "outputs": [],
   "source": [
    "# To add the data to existing file \n",
    "f=open(\"data.csv\",\"a\")\n",
    "f.write(\"\\nPraveen,25,2345\")\n",
    "f.flush()"
   ]
  },
  {
   "cell_type": "code",
   "execution_count": 22,
   "metadata": {
    "collapsed": true
   },
   "outputs": [],
   "source": [
    "l=[\"\\nAmara,25,12345\",\"\\nKrishna,25,23456\",\"\\nSatya,56,23456\"]\n",
    "f=open(\"data.csv\",\"a\")\n",
    "f.writelines(l)\n",
    "f.close()\n"
   ]
  },
  {
   "cell_type": "code",
   "execution_count": 23,
   "metadata": {
    "collapsed": true
   },
   "outputs": [],
   "source": [
    "l=[\"\\nAmara,25,12345\",\"\\nKrishna,25,23456\",\"\\nSatya,56,23456\"]\n",
    "f=open(\"data.csv\",\"a\")\n",
    "f.writelines(l)\n",
    "f.flush()"
   ]
  },
  {
   "cell_type": "code",
   "execution_count": null,
   "metadata": {
    "collapsed": true
   },
   "outputs": [],
   "source": [
    "d=[{\"name\":\"Arun\",\"Age:23\",\"name\":\"kumar\",\"Age\":30}]"
   ]
  },
  {
   "cell_type": "code",
   "execution_count": 24,
   "metadata": {},
   "outputs": [
    {
     "name": "stdout",
     "output_type": "stream",
     "text": [
      "Arun,24,12345\n",
      "Ashok,23,4567Praveen,25,2345\n",
      "Praveen,25,2345Amara,25,12345Krishna,25,23456Satya,56,23456\n",
      "Amara,25,12345\n",
      "Krishna,25,23456\n",
      "Satya,56,23456\n",
      "Amara,25,12345\n",
      "Krishna,25,23456\n",
      "Satya,56,23456\n"
     ]
    }
   ],
   "source": [
    "f=open(\"data.csv\",\"r\")\n",
    "data=f.read()\n",
    "print data"
   ]
  },
  {
   "cell_type": "code",
   "execution_count": 25,
   "metadata": {},
   "outputs": [
    {
     "data": {
      "text/plain": [
       "str"
      ]
     },
     "execution_count": 25,
     "metadata": {},
     "output_type": "execute_result"
    }
   ],
   "source": [
    "type(data)"
   ]
  },
  {
   "cell_type": "code",
   "execution_count": 26,
   "metadata": {},
   "outputs": [
    {
     "name": "stdout",
     "output_type": "stream",
     "text": [
      "['Arun,24,12345\\n', 'Ashok,23,4567Praveen,25,2345\\n', 'Praveen,25,2345Amara,25,12345Krishna,25,23456Satya,56,23456\\n', 'Amara,25,12345\\n', 'Krishna,25,23456\\n', 'Satya,56,23456\\n', 'Amara,25,12345\\n', 'Krishna,25,23456\\n', 'Satya,56,23456']\n"
     ]
    }
   ],
   "source": [
    "f=open(\"data.csv\",\"r\")\n",
    "data=f.readlines()\n",
    "print data"
   ]
  },
  {
   "cell_type": "code",
   "execution_count": 28,
   "metadata": {},
   "outputs": [
    {
     "name": "stdout",
     "output_type": "stream",
     "text": [
      "Arun,24,12345\n",
      "Ashok,23,4567Praveen,25,2345\n",
      "Praveen,25,2345Amara,25,12345Krishna,25,23456Satya,56,23456\n",
      "Amara,25,12345\n",
      "Krishna,25,23456\n",
      "Satya,56,23456\n",
      "Amara,25,12345\n",
      "Krishna,25,23456\n",
      "Satya,56,23456\n",
      "\n"
     ]
    }
   ],
   "source": [
    "f=open(\"data.csv\",\"r\")\n",
    "data=f.read()\n",
    "data1=f.read()\n",
    "print data\n",
    "print data1\n"
   ]
  },
  {
   "cell_type": "code",
   "execution_count": 29,
   "metadata": {},
   "outputs": [
    {
     "name": "stdout",
     "output_type": "stream",
     "text": [
      "0\n",
      "Arun,24,12345\n",
      "Ashok,\n",
      "21\n"
     ]
    }
   ],
   "source": [
    "f=open(\"data.csv\",\"r\")\n",
    "print f.tell()\n",
    "data=f.read(20)\n",
    "print data\n",
    "print f.tell()"
   ]
  },
  {
   "cell_type": "code",
   "execution_count": 30,
   "metadata": {},
   "outputs": [
    {
     "name": "stdout",
     "output_type": "stream",
     "text": [
      "0\n",
      "Arun,24,12\n",
      "10\n",
      "345\n",
      "Ashok,23,4567Pra\n",
      "31\n"
     ]
    }
   ],
   "source": [
    "f=open(\"data.csv\",\"r\")\n",
    "print f.tell()\n",
    "data=f.read(10)\n",
    "print data\n",
    "print f.tell()\n",
    "data1=f.read(20)\n",
    "print data1\n",
    "print f.tell()"
   ]
  },
  {
   "cell_type": "code",
   "execution_count": 2,
   "metadata": {
    "collapsed": true
   },
   "outputs": [],
   "source": [
    "# Practice\n",
    "f=open(\"data1\",\"w\")\n",
    "f.write(\"Arun Kumar\")\n",
    "f.close()"
   ]
  },
  {
   "cell_type": "code",
   "execution_count": 3,
   "metadata": {
    "collapsed": true
   },
   "outputs": [],
   "source": [
    "# Practice\n",
    "f=open(\"data1\",\"w\")\n",
    "f.write(\"Python\")\n",
    "f.close()"
   ]
  },
  {
   "cell_type": "code",
   "execution_count": 11,
   "metadata": {},
   "outputs": [],
   "source": [
    "# Practice\n",
    "f=open(\"data1\",\"a\")\n",
    "f.write(\"\\n Arun Kumar\")\n",
    "f.close()"
   ]
  },
  {
   "cell_type": "code",
   "execution_count": 14,
   "metadata": {},
   "outputs": [],
   "source": [
    "# Practice\n",
    "l=[\"\\n swetha\",\"\\nIksha\",\"\\nVedh\"]\n",
    "f=open(\"data1\",\"a\")\n",
    "f.writelines(l)\n",
    "f.close()"
   ]
  },
  {
   "cell_type": "code",
   "execution_count": 15,
   "metadata": {},
   "outputs": [
    {
     "name": "stdout",
     "output_type": "stream",
     "text": [
      "Python\n",
      " Arun Kumar\n",
      " swetha\n",
      "Iksha\n",
      "Vedh\n"
     ]
    }
   ],
   "source": [
    "# Practice\n",
    "f=open(\"data1\",\"r\")\n",
    "data=f.read()\n",
    "print data"
   ]
  },
  {
   "cell_type": "code",
   "execution_count": 17,
   "metadata": {},
   "outputs": [
    {
     "name": "stdout",
     "output_type": "stream",
     "text": [
      "Pytho\n",
      "n\n",
      " Arun Ku\n"
     ]
    }
   ],
   "source": [
    "# Practice\n",
    "f=open(\"data1\",\"r\")\n",
    "data=f.read(5)\n",
    "print data\n",
    "data=f.read(10)\n",
    "print data"
   ]
  },
  {
   "cell_type": "code",
   "execution_count": 20,
   "metadata": {},
   "outputs": [
    {
     "name": "stdout",
     "output_type": "stream",
     "text": [
      "Pytho\n",
      "5\n",
      "n\n",
      " Arun Ku\n",
      "16\n"
     ]
    }
   ],
   "source": [
    "# Practice\n",
    "f=open(\"data1\",\"r\")\n",
    "data=f.read(5)\n",
    "print data\n",
    "print f.tell()\n",
    "data=f.read(10)\n",
    "print data\n",
    "print f.tell()"
   ]
  },
  {
   "cell_type": "code",
   "execution_count": 21,
   "metadata": {},
   "outputs": [
    {
     "name": "stdout",
     "output_type": "stream",
     "text": [
      "a\n"
     ]
    }
   ],
   "source": [
    "print \"a\""
   ]
  },
  {
   "cell_type": "code",
   "execution_count": null,
   "metadata": {
    "collapsed": true
   },
   "outputs": [],
   "source": []
  }
 ],
 "metadata": {
  "kernelspec": {
   "display_name": "Python 2",
   "language": "python",
   "name": "python2"
  },
  "language_info": {
   "codemirror_mode": {
    "name": "ipython",
    "version": 2
   },
   "file_extension": ".py",
   "mimetype": "text/x-python",
   "name": "python",
   "nbconvert_exporter": "python",
   "pygments_lexer": "ipython2",
   "version": "2.7.14"
  }
 },
 "nbformat": 4,
 "nbformat_minor": 2
}
